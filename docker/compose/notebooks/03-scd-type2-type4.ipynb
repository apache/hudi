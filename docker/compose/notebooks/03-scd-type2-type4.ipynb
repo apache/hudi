{
 "cells": [
  {
   "cell_type": "code",
   "execution_count": 1,
   "id": "96712024-8249-461b-9741-bbff04fbab96",
   "metadata": {},
   "outputs": [],
   "source": [
    "#  Licensed to the Apache Software Foundation (ASF) under one\n",
    "#  or more contributor license agreements.  See the NOTICE file\n",
    "#  distributed with this work for additional information\n",
    "#  regarding copyright ownership.  The ASF licenses this file\n",
    "#  to you under the Apache License, Version 2.0 (the\n",
    "#  \"License\"); you may not use this file except in compliance\n",
    "#  with the License.  You may obtain a copy of the License at\n",
    "#\n",
    "#      http://www.apache.org/licenses/LICENSE-2.0\n",
    "#\n",
    "#  Unless required by applicable law or agreed to in writing, software\n",
    "#  distributed under the License is distributed on an \"AS IS\" BASIS,\n",
    "#  WITHOUT WARRANTIES OR CONDITIONS OF ANY KIND, either express or implied.\n",
    "#  See the License for the specific language governing permissions and\n",
    "# limitations under the License."
   ]
  },
  {
   "cell_type": "markdown",
   "id": "e6a1fd2b-fd89-451e-9957-193e63ca1a53",
   "metadata": {},
   "source": [
    "# Implementing Slowly Changing Dimensions (SCD Type 2 & 4) with Apache Hudi\n",
    "Welcome to this deep dive into implementing two common data warehousing patterns - Slowly Changing Dimensions (SCD) Type 2 and Type 4 using Apache Hudi."
   ]
  },
  {
   "cell_type": "markdown",
   "id": "09f4abf1-f110-4f39-a6b5-3eaa2768cb18",
   "metadata": {},
   "source": [
    "SCDs are used to handle changes to dimension data over time. Instead of simply updating a record, which would lose historical context, SCDs allow us to track changes. Hudi's powerful upsert capabilities and metadata features make it an ideal tool for this kind of workload, simplifying what would otherwise be a complex process.\n",
    "\n",
    "In this notebook, we will cover:\n",
    "\n",
    "**SCD Type 2:** Tracking changes by adding new rows to the dimension table.\n",
    "\n",
    "**SCD Type 4:** Storing historical data in a separate history table."
   ]
  },
  {
   "cell_type": "markdown",
   "id": "df2ba054-de4b-4a70-9c0e-f97e46bffe9e",
   "metadata": {},
   "source": [
    "## Setting up the Environment\n",
    "First, we begin by importing our necessary libraries and starting a SparkSession configured to work with Hudi and MinIO."
   ]
  },
  {
   "cell_type": "code",
   "execution_count": 16,
   "id": "264e07c6-14d2-46af-ab3c-4a400dd240e2",
   "metadata": {},
   "outputs": [
    {
     "name": "stdout",
     "output_type": "stream",
     "text": [
      "SparkSession started with app name: Hudi-Notebooks\n"
     ]
    }
   ],
   "source": [
    "%run utils.py"
   ]
  },
  {
   "cell_type": "markdown",
   "id": "28557970-caa9-453e-8e03-879fcd69a691",
   "metadata": {},
   "source": [
    "## Implementing SCD Type 2 with Hudi\n",
    "SCD Type 2 is a method for tracking history by creating a new row for each change to a dimension record. The old row is marked as inactive, and the new row becomes the current record. This is perfect for capturing a full history of changes, such as a customer's address or a product's price.\n",
    "\n",
    "We will add two fields to track the history:\n",
    "- **end_date:** A timestamp marking when a record's version became inactive.\n",
    "- **current_flag:** A boolean flag that is true for the most recent version and false for older versions."
   ]
  },
  {
   "cell_type": "markdown",
   "id": "b9172f33-c96a-471e-8654-adb51d8a4a4b",
   "metadata": {},
   "source": [
    "## Data and Hudi Configuration for SCD Type 2\n",
    "First, let's define our initial dataset. These records will be the starting point for our SCD Type 2 table."
   ]
  },
  {
   "cell_type": "code",
   "execution_count": 3,
   "id": "fcb25f95-87c4-454d-a50d-c13c87619f84",
   "metadata": {},
   "outputs": [],
   "source": [
    "from pyspark.sql.types import StructType, StructField, StringType, DoubleType, BooleanType\n",
    "from pyspark.sql.functions import col, lit, concat_ws\n",
    "\n",
    "scd2_data = [\n",
    "    (\"2025-08-10 08:15:30\", \"uuid-001\", \"rider-A\", \"driver-X\", 18.50, \"new_york\"),\n",
    "    (\"2025-08-10 09:22:10\", \"uuid-002\", \"rider-B\", \"driver-Y\", 22.75, \"san_francisco\"),\n",
    "    (\"2025-08-10 10:05:45\", \"uuid-003\", \"rider-C\", \"driver-Z\", 14.60, \"chicago\")\n",
    "]\n",
    "columns = [\"ts\", \"uuid\", \"rider\", \"driver\", \"fare\", \"city\"]\n",
    "\n",
    "scd2_initial_df = spark.createDataFrame(scd2_data, columns) \\\n",
    "    .withColumn(\"effective_date\", col(\"ts\")) \\\n",
    "    .withColumn(\"end_date\", lit(None).cast(StringType())) \\\n",
    "    .withColumn(\"current_flag\", lit(True).cast(BooleanType())) \\\n",
    "    .withColumn(\"record_key\", concat_ws(\"_\", col(\"uuid\"), col(\"ts\")))"
   ]
  },
  {
   "cell_type": "markdown",
   "id": "ef41d6a9-e57c-418d-b340-84e88eead6df",
   "metadata": {},
   "source": [
    "Now, let's configure our Hudi table for SCD Type 2. The key here is that our recordkey must be a unique identifier for each version of a record. To achieve this, we'll create a composite key using user_id and effective_date. We will also enable Change Data Capture to demonstrate its functionality later on."
   ]
  },
  {
   "cell_type": "code",
   "execution_count": 4,
   "id": "245ffb2d-4c21-4bb8-bbd4-e56dbcbf254a",
   "metadata": {},
   "outputs": [
    {
     "name": "stdout",
     "output_type": "stream",
     "text": [
      "# WARNING: Unable to get Instrumentation. Dynamic Attach failed. You may add this JAR as -javaagent manually, or supply -Djdk.attach.allowAttachSelf\n",
      "# WARNING: Unable to get Instrumentation. Dynamic Attach failed. You may add this JAR as -javaagent manually, or supply -Djdk.attach.allowAttachSelf\n",
      "# WARNING: Unable to attach Serviceability Agent. Unable to attach even with module exceptions: [org.apache.hudi.org.openjdk.jol.vm.sa.SASupportException: Sense failed., org.apache.hudi.org.openjdk.jol.vm.sa.SASupportException: Sense failed., org.apache.hudi.org.openjdk.jol.vm.sa.SASupportException: Sense failed.]\n",
      "# WARNING: Unable to attach Serviceability Agent. Unable to attach even with module exceptions: [org.apache.hudi.org.openjdk.jol.vm.sa.SASupportException: Sense failed., org.apache.hudi.org.openjdk.jol.vm.sa.SASupportException: Sense failed., org.apache.hudi.org.openjdk.jol.vm.sa.SASupportException: Sense failed.]\n",
      "# WARNING: Unable to attach Serviceability Agent. Unable to attach even with module exceptions: [org.apache.hudi.org.openjdk.jol.vm.sa.SASupportException: Sense failed., org.apache.hudi.org.openjdk.jol.vm.sa.SASupportException: Sense failed., org.apache.hudi.org.openjdk.jol.vm.sa.SASupportException: Sense failed.]\n"
     ]
    }
   ],
   "source": [
    "scd2_table_name = \"trips_scd2\"\n",
    "base_path = \"s3a://warehouse/hudi-scd2\"\n",
    "\n",
    "scd2_hudi_conf = {\n",
    "    \"hoodie.table.name\": scd2_table_name,\n",
    "    \"hoodie.datasource.write.recordkey.field\": \"record_key\",\n",
    "    \"hoodie.datasource.write.table.type\": \"COPY_ON_WRITE\",\n",
    "    \"hoodie.datasource.write.precombine.field\": \"effective_date\",\n",
    "    \"hoodie.table.cdc.enabled\": \"true\",\n",
    "    \"hoodie.datasource.write.hive_style_partitioning\": \"true\"\n",
    "}\n",
    "\n",
    "scd2_initial_df.write.format(\"hudi\") \\\n",
    "    .options(**scd2_hudi_conf) \\\n",
    "    .mode(\"overwrite\") \\\n",
    "    .save(f\"{base_path}/{scd2_table_name}\")\n",
    "\n",
    "spark.read.format(\"hudi\").load(f\"{base_path}/{scd2_table_name}\").createOrReplaceTempView(scd2_table_name)"
   ]
  },
  {
   "cell_type": "markdown",
   "id": "57913810-da34-4dfb-928c-b8f2b8d7cb51",
   "metadata": {},
   "source": [
    "Let's look at the initial state of our table. You should see two records, both with current_flag set to True and a null end_date, indicating they are the most current version."
   ]
  },
  {
   "cell_type": "code",
   "execution_count": 5,
   "id": "b47fb4d9-8930-483e-bd98-ee7ca66942ed",
   "metadata": {},
   "outputs": [
    {
     "data": {
      "text/html": [
       "\n",
       "    <style>\n",
       "        .dataframe {\n",
       "            border-radius: 0.5rem;\n",
       "            box-shadow: 0 4px 6px -1px rgba(0, 0, 0, 0.1), 0 2px 4px -1px rgba(0, 0, 0, 0.06);\n",
       "            overflow-x: auto;\n",
       "            border: 1px solid #e2e8f0;\n",
       "        }\n",
       "        .dataframe th {\n",
       "            background-color: #f1f5f9;\n",
       "            color: #1f2937;\n",
       "            font-weight: 600;\n",
       "            padding: 0.75rem 1.5rem;\n",
       "            text-align: left;\n",
       "            border-bottom: 2px solid #e2e8f0;\n",
       "        }\n",
       "        .dataframe td {\n",
       "            padding: 0.75rem 1.5rem;\n",
       "            border-bottom: 1px solid #e2e8f0;\n",
       "        }\n",
       "        .dataframe tr:nth-child(even) {\n",
       "            background-color: #f8fafc;\n",
       "        }\n",
       "        .dataframe tr:hover {\n",
       "            background-color: #e2e8f0;\n",
       "            transition: background-color 0.2s ease-in-out;\n",
       "        }\n",
       "    </style>\n",
       "    <table border=\"1\" class=\"dataframe w-full border-collapse text-sm text-gray-900 dark:text-white\">\n",
       "  <thead>\n",
       "    <tr style=\"text-align: right;\">\n",
       "      <th>uuid</th>\n",
       "      <th>driver</th>\n",
       "      <th>fare</th>\n",
       "      <th>effective_date</th>\n",
       "      <th>end_date</th>\n",
       "      <th>current_flag</th>\n",
       "    </tr>\n",
       "  </thead>\n",
       "  <tbody>\n",
       "    <tr>\n",
       "      <td>uuid-001</td>\n",
       "      <td>driver-X</td>\n",
       "      <td>18.50</td>\n",
       "      <td>2025-08-10 08:15:30</td>\n",
       "      <td>None</td>\n",
       "      <td>True</td>\n",
       "    </tr>\n",
       "    <tr>\n",
       "      <td>uuid-002</td>\n",
       "      <td>driver-Y</td>\n",
       "      <td>22.75</td>\n",
       "      <td>2025-08-10 09:22:10</td>\n",
       "      <td>None</td>\n",
       "      <td>True</td>\n",
       "    </tr>\n",
       "    <tr>\n",
       "      <td>uuid-003</td>\n",
       "      <td>driver-Z</td>\n",
       "      <td>14.60</td>\n",
       "      <td>2025-08-10 10:05:45</td>\n",
       "      <td>None</td>\n",
       "      <td>True</td>\n",
       "    </tr>\n",
       "  </tbody>\n",
       "</table>"
      ],
      "text/plain": [
       "<IPython.core.display.HTML object>"
      ]
     },
     "metadata": {},
     "output_type": "display_data"
    }
   ],
   "source": [
    "scd2_df = spark.sql(f\"SELECT uuid, driver, fare, effective_date, end_date, current_flag FROM {scd2_table_name} ORDER BY effective_date\")\n",
    "display(scd2_df)"
   ]
  },
  {
   "cell_type": "markdown",
   "id": "522cfbce-fc52-46f3-bf95-9b75e515d211",
   "metadata": {},
   "source": [
    "Now, we'll simulate a change. We'll update the city for uuid-001 to \"boston\" and change the fare to 20.00."
   ]
  },
  {
   "cell_type": "code",
   "execution_count": 6,
   "id": "03170320-6124-4036-b779-0f89f15d3b1a",
   "metadata": {},
   "outputs": [],
   "source": [
    "# Create a new DataFrame with the updated record for uuid-001\n",
    "scd2_update_data = [\n",
    "    (\"uuid-001\", \"driver-X\", 20.00, \"2025-08-10 08:30:00\", \"boston\")\n",
    "]\n",
    "scd2_update_df = spark.createDataFrame(scd2_update_data, [\"uuid\", \"driver\", \"fare\", \"effective_date\", \"city\"])"
   ]
  },
  {
   "cell_type": "markdown",
   "id": "e339ba84-241e-4319-af3f-37611c5a2fbc",
   "metadata": {},
   "source": [
    "To implement the SCD Type 2 logic, we first need to identify and \"expire\" the old records. We do this by finding the records that have the same user_id but a different city in the incoming data."
   ]
  },
  {
   "cell_type": "code",
   "execution_count": 7,
   "id": "e8ab30b7-12d8-4b0c-baf1-1364ce6fe027",
   "metadata": {},
   "outputs": [],
   "source": [
    "from pyspark.sql.functions import to_timestamp, current_timestamp\n",
    "\n",
    "# Load the existing table and join with the incoming updates\n",
    "existing_df = spark.read.format(\"hudi\").load(f\"{base_path}/{scd2_table_name}\")\n",
    "\n",
    "# Find records in the existing table that need to be expired\n",
    "expired_df = existing_df.alias(\"old\") \\\n",
    "    .join(scd2_update_df.alias(\"new\"), \"uuid\") \\\n",
    "    .filter((col(\"old.city\") != col(\"new.city\")) | (col(\"old.fare\") != col(\"new.fare\"))) \\\n",
    "    .withColumn(\"end_date\", col(\"new.effective_date\")) \\\n",
    "    .withColumn(\"current_flag\", lit(False)) \\\n",
    "    .withColumn(\"record_key\", concat_ws(\"_\", col(\"old.uuid\"), col(\"old.effective_date\"))) \\\n",
    "    .select(\n",
    "        col(\"old.ts\"), col(\"old.uuid\"), col(\"old.rider\"), col(\"old.driver\"),\n",
    "        col(\"old.fare\"), col(\"old.city\"), col(\"old.effective_date\"),\n",
    "        col(\"end_date\"), col(\"current_flag\"), col(\"record_key\")\n",
    "    )\n",
    "\n",
    "# Constructing the new version of the record with all original columns\n",
    "new_version_df = existing_df.alias(\"old\") \\\n",
    "    .join(scd2_update_df.alias(\"new\"), \"uuid\") \\\n",
    "    .select(\n",
    "        col(\"old.ts\"), col(\"old.uuid\"), col(\"old.rider\"), col(\"new.driver\"),\n",
    "        col(\"new.fare\"), col(\"new.city\"), col(\"new.effective_date\"),\n",
    "        lit(None).cast(StringType()).alias(\"end_date\"),\n",
    "        lit(True).cast(BooleanType()).alias(\"current_flag\")\n",
    "    ) \\\n",
    "    .withColumn(\"record_key\", concat_ws(\"_\", col(\"uuid\"), col(\"effective_date\")))\n",
    "\n",
    "\n",
    "# Combine the new and expired records for the upsert\n",
    "scd2_upsert_df = expired_df.union(new_version_df)"
   ]
  },
  {
   "cell_type": "markdown",
   "id": "5483c0fc-7d23-4740-86c8-b99e60825bd5",
   "metadata": {},
   "source": [
    "Finally, we perform the upsert with our combined DataFrame. This will automatically update the old record and insert the new one, all in a single atomic transaction."
   ]
  },
  {
   "cell_type": "code",
   "execution_count": 8,
   "id": "b3d5aab1-65e1-475f-967e-5f65df760de2",
   "metadata": {},
   "outputs": [],
   "source": [
    "scd2_upsert_df.write.format(\"hudi\") \\\n",
    "    .options(**scd2_hudi_conf) \\\n",
    "    .mode(\"append\") \\\n",
    "    .save(f\"{base_path}/{scd2_table_name}\")"
   ]
  },
  {
   "cell_type": "markdown",
   "id": "4a8007fe-cb70-469f-814a-7cc1cefec853",
   "metadata": {},
   "source": [
    "Now, let's see the result! You should see two records for uuid-001: the old one with current_flag set to False and an end_date, and a new one with the updated city and current_flag set to True."
   ]
  },
  {
   "cell_type": "code",
   "execution_count": 9,
   "id": "a2e979ca-41d4-4c06-92b1-e038d0278577",
   "metadata": {},
   "outputs": [
    {
     "data": {
      "text/html": [
       "\n",
       "    <style>\n",
       "        .dataframe {\n",
       "            border-radius: 0.5rem;\n",
       "            box-shadow: 0 4px 6px -1px rgba(0, 0, 0, 0.1), 0 2px 4px -1px rgba(0, 0, 0, 0.06);\n",
       "            overflow-x: auto;\n",
       "            border: 1px solid #e2e8f0;\n",
       "        }\n",
       "        .dataframe th {\n",
       "            background-color: #f1f5f9;\n",
       "            color: #1f2937;\n",
       "            font-weight: 600;\n",
       "            padding: 0.75rem 1.5rem;\n",
       "            text-align: left;\n",
       "            border-bottom: 2px solid #e2e8f0;\n",
       "        }\n",
       "        .dataframe td {\n",
       "            padding: 0.75rem 1.5rem;\n",
       "            border-bottom: 1px solid #e2e8f0;\n",
       "        }\n",
       "        .dataframe tr:nth-child(even) {\n",
       "            background-color: #f8fafc;\n",
       "        }\n",
       "        .dataframe tr:hover {\n",
       "            background-color: #e2e8f0;\n",
       "            transition: background-color 0.2s ease-in-out;\n",
       "        }\n",
       "    </style>\n",
       "    <table border=\"1\" class=\"dataframe w-full border-collapse text-sm text-gray-900 dark:text-white\">\n",
       "  <thead>\n",
       "    <tr style=\"text-align: right;\">\n",
       "      <th>uuid</th>\n",
       "      <th>driver</th>\n",
       "      <th>fare</th>\n",
       "      <th>effective_date</th>\n",
       "      <th>end_date</th>\n",
       "      <th>city</th>\n",
       "      <th>current_flag</th>\n",
       "    </tr>\n",
       "  </thead>\n",
       "  <tbody>\n",
       "    <tr>\n",
       "      <td>uuid-001</td>\n",
       "      <td>driver-X</td>\n",
       "      <td>18.5</td>\n",
       "      <td>2025-08-10 08:15:30</td>\n",
       "      <td>2025-08-10 08:30:00</td>\n",
       "      <td>new_york</td>\n",
       "      <td>False</td>\n",
       "    </tr>\n",
       "    <tr>\n",
       "      <td>uuid-001</td>\n",
       "      <td>driver-X</td>\n",
       "      <td>20.0</td>\n",
       "      <td>2025-08-10 08:30:00</td>\n",
       "      <td>None</td>\n",
       "      <td>boston</td>\n",
       "      <td>True</td>\n",
       "    </tr>\n",
       "  </tbody>\n",
       "</table>"
      ],
      "text/plain": [
       "<IPython.core.display.HTML object>"
      ]
     },
     "metadata": {},
     "output_type": "display_data"
    }
   ],
   "source": [
    "spark.sql(f\"REFRESH TABLE {scd2_table_name}\")\n",
    "scd2_final_df = spark.sql(f\"SELECT uuid, driver, fare, effective_date, end_date, city, current_flag FROM {scd2_table_name} WHERE uuid = 'uuid-001' ORDER BY effective_date, current_flag DESC\")\n",
    "display(scd2_final_df)"
   ]
  },
  {
   "cell_type": "markdown",
   "id": "05c093ca-3b7b-47f7-9ee5-fb77b5fc0c2b",
   "metadata": {},
   "source": [
    "## Implementing SCD Type 4 with Hudi\n",
    "SCD Type 4 uses two tables: a main dimension table for the current state and a separate history table for all past versions. This keeps the main table lean and fast for queries."
   ]
  },
  {
   "cell_type": "markdown",
   "id": "7fa378ac-6d0d-401d-9d5b-d0516db83b5c",
   "metadata": {},
   "source": [
    "## Data and Hudi Configuration for SCD Type 4\n",
    "We'll use the same initial ride data for this example."
   ]
  },
  {
   "cell_type": "code",
   "execution_count": 10,
   "id": "26f33dca-eb56-4e82-b81a-c17c4ffcbffc",
   "metadata": {},
   "outputs": [],
   "source": [
    "scd4_data = [\n",
    "    (\"2025-08-10 08:15:30\", \"uuid-001\", \"rider-A\", \"driver-X\", 18.50, \"new_york\"),\n",
    "    (\"2025-08-10 09:22:10\", \"uuid-002\", \"rider-B\", \"driver-Y\", 22.75, \"san_francisco\")\n",
    "]\n",
    "scd4_columns = [\"ts\", \"uuid\", \"rider\", \"driver\", \"fare\", \"city\"]\n",
    "\n",
    "scd4_initial_df = spark.createDataFrame(scd4_data).toDF(*scd4_columns)"
   ]
  },
  {
   "cell_type": "markdown",
   "id": "a3313b6b-1d1d-43a0-a573-ddd9060095ac",
   "metadata": {},
   "source": [
    "Now, let's create two Hudi tables: a main one for the current data and a history table."
   ]
  },
  {
   "cell_type": "code",
   "execution_count": 11,
   "id": "ce129086-c67a-4c05-85aa-d3d58d825dc0",
   "metadata": {},
   "outputs": [],
   "source": [
    "scd4_dim_table_name = \"trips_dim_scd4\"\n",
    "scd4_history_table_name = \"trips_history_scd4\"\n",
    "base_path = \"s3a://warehouse/hudi-scd4\"\n",
    "\n",
    "scd4_hudi_dim_conf = {\n",
    "    \"hoodie.table.name\": scd4_dim_table_name,\n",
    "    \"hoodie.datasource.write.recordkey.field\": \"uuid\",\n",
    "    \"hoodie.datasource.write.table.type\": \"COPY_ON_WRITE\",\n",
    "    \"hoodie.datasource.write.precombine.field\": \"ts\"\n",
    "}\n",
    "\n",
    "scd4_hudi_history_conf = {\n",
    "    \"hoodie.table.name\": scd4_history_table_name,\n",
    "    \"hoodie.datasource.write.recordkey.field\": \"uuid\",\n",
    "    \"hoodie.datasource.write.table.type\": \"COPY_ON_WRITE\",\n",
    "    \"hoodie.datasource.write.precombine.field\": \"ts\"\n",
    "}\n",
    "\n",
    "scd4_initial_df.write.format(\"hudi\") \\\n",
    "    .options(**scd4_hudi_dim_conf) \\\n",
    "    .mode(\"overwrite\") \\\n",
    "    .save(f\"{base_path}/{scd4_dim_table_name}\")\n",
    "\n",
    "spark.read.format(\"hudi\").load(f\"{base_path}/{scd4_dim_table_name}\").createOrReplaceTempView(scd4_dim_table_name)"
   ]
  },
  {
   "cell_type": "markdown",
   "id": "c44cba07-7356-4776-bd2d-87a59116ee46",
   "metadata": {},
   "source": [
    "Let's simulate a change where the city for uuid-001 is updated."
   ]
  },
  {
   "cell_type": "code",
   "execution_count": 12,
   "id": "f528130d-aadd-4b91-af4f-ff4cc017e9d0",
   "metadata": {},
   "outputs": [],
   "source": [
    "scd4_update_data = [\n",
    "    (\"2025-08-10 08:30:00\", \"uuid-001\", \"rider-A\", \"driver-X\", 18.50, \"boston\")\n",
    "]\n",
    "scd4_update_df = spark.createDataFrame(scd4_update_data).toDF(*scd4_columns)"
   ]
  },
  {
   "cell_type": "markdown",
   "id": "1a6847ac-b827-442a-8d14-e1f04ec03224",
   "metadata": {},
   "source": [
    "To implement SCD Type 4, we first capture the \"before\" image of the record and write it to our history table."
   ]
  },
  {
   "cell_type": "code",
   "execution_count": 13,
   "id": "a6b82f57-f601-4a7a-a882-1938e11b0b2c",
   "metadata": {},
   "outputs": [],
   "source": [
    "current_dim_df = spark.read.format(\"hudi\").load(f\"{base_path}/{scd4_dim_table_name}\")\n",
    "\n",
    "# Find changed records (join + filter)\n",
    "changed_records_df = current_dim_df.alias(\"old\") \\\n",
    "    .join(scd4_update_df.alias(\"new\"), col(\"old.uuid\") == col(\"new.uuid\")) \\\n",
    "    .filter((col(\"old.driver\") != col(\"new.driver\")) | (col(\"old.fare\") != col(\"new.fare\")) | (col(\"old.city\") != col(\"new.city\"))) \\\n",
    "    .select(\"old.ts\", \"old.uuid\", \"old.rider\", \"old.driver\", \"old.fare\", \"old.city\")\n",
    "\n",
    "if changed_records_df.count() > 0:\n",
    "    history_ready_df = changed_records_df \\\n",
    "        .withColumn(\"uuid_ts\", col(\"uuid\") + \"_\" + col(\"ts\")) \\\n",
    "        .withColumn(\"operation\", lit(\"UPDATE\"))\n",
    "    \n",
    "    history_ready_df.write.format(\"hudi\") \\\n",
    "        .options(**scd4_hudi_history_conf) \\\n",
    "        .mode(\"append\") \\\n",
    "        .save(f\"{base_path}/{scd4_history_table_name}\")"
   ]
  },
  {
   "cell_type": "markdown",
   "id": "a3b2896e-0032-4fdd-bdc6-fc524c400dab",
   "metadata": {},
   "source": [
    "Finally, we update the main dimension table with the new data."
   ]
  },
  {
   "cell_type": "code",
   "execution_count": 14,
   "id": "31062212-ca7e-446f-a091-48d53f3c0396",
   "metadata": {},
   "outputs": [],
   "source": [
    "scd4_update_df.write.format(\"hudi\") \\\n",
    "    .options(**scd4_hudi_dim_conf) \\\n",
    "    .mode(\"append\") \\\n",
    "    .save(f\"{base_path}/{scd4_dim_table_name}\")"
   ]
  },
  {
   "cell_type": "markdown",
   "id": "c5e2cc91-fc23-4b6d-9c56-ebf43b8c6a89",
   "metadata": {},
   "source": [
    "Now, let's look at both our main dimension table and our new history table. The dimension table contains only the latest version, while the history table holds the previous version of the record."
   ]
  },
  {
   "cell_type": "code",
   "execution_count": 15,
   "id": "ea31129d-ff21-4b82-bc1f-56a86521241e",
   "metadata": {},
   "outputs": [
    {
     "name": "stdout",
     "output_type": "stream",
     "text": [
      "Current Dimension Table:\n"
     ]
    },
    {
     "data": {
      "text/html": [
       "\n",
       "    <style>\n",
       "        .dataframe {\n",
       "            border-radius: 0.5rem;\n",
       "            box-shadow: 0 4px 6px -1px rgba(0, 0, 0, 0.1), 0 2px 4px -1px rgba(0, 0, 0, 0.06);\n",
       "            overflow-x: auto;\n",
       "            border: 1px solid #e2e8f0;\n",
       "        }\n",
       "        .dataframe th {\n",
       "            background-color: #f1f5f9;\n",
       "            color: #1f2937;\n",
       "            font-weight: 600;\n",
       "            padding: 0.75rem 1.5rem;\n",
       "            text-align: left;\n",
       "            border-bottom: 2px solid #e2e8f0;\n",
       "        }\n",
       "        .dataframe td {\n",
       "            padding: 0.75rem 1.5rem;\n",
       "            border-bottom: 1px solid #e2e8f0;\n",
       "        }\n",
       "        .dataframe tr:nth-child(even) {\n",
       "            background-color: #f8fafc;\n",
       "        }\n",
       "        .dataframe tr:hover {\n",
       "            background-color: #e2e8f0;\n",
       "            transition: background-color 0.2s ease-in-out;\n",
       "        }\n",
       "    </style>\n",
       "    <table border=\"1\" class=\"dataframe w-full border-collapse text-sm text-gray-900 dark:text-white\">\n",
       "  <thead>\n",
       "    <tr style=\"text-align: right;\">\n",
       "      <th>uuid</th>\n",
       "      <th>driver</th>\n",
       "      <th>ts</th>\n",
       "      <th>fare</th>\n",
       "      <th>city</th>\n",
       "    </tr>\n",
       "  </thead>\n",
       "  <tbody>\n",
       "    <tr>\n",
       "      <td>uuid-001</td>\n",
       "      <td>driver-X</td>\n",
       "      <td>2025-08-10 08:30:00</td>\n",
       "      <td>18.50</td>\n",
       "      <td>boston</td>\n",
       "    </tr>\n",
       "    <tr>\n",
       "      <td>uuid-002</td>\n",
       "      <td>driver-Y</td>\n",
       "      <td>2025-08-10 09:22:10</td>\n",
       "      <td>22.75</td>\n",
       "      <td>san_francisco</td>\n",
       "    </tr>\n",
       "  </tbody>\n",
       "</table>"
      ],
      "text/plain": [
       "<IPython.core.display.HTML object>"
      ]
     },
     "metadata": {},
     "output_type": "display_data"
    },
    {
     "name": "stdout",
     "output_type": "stream",
     "text": [
      "History Table:\n"
     ]
    },
    {
     "data": {
      "text/html": [
       "\n",
       "    <style>\n",
       "        .dataframe {\n",
       "            border-radius: 0.5rem;\n",
       "            box-shadow: 0 4px 6px -1px rgba(0, 0, 0, 0.1), 0 2px 4px -1px rgba(0, 0, 0, 0.06);\n",
       "            overflow-x: auto;\n",
       "            border: 1px solid #e2e8f0;\n",
       "        }\n",
       "        .dataframe th {\n",
       "            background-color: #f1f5f9;\n",
       "            color: #1f2937;\n",
       "            font-weight: 600;\n",
       "            padding: 0.75rem 1.5rem;\n",
       "            text-align: left;\n",
       "            border-bottom: 2px solid #e2e8f0;\n",
       "        }\n",
       "        .dataframe td {\n",
       "            padding: 0.75rem 1.5rem;\n",
       "            border-bottom: 1px solid #e2e8f0;\n",
       "        }\n",
       "        .dataframe tr:nth-child(even) {\n",
       "            background-color: #f8fafc;\n",
       "        }\n",
       "        .dataframe tr:hover {\n",
       "            background-color: #e2e8f0;\n",
       "            transition: background-color 0.2s ease-in-out;\n",
       "        }\n",
       "    </style>\n",
       "    <table border=\"1\" class=\"dataframe w-full border-collapse text-sm text-gray-900 dark:text-white\">\n",
       "  <thead>\n",
       "    <tr style=\"text-align: right;\">\n",
       "      <th>uuid</th>\n",
       "      <th>driver</th>\n",
       "      <th>ts</th>\n",
       "      <th>uuid_ts</th>\n",
       "      <th>fare</th>\n",
       "      <th>city</th>\n",
       "    </tr>\n",
       "  </thead>\n",
       "  <tbody>\n",
       "    <tr>\n",
       "      <td>uuid-001</td>\n",
       "      <td>driver-X</td>\n",
       "      <td>2025-08-10 08:15:30</td>\n",
       "      <td>NaN</td>\n",
       "      <td>18.5</td>\n",
       "      <td>new_york</td>\n",
       "    </tr>\n",
       "  </tbody>\n",
       "</table>"
      ],
      "text/plain": [
       "<IPython.core.display.HTML object>"
      ]
     },
     "metadata": {},
     "output_type": "display_data"
    }
   ],
   "source": [
    "# Load both tables\n",
    "main_df = spark.read.format(\"hudi\").load(f\"{base_path}/{scd4_dim_table_name}\")\n",
    "history_df = spark.read.format(\"hudi\").load(f\"{base_path}/{scd4_history_table_name}\")\n",
    "\n",
    "print(\"Current Dimension Table:\")\n",
    "display(main_df.select(\"uuid\", \"driver\", \"ts\", \"fare\", \"city\").orderBy(\"uuid\"))\n",
    "\n",
    "print(\"History Table:\")\n",
    "display(history_df.select(\"uuid\", \"driver\", \"ts\", \"uuid_ts\", \"fare\", \"city\").orderBy(\"uuid\"))"
   ]
  }
 ],
 "metadata": {
  "kernelspec": {
   "display_name": "Python 3 (ipykernel)",
   "language": "python",
   "name": "python3"
  },
  "language_info": {
   "codemirror_mode": {
    "name": "ipython",
    "version": 3
   },
   "file_extension": ".py",
   "mimetype": "text/x-python",
   "name": "python",
   "nbconvert_exporter": "python",
   "pygments_lexer": "ipython3",
   "version": "3.10.14"
  }
 },
 "nbformat": 4,
 "nbformat_minor": 5
}
