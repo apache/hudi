{
 "cells": [
  {
   "cell_type": "code",
   "execution_count": 1,
   "id": "4e6144f2-26cc-4ef3-b286-d3ea56c5e679",
   "metadata": {},
   "outputs": [],
   "source": [
    "#  Licensed to the Apache Software Foundation (ASF) under one\n",
    "#  or more contributor license agreements.  See the NOTICE file\n",
    "#  distributed with this work for additional information\n",
    "#  regarding copyright ownership.  The ASF licenses this file\n",
    "#  to you under the Apache License, Version 2.0 (the\n",
    "#  \"License\"); you may not use this file except in compliance\n",
    "#  with the License.  You may obtain a copy of the License at\n",
    "#\n",
    "#      http://www.apache.org/licenses/LICENSE-2.0\n",
    "#\n",
    "#  Unless required by applicable law or agreed to in writing, software\n",
    "#  distributed under the License is distributed on an \"AS IS\" BASIS,\n",
    "#  WITHOUT WARRANTIES OR CONDITIONS OF ANY KIND, either express or implied.\n",
    "#  See the License for the specific language governing permissions and\n",
    "# limitations under the License."
   ]
  },
  {
   "cell_type": "markdown",
   "id": "d68a106f-d14a-4d31-911f-5387b205e51f",
   "metadata": {},
   "source": [
    "# Getting Started with Hudi: A Hands-on Guide to CRUD Operations\n",
    "This notebook is a practical guide to performing CRUD (Create, Read, Update, Delete) operations on an Apache Hudi table using PySpark. We'll be using MinIO as our S3-compatible storage backend, demonstrating how to handle modern data lake architecture. We will work with both Copy-On-Write (COW) and Merge-On-Read (MOR) tables."
   ]
  },
  {
   "cell_type": "markdown",
   "id": "f1063b0f-bff0-4bcc-bfa1-abea3cfa1e6c",
   "metadata": {},
   "source": [
    "### Setting up the Environment\n",
    "We begin by loading the utils.py file, which contains the necessary imports and functions to start a SparkSession."
   ]
  },
  {
   "cell_type": "code",
   "execution_count": 37,
   "id": "351cafec-81a5-4668-910f-0a927ba6454e",
   "metadata": {},
   "outputs": [
    {
     "name": "stdout",
     "output_type": "stream",
     "text": [
      "SparkSession started with app name: Hudi-Notebooks\n"
     ]
    }
   ],
   "source": [
    "%run utils.py"
   ]
  },
  {
   "cell_type": "markdown",
   "id": "d27b0519-7b7c-4823-99e8-d96700bdcf3a",
   "metadata": {},
   "source": [
    "This is our initial dataset for our Hudi table. It's a list of ride records with columns for timestamp, a unique ID, rider and driver names, the fare, and the city."
   ]
  },
  {
   "cell_type": "code",
   "execution_count": 3,
   "id": "ebbf2991-e50b-4b14-a3f2-da8bedecdeae",
   "metadata": {},
   "outputs": [],
   "source": [
    "columns = [\"ts\", \"uuid\", \"rider\", \"driver\", \"fare\", \"city\"]\n",
    "data = [\n",
    "    (\"2025-08-10 08:15:30\", \"uuid-001\", \"rider-A\", \"driver-X\", 18.50, \"new_york\"),\n",
    "    (\"2025-08-10 09:22:10\", \"uuid-002\", \"rider-B\", \"driver-Y\", 22.75, \"san_francisco\"),\n",
    "    (\"2025-08-10 10:05:45\", \"uuid-003\", \"rider-C\", \"driver-Z\", 14.60, \"chicago\"),\n",
    "    (\"2025-08-10 11:40:00\", \"uuid-004\", \"rider-D\", \"driver-W\", 31.90, \"new_york\"),\n",
    "    (\"2025-08-10 12:55:15\", \"uuid-005\", \"rider-E\", \"driver-V\", 25.10, \"san_francisco\"),\n",
    "    (\"2025-08-10 13:20:35\", \"uuid-006\", \"rider-F\", \"driver-U\", 19.80, \"chicago\"),\n",
    "    (\"2025-08-10 14:10:05\", \"uuid-007\", \"rider-G\", \"driver-T\", 28.45, \"san_francisco\"),\n",
    "    (\"2025-08-10 15:00:20\", \"uuid-008\", \"rider-H\", \"driver-S\", 16.25, \"new_york\"),\n",
    "    (\"2025-08-10 15:45:50\", \"uuid-009\", \"rider-I\", \"driver-R\", 24.35, \"chicago\"),\n",
    "    (\"2025-08-10 16:30:00\", \"uuid-010\", \"rider-J\", \"driver-Q\", 20.00, \"new_york\"),\n",
    "]"
   ]
  },
  {
   "cell_type": "markdown",
   "id": "ab9350e0-0001-4815-b25e-0f8551443a89",
   "metadata": {},
   "source": [
    "First, we are creating a PySpark DataFrame from our sample data. Let's take a quick look at the data to see what we're starting with."
   ]
  },
  {
   "cell_type": "code",
   "execution_count": 38,
   "id": "22f3fad4-7061-4808-99dc-2b902aa00806",
   "metadata": {},
   "outputs": [
    {
     "data": {
      "text/html": [
       "\n",
       "    <style>\n",
       "        .dataframe {\n",
       "            border-radius: 0.5rem;\n",
       "            box-shadow: 0 4px 6px -1px rgba(0, 0, 0, 0.1), 0 2px 4px -1px rgba(0, 0, 0, 0.06);\n",
       "            overflow-x: auto;\n",
       "            border: 1px solid #e2e8f0;\n",
       "        }\n",
       "        .dataframe th {\n",
       "            background-color: #f1f5f9;\n",
       "            color: #1f2937;\n",
       "            font-weight: 600;\n",
       "            padding: 0.75rem 1.5rem;\n",
       "            text-align: left;\n",
       "            border-bottom: 2px solid #e2e8f0;\n",
       "        }\n",
       "        .dataframe td {\n",
       "            padding: 0.75rem 1.5rem;\n",
       "            border-bottom: 1px solid #e2e8f0;\n",
       "        }\n",
       "        .dataframe tr:nth-child(even) {\n",
       "            background-color: #f8fafc;\n",
       "        }\n",
       "        .dataframe tr:hover {\n",
       "            background-color: #e2e8f0;\n",
       "            transition: background-color 0.2s ease-in-out;\n",
       "        }\n",
       "    </style>\n",
       "    <table border=\"1\" class=\"dataframe w-full border-collapse text-sm text-gray-900 dark:text-white\">\n",
       "  <thead>\n",
       "    <tr style=\"text-align: right;\">\n",
       "      <th>ts</th>\n",
       "      <th>uuid</th>\n",
       "      <th>rider</th>\n",
       "      <th>driver</th>\n",
       "      <th>fare</th>\n",
       "      <th>city</th>\n",
       "    </tr>\n",
       "  </thead>\n",
       "  <tbody>\n",
       "    <tr>\n",
       "      <td>2025-08-10 08:15:30</td>\n",
       "      <td>uuid-001</td>\n",
       "      <td>rider-A</td>\n",
       "      <td>driver-X</td>\n",
       "      <td>18.50</td>\n",
       "      <td>new_york</td>\n",
       "    </tr>\n",
       "    <tr>\n",
       "      <td>2025-08-10 09:22:10</td>\n",
       "      <td>uuid-002</td>\n",
       "      <td>rider-B</td>\n",
       "      <td>driver-Y</td>\n",
       "      <td>22.75</td>\n",
       "      <td>san_francisco</td>\n",
       "    </tr>\n",
       "    <tr>\n",
       "      <td>2025-08-10 10:05:45</td>\n",
       "      <td>uuid-003</td>\n",
       "      <td>rider-C</td>\n",
       "      <td>driver-Z</td>\n",
       "      <td>14.60</td>\n",
       "      <td>chicago</td>\n",
       "    </tr>\n",
       "    <tr>\n",
       "      <td>2025-08-10 11:40:00</td>\n",
       "      <td>uuid-004</td>\n",
       "      <td>rider-D</td>\n",
       "      <td>driver-W</td>\n",
       "      <td>31.90</td>\n",
       "      <td>new_york</td>\n",
       "    </tr>\n",
       "    <tr>\n",
       "      <td>2025-08-10 12:55:15</td>\n",
       "      <td>uuid-005</td>\n",
       "      <td>rider-E</td>\n",
       "      <td>driver-V</td>\n",
       "      <td>25.10</td>\n",
       "      <td>san_francisco</td>\n",
       "    </tr>\n",
       "    <tr>\n",
       "      <td>2025-08-10 13:20:35</td>\n",
       "      <td>uuid-006</td>\n",
       "      <td>rider-F</td>\n",
       "      <td>driver-U</td>\n",
       "      <td>19.80</td>\n",
       "      <td>chicago</td>\n",
       "    </tr>\n",
       "    <tr>\n",
       "      <td>2025-08-10 14:10:05</td>\n",
       "      <td>uuid-007</td>\n",
       "      <td>rider-G</td>\n",
       "      <td>driver-T</td>\n",
       "      <td>28.45</td>\n",
       "      <td>san_francisco</td>\n",
       "    </tr>\n",
       "    <tr>\n",
       "      <td>2025-08-10 15:00:20</td>\n",
       "      <td>uuid-008</td>\n",
       "      <td>rider-H</td>\n",
       "      <td>driver-S</td>\n",
       "      <td>16.25</td>\n",
       "      <td>new_york</td>\n",
       "    </tr>\n",
       "    <tr>\n",
       "      <td>2025-08-10 15:45:50</td>\n",
       "      <td>uuid-009</td>\n",
       "      <td>rider-I</td>\n",
       "      <td>driver-R</td>\n",
       "      <td>24.35</td>\n",
       "      <td>chicago</td>\n",
       "    </tr>\n",
       "    <tr>\n",
       "      <td>2025-08-10 16:30:00</td>\n",
       "      <td>uuid-010</td>\n",
       "      <td>rider-J</td>\n",
       "      <td>driver-Q</td>\n",
       "      <td>20.00</td>\n",
       "      <td>new_york</td>\n",
       "    </tr>\n",
       "  </tbody>\n",
       "</table>"
      ],
      "text/plain": [
       "<IPython.core.display.HTML object>"
      ]
     },
     "metadata": {},
     "output_type": "display_data"
    }
   ],
   "source": [
    "inputDF = spark.createDataFrame(data).toDF(*columns)\n",
    "display(inputDF)"
   ]
  },
  {
   "cell_type": "markdown",
   "id": "1a849b1d-a0ed-4bf0-927a-ffbc8b1b3b4c",
   "metadata": {},
   "source": [
    "Hudi offers two primary table types to choose from:\n",
    "- Copy-on-Write (COW)\n",
    "- Merge-on-Read (MOR)\n",
    "\n",
    "The choice between them depends on user specific needs, balancing between write and read performance.\n",
    "\n",
    "**Copy-on-Write (COW) Tables:** In a COW table, each time you update or delete a record, Hudi rewrites the entire data file that contains that record. This approach makes reads very fast because all the data is in a single, clean file format like Parquet. However, it can be more resource-intensive for frequent updates due to all the file rewriting.\n",
    "\n",
    "**Merge-on-Read (MOR) Tables:** With a MOR table, updates are handled differently. Instead of rewriting the entire data file, Hudi writes the new or updated records to a smaller, row-based log file. When you query the table, Hudi merges these log files with the main data files on the fly. This makes write operations much faster, but it can make reads slightly slower as Hudi has to perform the merge during the query."
   ]
  },
  {
   "cell_type": "markdown",
   "id": "9e273fea-cdfa-4262-a3eb-4b14fd07788e",
   "metadata": {},
   "source": [
    "## Copy-on-Write (COW) Tables\n",
    "We will now explore the Copy-on-Write (COW) storage type. As discussed earlier, in a COW table each time data is updated or deleted in a file, Hudi rewrites the entire file with the new data. This is a simpler and more traditional approach. Copy-on-Write (COW) is the default table type in Apache Hudi."
   ]
  },
  {
   "cell_type": "markdown",
   "id": "1b23a1dc-401f-44e5-8f13-4c1c2b33f77f",
   "metadata": {},
   "source": [
    "### Hudi Configuration for a COW Table\n",
    "Next, we will set up the specific configuration for our Hudi table. We'll use uuid as our unique record key and partition the data by city to keep it organized. The ts (timestamp) field is our precombine key, which helps Hudi decide which record to keep if it finds duplicates."
   ]
  },
  {
   "cell_type": "code",
   "execution_count": 5,
   "id": "2b4a9aed-0055-4e93-9aa4-5ea022f41565",
   "metadata": {},
   "outputs": [],
   "source": [
    "table_name_cow = \"trips_table_cow\"\n",
    "base_path = f\"s3a://warehouse/hudi-db\"\n",
    "\n",
    "cow_hudi_conf = {\n",
    "    \"hoodie.table.name\": table_name_cow, # The name of our Hudi table.\n",
    "    \"hoodie.datasource.write.recordkey.field\": \"uuid\", # The column that acts as the unique identifier for each record.\n",
    "    \"hoodie.datasource.write.table.type\": \"COPY_ON_WRITE\", # Hudi uses Copy-on-Write as the default table type, but we are being explicit here.\n",
    "    \"hoodie.datasource.write.partitionpath.field\": \"city\", # The column Hudi uses to partition the data on storage.\n",
    "    \"hoodie.datasource.write.precombine.field\": \"ts\", # The field used to deduplicate records when a conflict occurs.\n",
    "    \"hoodie.table.cdc.enabled\": \"true\",\n",
    "    \"hoodie.datasource.write.hive_style_partitioning\": \"true\" # This ensures partition directories are named like `city=new_york`.\n",
    "}"
   ]
  },
  {
   "cell_type": "markdown",
   "id": "c86af5a1-7cf2-4aa8-a1f1-ca0aa32019c8",
   "metadata": {},
   "source": [
    "### Inserting data in a COW Table\n",
    "This is the **\"Create\"** part of our CRUD operations. We are writing our initial DataFrame to MinIO as a Hudi table. Using mode(\"overwrite\") ensures that we start with a fresh table every time we run to ensure a clean start."
   ]
  },
  {
   "cell_type": "code",
   "execution_count": 39,
   "id": "56e044a7-715c-4e41-a06e-6149f934102a",
   "metadata": {},
   "outputs": [],
   "source": [
    "# Write the DataFrame to a Hudi COW table\n",
    "# The default operation is \"upsert\" if this is not specified.\n",
    "inputDF.write \\\n",
    "    .format(\"hudi\") \\\n",
    "    .option(\"hoodie.datasource.write.operation\", \"insert\") \\\n",
    "    .options(**cow_hudi_conf) \\\n",
    "    .mode(\"overwrite\") \\\n",
    "    .save(f\"{base_path}/{table_name_cow}\")"
   ]
  },
  {
   "cell_type": "markdown",
   "id": "6657ac19-d789-43d4-a7cd-a91ff9aae806",
   "metadata": {},
   "source": [
    "### Hudi Table File Structure\n",
    "There are two main types of files:\n",
    "- Metadata files located in /.hoodie/\n",
    "- Data files stored within partition paths for partitioned tables, or under the base path for non-partitioned tables"
   ]
  },
  {
   "cell_type": "code",
   "execution_count": 7,
   "id": "f0d8716b-b5bb-45d2-8845-4f67763ee45c",
   "metadata": {},
   "outputs": [
    {
     "name": "stdout",
     "output_type": "stream",
     "text": [
      "s3a://warehouse/hudi-db/trips_table_cow/.hoodie\n",
      "s3a://warehouse/hudi-db/trips_table_cow/city=chicago\n",
      "s3a://warehouse/hudi-db/trips_table_cow/city=new_york\n",
      "s3a://warehouse/hudi-db/trips_table_cow/city=san_francisco\n"
     ]
    }
   ],
   "source": [
    "ls(f\"{base_path}/{table_name_cow}\")"
   ]
  },
  {
   "cell_type": "markdown",
   "id": "17cfe9d5-46bc-4252-8a70-17c3c32aa123",
   "metadata": {},
   "source": [
    "Hudi manages a table's metadata by storing it in a special directory within the base path. This metadata helps ensure that all tools reading and writing to the table follow the same rules. One of the key files is **hoodie.properties**, which acts like a configuration file for the table, holding details like table name and version."
   ]
  },
  {
   "cell_type": "code",
   "execution_count": 8,
   "id": "42e3a93d-09a3-4130-8499-d2d883c56bb1",
   "metadata": {},
   "outputs": [
    {
     "name": "stdout",
     "output_type": "stream",
     "text": [
      "s3a://warehouse/hudi-db/trips_table_cow/.hoodie/hoodie.properties\n",
      "s3a://warehouse/hudi-db/trips_table_cow/.hoodie/.aux\n",
      "s3a://warehouse/hudi-db/trips_table_cow/.hoodie/.index_defs\n",
      "s3a://warehouse/hudi-db/trips_table_cow/.hoodie/.schema\n",
      "s3a://warehouse/hudi-db/trips_table_cow/.hoodie/.temp\n",
      "s3a://warehouse/hudi-db/trips_table_cow/.hoodie/metadata\n",
      "s3a://warehouse/hudi-db/trips_table_cow/.hoodie/timeline\n"
     ]
    }
   ],
   "source": [
    "ls(f\"{base_path}/{table_name_cow}/.hoodie\")"
   ]
  },
  {
   "cell_type": "markdown",
   "id": "ade6eca9-999c-492c-9208-7d2a94bae756",
   "metadata": {},
   "source": [
    "Another crucial part of this metadata is the Hudi Timeline, which consists of small files that log every change to the table. These meta-files follow the naming pattern below:\n",
    "\n",
    "[action timestamp].[action type].[action state]"
   ]
  },
  {
   "cell_type": "code",
   "execution_count": 9,
   "id": "acf13104-2a99-4801-9e39-6ffa4aa61fcb",
   "metadata": {},
   "outputs": [
    {
     "name": "stdout",
     "output_type": "stream",
     "text": [
      "s3a://warehouse/hudi-db/trips_table_cow/.hoodie/timeline/20250926091418587.commit.requested\n",
      "s3a://warehouse/hudi-db/trips_table_cow/.hoodie/timeline/20250926091418587.inflight\n",
      "s3a://warehouse/hudi-db/trips_table_cow/.hoodie/timeline/20250926091418587_20250926091422164.commit\n",
      "s3a://warehouse/hudi-db/trips_table_cow/.hoodie/timeline/history\n"
     ]
    }
   ],
   "source": [
    "ls(f\"{base_path}/{table_name_cow}/.hoodie/timeline\")"
   ]
  },
  {
   "cell_type": "markdown",
   "id": "12abdafa-e3c0-4b15-aa82-a4720a5521b2",
   "metadata": {},
   "source": [
    "- An action timestamp is a unique, chronological identifier for each event, marking when it was scheduled.\n",
    "- An action type describes the operation that took place. Examples include commit or deltacommit for data changes, compaction or clean for maintenance, and savepoint or restore for recovery.\n",
    "- An action state shows the current status of the action. It can be **requested** (waiting to start), **inflight** (in progress), or **commit** (completed)."
   ]
  },
  {
   "cell_type": "markdown",
   "id": "b49bb2e3-4441-452f-951d-4a2321d980e4",
   "metadata": {},
   "source": [
    "Hudi organizes its physical data into two core types of files: **Base Files** and **Log Files**. You can think of a Base File as a traditional, organized table of data (often in a format like Parquet), while Log Files are where Hudi stores new changes and updates to that data.\n",
    "\n",
    "Base File contains the main stored records in a Hudi table and is optimized for read.\n",
    "Log File contains the records' changes on top of its associated Base File and is optimized for write.\n",
    "Within a partition path of a Hudi table, a single Base File and its associated Log Files (in case of MOR table) are grouped together as a File Slice."
   ]
  },
  {
   "cell_type": "code",
   "execution_count": 10,
   "id": "a883222c-0c37-4c45-acd1-c625e77fe669",
   "metadata": {},
   "outputs": [
    {
     "name": "stdout",
     "output_type": "stream",
     "text": [
      "s3a://warehouse/hudi-db/trips_table_cow/city=san_francisco/.hoodie_partition_metadata\n",
      "s3a://warehouse/hudi-db/trips_table_cow/city=san_francisco/322f9192-ffa1-4f1e-a6bc-e948f6e0345b-0_0-24-56_20250926091418587.parquet\n"
     ]
    }
   ],
   "source": [
    "ls(f\"{base_path}/{table_name_cow}/city=san_francisco\")"
   ]
  },
  {
   "cell_type": "markdown",
   "id": "f20d1101-2b9f-4d7c-87e4-ae2dfe8a05b3",
   "metadata": {},
   "source": [
    "To easily query our newly created Hudi table, we first need to register it as a temporary SQL view. After that, we'll run a quick command to list all tables and confirm that it's ready to use."
   ]
  },
  {
   "cell_type": "code",
   "execution_count": 11,
   "id": "5e609f8e-6a6f-4eab-8275-291a4846428f",
   "metadata": {},
   "outputs": [
    {
     "data": {
      "text/html": [
       "\n",
       "    <style>\n",
       "        .dataframe {\n",
       "            border-radius: 0.5rem;\n",
       "            box-shadow: 0 4px 6px -1px rgba(0, 0, 0, 0.1), 0 2px 4px -1px rgba(0, 0, 0, 0.06);\n",
       "            overflow-x: auto;\n",
       "            border: 1px solid #e2e8f0;\n",
       "        }\n",
       "        .dataframe th {\n",
       "            background-color: #f1f5f9;\n",
       "            color: #1f2937;\n",
       "            font-weight: 600;\n",
       "            padding: 0.75rem 1.5rem;\n",
       "            text-align: left;\n",
       "            border-bottom: 2px solid #e2e8f0;\n",
       "        }\n",
       "        .dataframe td {\n",
       "            padding: 0.75rem 1.5rem;\n",
       "            border-bottom: 1px solid #e2e8f0;\n",
       "        }\n",
       "        .dataframe tr:nth-child(even) {\n",
       "            background-color: #f8fafc;\n",
       "        }\n",
       "        .dataframe tr:hover {\n",
       "            background-color: #e2e8f0;\n",
       "            transition: background-color 0.2s ease-in-out;\n",
       "        }\n",
       "    </style>\n",
       "    <table border=\"1\" class=\"dataframe w-full border-collapse text-sm text-gray-900 dark:text-white\">\n",
       "  <thead>\n",
       "    <tr style=\"text-align: right;\">\n",
       "      <th>namespace</th>\n",
       "      <th>tableName</th>\n",
       "      <th>isTemporary</th>\n",
       "    </tr>\n",
       "  </thead>\n",
       "  <tbody>\n",
       "    <tr>\n",
       "      <td>default</td>\n",
       "      <td>test</td>\n",
       "      <td>False</td>\n",
       "    </tr>\n",
       "    <tr>\n",
       "      <td>default</td>\n",
       "      <td>trips_cow_hudi_sql</td>\n",
       "      <td>False</td>\n",
       "    </tr>\n",
       "    <tr>\n",
       "      <td></td>\n",
       "      <td>trips_table_cow</td>\n",
       "      <td>False</td>\n",
       "    </tr>\n",
       "  </tbody>\n",
       "</table>"
      ],
      "text/plain": [
       "<IPython.core.display.HTML object>"
      ]
     },
     "metadata": {},
     "output_type": "display_data"
    }
   ],
   "source": [
    "spark.read.format(\"hudi\").load(f\"{base_path}/{table_name_cow}\").createOrReplaceTempView(f\"{table_name_cow}\")\n",
    "#spark.sql(\"show tables\").show(truncate=False)\n",
    "display(spark.sql(\"show tables\"))"
   ]
  },
  {
   "cell_type": "markdown",
   "id": "ac622c01-2648-4734-8a63-aeebf4d25128",
   "metadata": {},
   "source": [
    "We have the temporary view now, let's query the COW table to get a snapshot of all records and display the result."
   ]
  },
  {
   "cell_type": "code",
   "execution_count": 12,
   "id": "2001abdf-1182-4374-95db-17c9cf1b51cc",
   "metadata": {},
   "outputs": [
    {
     "data": {
      "text/html": [
       "\n",
       "    <style>\n",
       "        .dataframe {\n",
       "            border-radius: 0.5rem;\n",
       "            box-shadow: 0 4px 6px -1px rgba(0, 0, 0, 0.1), 0 2px 4px -1px rgba(0, 0, 0, 0.06);\n",
       "            overflow-x: auto;\n",
       "            border: 1px solid #e2e8f0;\n",
       "        }\n",
       "        .dataframe th {\n",
       "            background-color: #f1f5f9;\n",
       "            color: #1f2937;\n",
       "            font-weight: 600;\n",
       "            padding: 0.75rem 1.5rem;\n",
       "            text-align: left;\n",
       "            border-bottom: 2px solid #e2e8f0;\n",
       "        }\n",
       "        .dataframe td {\n",
       "            padding: 0.75rem 1.5rem;\n",
       "            border-bottom: 1px solid #e2e8f0;\n",
       "        }\n",
       "        .dataframe tr:nth-child(even) {\n",
       "            background-color: #f8fafc;\n",
       "        }\n",
       "        .dataframe tr:hover {\n",
       "            background-color: #e2e8f0;\n",
       "            transition: background-color 0.2s ease-in-out;\n",
       "        }\n",
       "    </style>\n",
       "    <table border=\"1\" class=\"dataframe w-full border-collapse text-sm text-gray-900 dark:text-white\">\n",
       "  <thead>\n",
       "    <tr style=\"text-align: right;\">\n",
       "      <th>_hoodie_commit_time</th>\n",
       "      <th>_hoodie_file_name</th>\n",
       "      <th>ts</th>\n",
       "      <th>uuid</th>\n",
       "      <th>rider</th>\n",
       "      <th>driver</th>\n",
       "      <th>fare</th>\n",
       "      <th>city</th>\n",
       "    </tr>\n",
       "  </thead>\n",
       "  <tbody>\n",
       "    <tr>\n",
       "      <td>20250926091418587</td>\n",
       "      <td>322f9192-ffa1-4f1e-a6bc-e948f6e0345b-0_0-24-56_20250926091418587.parquet</td>\n",
       "      <td>2025-08-10 09:22:10</td>\n",
       "      <td>uuid-002</td>\n",
       "      <td>rider-B</td>\n",
       "      <td>driver-Y</td>\n",
       "      <td>22.75</td>\n",
       "      <td>san_francisco</td>\n",
       "    </tr>\n",
       "    <tr>\n",
       "      <td>20250926091418587</td>\n",
       "      <td>322f9192-ffa1-4f1e-a6bc-e948f6e0345b-0_0-24-56_20250926091418587.parquet</td>\n",
       "      <td>2025-08-10 12:55:15</td>\n",
       "      <td>uuid-005</td>\n",
       "      <td>rider-E</td>\n",
       "      <td>driver-V</td>\n",
       "      <td>25.10</td>\n",
       "      <td>san_francisco</td>\n",
       "    </tr>\n",
       "    <tr>\n",
       "      <td>20250926091418587</td>\n",
       "      <td>322f9192-ffa1-4f1e-a6bc-e948f6e0345b-0_0-24-56_20250926091418587.parquet</td>\n",
       "      <td>2025-08-10 14:10:05</td>\n",
       "      <td>uuid-007</td>\n",
       "      <td>rider-G</td>\n",
       "      <td>driver-T</td>\n",
       "      <td>28.45</td>\n",
       "      <td>san_francisco</td>\n",
       "    </tr>\n",
       "    <tr>\n",
       "      <td>20250926091418587</td>\n",
       "      <td>d2d88c02-246d-44fb-8042-75bfa4bc87fd-0_2-24-58_20250926091418587.parquet</td>\n",
       "      <td>2025-08-10 08:15:30</td>\n",
       "      <td>uuid-001</td>\n",
       "      <td>rider-A</td>\n",
       "      <td>driver-X</td>\n",
       "      <td>18.50</td>\n",
       "      <td>new_york</td>\n",
       "    </tr>\n",
       "    <tr>\n",
       "      <td>20250926091418587</td>\n",
       "      <td>d2d88c02-246d-44fb-8042-75bfa4bc87fd-0_2-24-58_20250926091418587.parquet</td>\n",
       "      <td>2025-08-10 11:40:00</td>\n",
       "      <td>uuid-004</td>\n",
       "      <td>rider-D</td>\n",
       "      <td>driver-W</td>\n",
       "      <td>31.90</td>\n",
       "      <td>new_york</td>\n",
       "    </tr>\n",
       "    <tr>\n",
       "      <td>20250926091418587</td>\n",
       "      <td>d2d88c02-246d-44fb-8042-75bfa4bc87fd-0_2-24-58_20250926091418587.parquet</td>\n",
       "      <td>2025-08-10 15:00:20</td>\n",
       "      <td>uuid-008</td>\n",
       "      <td>rider-H</td>\n",
       "      <td>driver-S</td>\n",
       "      <td>16.25</td>\n",
       "      <td>new_york</td>\n",
       "    </tr>\n",
       "    <tr>\n",
       "      <td>20250926091418587</td>\n",
       "      <td>d2d88c02-246d-44fb-8042-75bfa4bc87fd-0_2-24-58_20250926091418587.parquet</td>\n",
       "      <td>2025-08-10 16:30:00</td>\n",
       "      <td>uuid-010</td>\n",
       "      <td>rider-J</td>\n",
       "      <td>driver-Q</td>\n",
       "      <td>20.00</td>\n",
       "      <td>new_york</td>\n",
       "    </tr>\n",
       "    <tr>\n",
       "      <td>20250926091418587</td>\n",
       "      <td>843bf418-b616-4a9f-9165-8b408b786e68-0_1-24-57_20250926091418587.parquet</td>\n",
       "      <td>2025-08-10 10:05:45</td>\n",
       "      <td>uuid-003</td>\n",
       "      <td>rider-C</td>\n",
       "      <td>driver-Z</td>\n",
       "      <td>14.60</td>\n",
       "      <td>chicago</td>\n",
       "    </tr>\n",
       "    <tr>\n",
       "      <td>20250926091418587</td>\n",
       "      <td>843bf418-b616-4a9f-9165-8b408b786e68-0_1-24-57_20250926091418587.parquet</td>\n",
       "      <td>2025-08-10 13:20:35</td>\n",
       "      <td>uuid-006</td>\n",
       "      <td>rider-F</td>\n",
       "      <td>driver-U</td>\n",
       "      <td>19.80</td>\n",
       "      <td>chicago</td>\n",
       "    </tr>\n",
       "    <tr>\n",
       "      <td>20250926091418587</td>\n",
       "      <td>843bf418-b616-4a9f-9165-8b408b786e68-0_1-24-57_20250926091418587.parquet</td>\n",
       "      <td>2025-08-10 15:45:50</td>\n",
       "      <td>uuid-009</td>\n",
       "      <td>rider-I</td>\n",
       "      <td>driver-R</td>\n",
       "      <td>24.35</td>\n",
       "      <td>chicago</td>\n",
       "    </tr>\n",
       "  </tbody>\n",
       "</table>"
      ],
      "text/plain": [
       "<IPython.core.display.HTML object>"
      ]
     },
     "metadata": {},
     "output_type": "display_data"
    }
   ],
   "source": [
    "trips_cow_df = spark.sql(\"select _hoodie_commit_time, _hoodie_file_name, ts, uuid, rider, driver, fare, city from trips_table_cow\")\n",
    "display(trips_cow_df)"
   ]
  },
  {
   "cell_type": "markdown",
   "id": "6a70b6b1-564d-4ad7-9d01-37630ad70a79",
   "metadata": {},
   "source": [
    "### Upserting Records (Update)\n",
    "Hudi's upsert is a powerful feature that allows us to insert new records or update existing ones. We are going to update the fare for 'rider-G' by multiplying it by 10. Here, we are showing the updated record before we apply the change to the table."
   ]
  },
  {
   "cell_type": "code",
   "execution_count": 13,
   "id": "7bbc905f-c798-41c2-9b8e-919d60ad37e8",
   "metadata": {},
   "outputs": [
    {
     "data": {
      "text/html": [
       "\n",
       "    <style>\n",
       "        .dataframe {\n",
       "            border-radius: 0.5rem;\n",
       "            box-shadow: 0 4px 6px -1px rgba(0, 0, 0, 0.1), 0 2px 4px -1px rgba(0, 0, 0, 0.06);\n",
       "            overflow-x: auto;\n",
       "            border: 1px solid #e2e8f0;\n",
       "        }\n",
       "        .dataframe th {\n",
       "            background-color: #f1f5f9;\n",
       "            color: #1f2937;\n",
       "            font-weight: 600;\n",
       "            padding: 0.75rem 1.5rem;\n",
       "            text-align: left;\n",
       "            border-bottom: 2px solid #e2e8f0;\n",
       "        }\n",
       "        .dataframe td {\n",
       "            padding: 0.75rem 1.5rem;\n",
       "            border-bottom: 1px solid #e2e8f0;\n",
       "        }\n",
       "        .dataframe tr:nth-child(even) {\n",
       "            background-color: #f8fafc;\n",
       "        }\n",
       "        .dataframe tr:hover {\n",
       "            background-color: #e2e8f0;\n",
       "            transition: background-color 0.2s ease-in-out;\n",
       "        }\n",
       "    </style>\n",
       "    <table border=\"1\" class=\"dataframe w-full border-collapse text-sm text-gray-900 dark:text-white\">\n",
       "  <thead>\n",
       "    <tr style=\"text-align: right;\">\n",
       "      <th>uuid</th>\n",
       "      <th>rider</th>\n",
       "      <th>driver</th>\n",
       "      <th>fare</th>\n",
       "      <th>city</th>\n",
       "      <th>ts</th>\n",
       "    </tr>\n",
       "  </thead>\n",
       "  <tbody>\n",
       "    <tr>\n",
       "      <td>uuid-007</td>\n",
       "      <td>rider-G</td>\n",
       "      <td>driver-T</td>\n",
       "      <td>284.5</td>\n",
       "      <td>san_francisco</td>\n",
       "      <td>2025-08-10 14:10:05</td>\n",
       "    </tr>\n",
       "  </tbody>\n",
       "</table>"
      ],
      "text/plain": [
       "<IPython.core.display.HTML object>"
      ]
     },
     "metadata": {},
     "output_type": "display_data"
    }
   ],
   "source": [
    "from pyspark.sql.functions import col\n",
    "updatesDF = spark.read.format(\"hudi\").load(f\"{base_path}/{table_name_cow}\").filter(col(\"rider\") == \"rider-G\").withColumn(\"fare\", col(\"fare\") * 10)\n",
    "\n",
    "display(updatesDF.select(\"uuid\", \"rider\", \"driver\", \"fare\", \"city\", \"ts\"))"
   ]
  },
  {
   "cell_type": "markdown",
   "id": "6134557f-8e83-4988-a44b-7f5fccfa6f47",
   "metadata": {},
   "source": [
    "### Upserting the modified record\n",
    "Now, we'll perform the upsert. Because uuid is our record key, Hudi knows to find the original record and replace it with our new, updated one."
   ]
  },
  {
   "cell_type": "code",
   "execution_count": 14,
   "id": "19a8f0ee-9263-488b-bf6d-97b0f00df667",
   "metadata": {},
   "outputs": [],
   "source": [
    "updatesDF.write \\\n",
    "    .format(\"hudi\") \\\n",
    "    .option(\"hoodie.datasource.write.operation\", \"upsert\") \\\n",
    "    .options(**cow_hudi_conf) \\\n",
    "    .mode(\"append\") \\\n",
    "    .save(f\"{base_path}/{table_name_cow}\")"
   ]
  },
  {
   "cell_type": "markdown",
   "id": "1c5d2773-a0d0-493d-b067-417d26806300",
   "metadata": {},
   "source": [
    "Let's check the files in the san_francisco partition to see what happened after the upsert. Since this is a Copy-on-Write table, Hudi didn't just modify the existing record in place. Instead, it created a brand new Parquet file containing the updated record and all the other records for that partition."
   ]
  },
  {
   "cell_type": "code",
   "execution_count": 15,
   "id": "8fd55c6e-f67b-4991-ae3b-5308da1d2acf",
   "metadata": {},
   "outputs": [
    {
     "name": "stdout",
     "output_type": "stream",
     "text": [
      "s3a://warehouse/hudi-db/trips_table_cow/city=san_francisco/.322f9192-ffa1-4f1e-a6bc-e948f6e0345b-0_20250926091424240.log.1_0-66-168.cdc\n",
      "s3a://warehouse/hudi-db/trips_table_cow/city=san_francisco/.hoodie_partition_metadata\n",
      "s3a://warehouse/hudi-db/trips_table_cow/city=san_francisco/322f9192-ffa1-4f1e-a6bc-e948f6e0345b-0_0-24-56_20250926091418587.parquet\n",
      "s3a://warehouse/hudi-db/trips_table_cow/city=san_francisco/322f9192-ffa1-4f1e-a6bc-e948f6e0345b-0_0-66-168_20250926091424240.parquet\n"
     ]
    }
   ],
   "source": [
    "ls(f\"{base_path}/{table_name_cow}/city=san_francisco\")"
   ]
  },
  {
   "cell_type": "markdown",
   "id": "5cec0b06-21bf-482c-bf1f-2854af93a95a",
   "metadata": {},
   "source": [
    "Also check the Hudi table to confirm the record has updated or not. Compare the fare value and commitTime as well."
   ]
  },
  {
   "cell_type": "code",
   "execution_count": 16,
   "id": "0c603f92-81a5-4dd2-84fb-9a457c97281f",
   "metadata": {},
   "outputs": [
    {
     "data": {
      "text/html": [
       "\n",
       "    <style>\n",
       "        .dataframe {\n",
       "            border-radius: 0.5rem;\n",
       "            box-shadow: 0 4px 6px -1px rgba(0, 0, 0, 0.1), 0 2px 4px -1px rgba(0, 0, 0, 0.06);\n",
       "            overflow-x: auto;\n",
       "            border: 1px solid #e2e8f0;\n",
       "        }\n",
       "        .dataframe th {\n",
       "            background-color: #f1f5f9;\n",
       "            color: #1f2937;\n",
       "            font-weight: 600;\n",
       "            padding: 0.75rem 1.5rem;\n",
       "            text-align: left;\n",
       "            border-bottom: 2px solid #e2e8f0;\n",
       "        }\n",
       "        .dataframe td {\n",
       "            padding: 0.75rem 1.5rem;\n",
       "            border-bottom: 1px solid #e2e8f0;\n",
       "        }\n",
       "        .dataframe tr:nth-child(even) {\n",
       "            background-color: #f8fafc;\n",
       "        }\n",
       "        .dataframe tr:hover {\n",
       "            background-color: #e2e8f0;\n",
       "            transition: background-color 0.2s ease-in-out;\n",
       "        }\n",
       "    </style>\n",
       "    <table border=\"1\" class=\"dataframe w-full border-collapse text-sm text-gray-900 dark:text-white\">\n",
       "  <thead>\n",
       "    <tr style=\"text-align: right;\">\n",
       "      <th>_hoodie_commit_time</th>\n",
       "      <th>_hoodie_file_name</th>\n",
       "      <th>uuid</th>\n",
       "      <th>rider</th>\n",
       "      <th>driver</th>\n",
       "      <th>fare</th>\n",
       "      <th>city</th>\n",
       "      <th>ts</th>\n",
       "    </tr>\n",
       "  </thead>\n",
       "  <tbody>\n",
       "    <tr>\n",
       "      <td>20250926091418587</td>\n",
       "      <td>322f9192-ffa1-4f1e-a6bc-e948f6e0345b-0_0-66-168_20250926091424240.parquet</td>\n",
       "      <td>uuid-002</td>\n",
       "      <td>rider-B</td>\n",
       "      <td>driver-Y</td>\n",
       "      <td>22.75</td>\n",
       "      <td>san_francisco</td>\n",
       "      <td>2025-08-10 09:22:10</td>\n",
       "    </tr>\n",
       "    <tr>\n",
       "      <td>20250926091418587</td>\n",
       "      <td>322f9192-ffa1-4f1e-a6bc-e948f6e0345b-0_0-66-168_20250926091424240.parquet</td>\n",
       "      <td>uuid-005</td>\n",
       "      <td>rider-E</td>\n",
       "      <td>driver-V</td>\n",
       "      <td>25.10</td>\n",
       "      <td>san_francisco</td>\n",
       "      <td>2025-08-10 12:55:15</td>\n",
       "    </tr>\n",
       "    <tr>\n",
       "      <td>20250926091424240</td>\n",
       "      <td>322f9192-ffa1-4f1e-a6bc-e948f6e0345b-0_0-66-168_20250926091424240.parquet</td>\n",
       "      <td>uuid-007</td>\n",
       "      <td>rider-G</td>\n",
       "      <td>driver-T</td>\n",
       "      <td>284.50</td>\n",
       "      <td>san_francisco</td>\n",
       "      <td>2025-08-10 14:10:05</td>\n",
       "    </tr>\n",
       "  </tbody>\n",
       "</table>"
      ],
      "text/plain": [
       "<IPython.core.display.HTML object>"
      ]
     },
     "metadata": {},
     "output_type": "display_data"
    }
   ],
   "source": [
    "spark.sql(f\"REFRESH TABLE {table_name_cow}\")\n",
    "trips_cow_read = spark.sql(f\"select _hoodie_commit_time, _hoodie_file_name, uuid, rider, driver, fare, city, ts from {table_name_cow} where city = 'san_francisco'\")\n",
    "display(trips_cow_read)"
   ]
  },
  {
   "cell_type": "markdown",
   "id": "17416077-d6e4-4af9-9455-7946f3754f27",
   "metadata": {},
   "source": [
    "If you look closely at the file list, you'll see a new Parquet file in the san_francisco partition. This is because Hudi's Copy-on-Write mechanism rewrites the entire file when a record is updated. You can also see that the _hoodie_commit_time has changed specifically for **uuid-007**, confirming that only this record was part of our latest update **(fare = 284.50)**."
   ]
  },
  {
   "cell_type": "markdown",
   "id": "f70ff1e4-47ce-434a-a979-2b77ba1f6228",
   "metadata": {},
   "source": [
    "### Deduplication with Precombine Field\n",
    "A key feature of Hudi is its ability to handle duplicate records automatically. Hudi uses the precombine.field to decide which record to keep when it encounters two or more records with the same recordkey in a single write operation. In our configuration, the precombine.field is set to ts, so Hudi will keep the record with the latest timestamp.\n",
    "\n",
    "Let's create a new DataFrame with some duplicate data to see this in action. We'll add two records with the same uuid (uuid-001) but with different ts values. The second record has a later timestamp and a higher fare."
   ]
  },
  {
   "cell_type": "code",
   "execution_count": 17,
   "id": "b3bfed74-bf1f-4e5d-bb39-a741aeaeacc2",
   "metadata": {},
   "outputs": [
    {
     "data": {
      "text/html": [
       "\n",
       "    <style>\n",
       "        .dataframe {\n",
       "            border-radius: 0.5rem;\n",
       "            box-shadow: 0 4px 6px -1px rgba(0, 0, 0, 0.1), 0 2px 4px -1px rgba(0, 0, 0, 0.06);\n",
       "            overflow-x: auto;\n",
       "            border: 1px solid #e2e8f0;\n",
       "        }\n",
       "        .dataframe th {\n",
       "            background-color: #f1f5f9;\n",
       "            color: #1f2937;\n",
       "            font-weight: 600;\n",
       "            padding: 0.75rem 1.5rem;\n",
       "            text-align: left;\n",
       "            border-bottom: 2px solid #e2e8f0;\n",
       "        }\n",
       "        .dataframe td {\n",
       "            padding: 0.75rem 1.5rem;\n",
       "            border-bottom: 1px solid #e2e8f0;\n",
       "        }\n",
       "        .dataframe tr:nth-child(even) {\n",
       "            background-color: #f8fafc;\n",
       "        }\n",
       "        .dataframe tr:hover {\n",
       "            background-color: #e2e8f0;\n",
       "            transition: background-color 0.2s ease-in-out;\n",
       "        }\n",
       "    </style>\n",
       "    <table border=\"1\" class=\"dataframe w-full border-collapse text-sm text-gray-900 dark:text-white\">\n",
       "  <thead>\n",
       "    <tr style=\"text-align: right;\">\n",
       "      <th>ts</th>\n",
       "      <th>uuid</th>\n",
       "      <th>rider</th>\n",
       "      <th>driver</th>\n",
       "      <th>fare</th>\n",
       "      <th>city</th>\n",
       "    </tr>\n",
       "  </thead>\n",
       "  <tbody>\n",
       "    <tr>\n",
       "      <td>2025-08-10 08:15:30</td>\n",
       "      <td>uuid-001</td>\n",
       "      <td>rider-A</td>\n",
       "      <td>driver-Z</td>\n",
       "      <td>25.50</td>\n",
       "      <td>new_york</td>\n",
       "    </tr>\n",
       "    <tr>\n",
       "      <td>2025-08-10 17:00:00</td>\n",
       "      <td>uuid-001</td>\n",
       "      <td>rider-A</td>\n",
       "      <td>driver-A</td>\n",
       "      <td>30.00</td>\n",
       "      <td>new_york</td>\n",
       "    </tr>\n",
       "    <tr>\n",
       "      <td>2025-08-11 07:45:00</td>\n",
       "      <td>uuid-012</td>\n",
       "      <td>rider-L</td>\n",
       "      <td>driver-T</td>\n",
       "      <td>12.25</td>\n",
       "      <td>chicago</td>\n",
       "    </tr>\n",
       "  </tbody>\n",
       "</table>"
      ],
      "text/plain": [
       "<IPython.core.display.HTML object>"
      ]
     },
     "metadata": {},
     "output_type": "display_data"
    }
   ],
   "source": [
    "from pyspark.sql.functions import lit\n",
    "\n",
    "duplicate_data = [\n",
    "    (\"2025-08-10 08:15:30\", \"uuid-001\", \"rider-A\", \"driver-Z\", 25.50, \"new_york\"), # A duplicate record with an old timestamp\n",
    "    (\"2025-08-10 17:00:00\", \"uuid-001\", \"rider-A\", \"driver-A\", 30.00, \"new_york\"), # Another duplicate record with a new timestamp\n",
    "    (\"2025-08-11 07:45:00\", \"uuid-012\", \"rider-L\", \"driver-T\", 12.25, \"chicago\")   # A new record\n",
    "]\n",
    "duplicate_columns = [\"ts\", \"uuid\", \"rider\", \"driver\", \"fare\", \"city\"]\n",
    "duplicatesDF = spark.createDataFrame(duplicate_data).toDF(*duplicate_columns)\n",
    "\n",
    "#duplicatesDF.show(truncate=False)\n",
    "display(duplicatesDF)"
   ]
  },
  {
   "cell_type": "markdown",
   "id": "21f4e1ca-47dd-41cc-a350-ba0f6763ffa2",
   "metadata": {},
   "source": [
    "Now, let's upsert this data into our COW table. Hudi will process the duplicate records for **uuid-001** and, based on our precombine.field (ts), it will only keep the record with the later timestamp."
   ]
  },
  {
   "cell_type": "code",
   "execution_count": 18,
   "id": "b6150eff-dd03-45e8-8dcc-80b4a40349b9",
   "metadata": {},
   "outputs": [],
   "source": [
    "duplicatesDF.write \\\n",
    "    .format(\"hudi\") \\\n",
    "    .option(\"hoodie.datasource.write.operation\", \"upsert\") \\\n",
    "    .options(**cow_hudi_conf) \\\n",
    "    .mode(\"append\") \\\n",
    "    .save(f\"{base_path}/{table_name_cow}\")"
   ]
  },
  {
   "cell_type": "markdown",
   "id": "2684039c-6a0e-43bb-b158-634b00e870ac",
   "metadata": {},
   "source": [
    "Finally, we'll query the table to see the result. As you can see in the output, only one record for uuid-001 exists, and it's the one with the latest timestamp **(2025-08-10 17:00:00)**. The record with the older timestamp was discarded, and the new record for uuid-012 was successfully inserted."
   ]
  },
  {
   "cell_type": "code",
   "execution_count": 19,
   "id": "91805cf8-ad55-4b03-a4a5-e91138c95545",
   "metadata": {},
   "outputs": [
    {
     "data": {
      "text/html": [
       "\n",
       "    <style>\n",
       "        .dataframe {\n",
       "            border-radius: 0.5rem;\n",
       "            box-shadow: 0 4px 6px -1px rgba(0, 0, 0, 0.1), 0 2px 4px -1px rgba(0, 0, 0, 0.06);\n",
       "            overflow-x: auto;\n",
       "            border: 1px solid #e2e8f0;\n",
       "        }\n",
       "        .dataframe th {\n",
       "            background-color: #f1f5f9;\n",
       "            color: #1f2937;\n",
       "            font-weight: 600;\n",
       "            padding: 0.75rem 1.5rem;\n",
       "            text-align: left;\n",
       "            border-bottom: 2px solid #e2e8f0;\n",
       "        }\n",
       "        .dataframe td {\n",
       "            padding: 0.75rem 1.5rem;\n",
       "            border-bottom: 1px solid #e2e8f0;\n",
       "        }\n",
       "        .dataframe tr:nth-child(even) {\n",
       "            background-color: #f8fafc;\n",
       "        }\n",
       "        .dataframe tr:hover {\n",
       "            background-color: #e2e8f0;\n",
       "            transition: background-color 0.2s ease-in-out;\n",
       "        }\n",
       "    </style>\n",
       "    <table border=\"1\" class=\"dataframe w-full border-collapse text-sm text-gray-900 dark:text-white\">\n",
       "  <thead>\n",
       "    <tr style=\"text-align: right;\">\n",
       "      <th>_hoodie_commit_time</th>\n",
       "      <th>_hoodie_file_name</th>\n",
       "      <th>uuid</th>\n",
       "      <th>rider</th>\n",
       "      <th>driver</th>\n",
       "      <th>fare</th>\n",
       "      <th>city</th>\n",
       "      <th>ts</th>\n",
       "    </tr>\n",
       "  </thead>\n",
       "  <tbody>\n",
       "    <tr>\n",
       "      <td>20250926091425776</td>\n",
       "      <td>d2d88c02-246d-44fb-8042-75bfa4bc87fd-0_0-93-276_20250926091425776.parquet</td>\n",
       "      <td>uuid-001</td>\n",
       "      <td>rider-A</td>\n",
       "      <td>driver-A</td>\n",
       "      <td>30.00</td>\n",
       "      <td>new_york</td>\n",
       "      <td>2025-08-10 17:00:00</td>\n",
       "    </tr>\n",
       "    <tr>\n",
       "      <td>20250926091425776</td>\n",
       "      <td>843bf418-b616-4a9f-9165-8b408b786e68-0_1-93-277_20250926091425776.parquet</td>\n",
       "      <td>uuid-012</td>\n",
       "      <td>rider-L</td>\n",
       "      <td>driver-T</td>\n",
       "      <td>12.25</td>\n",
       "      <td>chicago</td>\n",
       "      <td>2025-08-11 07:45:00</td>\n",
       "    </tr>\n",
       "  </tbody>\n",
       "</table>"
      ],
      "text/plain": [
       "<IPython.core.display.HTML object>"
      ]
     },
     "metadata": {},
     "output_type": "display_data"
    }
   ],
   "source": [
    "spark.sql(f\"REFRESH TABLE {table_name_cow}\")\n",
    "trips_cow_df_dedup = spark.sql(f\"select _hoodie_commit_time, _hoodie_file_name, uuid, rider, driver, fare, city, ts from {table_name_cow} where uuid = 'uuid-001' or uuid = 'uuid-012'\")\n",
    "display(trips_cow_df_dedup)"
   ]
  },
  {
   "cell_type": "markdown",
   "id": "b3bc7348-9d4e-4f9e-a16e-fd022d031275",
   "metadata": {},
   "source": [
    "### Deleting a Record in a COW Table\n",
    "Finally, let's demonstrate how to delete a record. Let's create a DataFrame that contains the record we want to delete. We'll delete the record for rider-G (uuid-007)."
   ]
  },
  {
   "cell_type": "code",
   "execution_count": 20,
   "id": "d978cb3a-c037-433d-add6-801e824a18cf",
   "metadata": {},
   "outputs": [],
   "source": [
    "# Create a DataFrame with the record to be deleted\n",
    "delete_data = [\n",
    "    (\"2025-08-10 14:10:05\", \"uuid-007\", \"rider-G\", \"driver-T\", 28.45, \"san_francisco\")\n",
    "]\n",
    "delete_columns = [\"ts\", \"uuid\", \"rider\", \"driver\", \"fare\", \"city\"]\n",
    "deleteDF = spark.createDataFrame(delete_data).toDF(*delete_columns)"
   ]
  },
  {
   "cell_type": "code",
   "execution_count": 21,
   "id": "d8674dd9-1672-4db5-a926-402370449921",
   "metadata": {},
   "outputs": [],
   "source": [
    "deleteDF.write \\\n",
    "    .format(\"hudi\") \\\n",
    "    .option(\"hoodie.datasource.write.operation\", \"delete\") \\\n",
    "    .options(**cow_hudi_conf) \\\n",
    "    .mode(\"append\") \\\n",
    "    .save(f\"{base_path}/{table_name_cow}\")"
   ]
  },
  {
   "cell_type": "markdown",
   "id": "85725caf-5f5f-49d2-880b-45e02c896835",
   "metadata": {},
   "source": [
    "Running a snapshot query now confirms that the record for 'rider-G' (uuid-007) is no longer present in our table."
   ]
  },
  {
   "cell_type": "code",
   "execution_count": 22,
   "id": "b5c1dc1a-9bc3-45e3-92f5-163941e236b3",
   "metadata": {},
   "outputs": [
    {
     "data": {
      "text/html": [
       "\n",
       "    <style>\n",
       "        .dataframe {\n",
       "            border-radius: 0.5rem;\n",
       "            box-shadow: 0 4px 6px -1px rgba(0, 0, 0, 0.1), 0 2px 4px -1px rgba(0, 0, 0, 0.06);\n",
       "            overflow-x: auto;\n",
       "            border: 1px solid #e2e8f0;\n",
       "        }\n",
       "        .dataframe th {\n",
       "            background-color: #f1f5f9;\n",
       "            color: #1f2937;\n",
       "            font-weight: 600;\n",
       "            padding: 0.75rem 1.5rem;\n",
       "            text-align: left;\n",
       "            border-bottom: 2px solid #e2e8f0;\n",
       "        }\n",
       "        .dataframe td {\n",
       "            padding: 0.75rem 1.5rem;\n",
       "            border-bottom: 1px solid #e2e8f0;\n",
       "        }\n",
       "        .dataframe tr:nth-child(even) {\n",
       "            background-color: #f8fafc;\n",
       "        }\n",
       "        .dataframe tr:hover {\n",
       "            background-color: #e2e8f0;\n",
       "            transition: background-color 0.2s ease-in-out;\n",
       "        }\n",
       "    </style>\n",
       "    <table border=\"1\" class=\"dataframe w-full border-collapse text-sm text-gray-900 dark:text-white\">\n",
       "  <thead>\n",
       "    <tr style=\"text-align: right;\">\n",
       "      <th>_hoodie_commit_time</th>\n",
       "      <th>_hoodie_file_name</th>\n",
       "      <th>uuid</th>\n",
       "      <th>rider</th>\n",
       "      <th>driver</th>\n",
       "      <th>fare</th>\n",
       "      <th>city</th>\n",
       "      <th>ts</th>\n",
       "    </tr>\n",
       "  </thead>\n",
       "  <tbody>\n",
       "    <tr>\n",
       "      <td>20250926091418587</td>\n",
       "      <td>322f9192-ffa1-4f1e-a6bc-e948f6e0345b-0_0-135-409_20250926091427322.parquet</td>\n",
       "      <td>uuid-002</td>\n",
       "      <td>rider-B</td>\n",
       "      <td>driver-Y</td>\n",
       "      <td>22.75</td>\n",
       "      <td>san_francisco</td>\n",
       "      <td>2025-08-10 09:22:10</td>\n",
       "    </tr>\n",
       "    <tr>\n",
       "      <td>20250926091418587</td>\n",
       "      <td>322f9192-ffa1-4f1e-a6bc-e948f6e0345b-0_0-135-409_20250926091427322.parquet</td>\n",
       "      <td>uuid-005</td>\n",
       "      <td>rider-E</td>\n",
       "      <td>driver-V</td>\n",
       "      <td>25.10</td>\n",
       "      <td>san_francisco</td>\n",
       "      <td>2025-08-10 12:55:15</td>\n",
       "    </tr>\n",
       "    <tr>\n",
       "      <td>20250926091425776</td>\n",
       "      <td>d2d88c02-246d-44fb-8042-75bfa4bc87fd-0_0-93-276_20250926091425776.parquet</td>\n",
       "      <td>uuid-001</td>\n",
       "      <td>rider-A</td>\n",
       "      <td>driver-A</td>\n",
       "      <td>30.00</td>\n",
       "      <td>new_york</td>\n",
       "      <td>2025-08-10 17:00:00</td>\n",
       "    </tr>\n",
       "    <tr>\n",
       "      <td>20250926091418587</td>\n",
       "      <td>d2d88c02-246d-44fb-8042-75bfa4bc87fd-0_0-93-276_20250926091425776.parquet</td>\n",
       "      <td>uuid-004</td>\n",
       "      <td>rider-D</td>\n",
       "      <td>driver-W</td>\n",
       "      <td>31.90</td>\n",
       "      <td>new_york</td>\n",
       "      <td>2025-08-10 11:40:00</td>\n",
       "    </tr>\n",
       "    <tr>\n",
       "      <td>20250926091418587</td>\n",
       "      <td>d2d88c02-246d-44fb-8042-75bfa4bc87fd-0_0-93-276_20250926091425776.parquet</td>\n",
       "      <td>uuid-008</td>\n",
       "      <td>rider-H</td>\n",
       "      <td>driver-S</td>\n",
       "      <td>16.25</td>\n",
       "      <td>new_york</td>\n",
       "      <td>2025-08-10 15:00:20</td>\n",
       "    </tr>\n",
       "    <tr>\n",
       "      <td>20250926091418587</td>\n",
       "      <td>d2d88c02-246d-44fb-8042-75bfa4bc87fd-0_0-93-276_20250926091425776.parquet</td>\n",
       "      <td>uuid-010</td>\n",
       "      <td>rider-J</td>\n",
       "      <td>driver-Q</td>\n",
       "      <td>20.00</td>\n",
       "      <td>new_york</td>\n",
       "      <td>2025-08-10 16:30:00</td>\n",
       "    </tr>\n",
       "    <tr>\n",
       "      <td>20250926091418587</td>\n",
       "      <td>843bf418-b616-4a9f-9165-8b408b786e68-0_1-93-277_20250926091425776.parquet</td>\n",
       "      <td>uuid-003</td>\n",
       "      <td>rider-C</td>\n",
       "      <td>driver-Z</td>\n",
       "      <td>14.60</td>\n",
       "      <td>chicago</td>\n",
       "      <td>2025-08-10 10:05:45</td>\n",
       "    </tr>\n",
       "    <tr>\n",
       "      <td>20250926091418587</td>\n",
       "      <td>843bf418-b616-4a9f-9165-8b408b786e68-0_1-93-277_20250926091425776.parquet</td>\n",
       "      <td>uuid-006</td>\n",
       "      <td>rider-F</td>\n",
       "      <td>driver-U</td>\n",
       "      <td>19.80</td>\n",
       "      <td>chicago</td>\n",
       "      <td>2025-08-10 13:20:35</td>\n",
       "    </tr>\n",
       "    <tr>\n",
       "      <td>20250926091418587</td>\n",
       "      <td>843bf418-b616-4a9f-9165-8b408b786e68-0_1-93-277_20250926091425776.parquet</td>\n",
       "      <td>uuid-009</td>\n",
       "      <td>rider-I</td>\n",
       "      <td>driver-R</td>\n",
       "      <td>24.35</td>\n",
       "      <td>chicago</td>\n",
       "      <td>2025-08-10 15:45:50</td>\n",
       "    </tr>\n",
       "    <tr>\n",
       "      <td>20250926091425776</td>\n",
       "      <td>843bf418-b616-4a9f-9165-8b408b786e68-0_1-93-277_20250926091425776.parquet</td>\n",
       "      <td>uuid-012</td>\n",
       "      <td>rider-L</td>\n",
       "      <td>driver-T</td>\n",
       "      <td>12.25</td>\n",
       "      <td>chicago</td>\n",
       "      <td>2025-08-11 07:45:00</td>\n",
       "    </tr>\n",
       "  </tbody>\n",
       "</table>"
      ],
      "text/plain": [
       "<IPython.core.display.HTML object>"
      ]
     },
     "metadata": {},
     "output_type": "display_data"
    }
   ],
   "source": [
    "spark.sql(f\"REFRESH TABLE {table_name_cow}\")\n",
    "trips_cow_df = spark.sql(f\"select _hoodie_commit_time, _hoodie_file_name, uuid, rider, driver, fare, city, ts from {table_name_cow}\")\n",
    "display(trips_cow_df)"
   ]
  },
  {
   "cell_type": "markdown",
   "id": "b66bc344-2da9-4a09-8428-288f3eb03af3",
   "metadata": {},
   "source": [
    "## Merge-on-Read (MOR) Tables\n",
    "For comparison, let's explore the Merge-on-Read (MOR) table type. In a MOR table, updates are written to a separate log file, which is then merged with the base data files when you read the table.\n",
    "\n",
    "Here's the configuration for our MOR table."
   ]
  },
  {
   "cell_type": "code",
   "execution_count": 23,
   "id": "672b6e47-ee9b-40e0-b6d4-071a497d829d",
   "metadata": {},
   "outputs": [],
   "source": [
    "table_name_mor = \"trips_table_mor\"\n",
    "base_path = f\"s3a://warehouse/hudi-db\"\n",
    "\n",
    "mor_hudi_conf = {\n",
    "    \"hoodie.table.name\": table_name_mor,\n",
    "    \"hoodie.datasource.write.recordkey.field\": \"uuid\",\n",
    "    \"hoodie.datasource.write.table.type\": \"MERGE_ON_READ\",\n",
    "    \"hoodie.datasource.write.partitionpath.field\": \"city\",\n",
    "    \"hoodie.datasource.write.precombine.field\": \"ts\",\n",
    "    \"hoodie.datasource.write.hive_style_partitioning\": \"true\"\n",
    "}"
   ]
  },
  {
   "cell_type": "markdown",
   "id": "0c61ff10-0a1c-4fae-b207-8d1d8d18f4fd",
   "metadata": {},
   "source": [
    "### Inserting Data into a MOR Table\n",
    "First, let's insert our initial dataset into our new Merge-on-Read (MOR) table. Just like with the COW table, this initial insert creates the table and its partitions."
   ]
  },
  {
   "cell_type": "code",
   "execution_count": 24,
   "id": "8fa63556-247a-4dd9-89b2-8e7b0a58954f",
   "metadata": {},
   "outputs": [],
   "source": [
    "# Write the DataFrame to a Hudi MOR table\n",
    "inputDF.write \\\n",
    "    .format(\"hudi\") \\\n",
    "    .option(\"hoodie.datasource.write.operation\", \"insert\") \\\n",
    "    .options(**mor_hudi_conf) \\\n",
    "    .mode(\"overwrite\") \\\n",
    "    .save(f\"{base_path}/{table_name_mor}\")"
   ]
  },
  {
   "cell_type": "markdown",
   "id": "49eeb79d-8edc-4b4f-b6a2-b330a99b7080",
   "metadata": {},
   "source": [
    "Let's inspect the file system after this fresh insert. Since there are no updates yet, Hudi has created a clean Parquet base file in each partition, just like it did for our COW table."
   ]
  },
  {
   "cell_type": "code",
   "execution_count": 25,
   "id": "bccc9101-8cbf-46b3-a09d-e4302cab6ef0",
   "metadata": {},
   "outputs": [
    {
     "name": "stdout",
     "output_type": "stream",
     "text": [
      "s3a://warehouse/hudi-db/trips_table_mor/.hoodie\n",
      "s3a://warehouse/hudi-db/trips_table_mor/city=chicago\n",
      "s3a://warehouse/hudi-db/trips_table_mor/city=new_york\n",
      "s3a://warehouse/hudi-db/trips_table_mor/city=san_francisco\n"
     ]
    }
   ],
   "source": [
    "ls(f\"{base_path}/{table_name_mor}\")"
   ]
  },
  {
   "cell_type": "code",
   "execution_count": 26,
   "id": "33248003-ba89-4b01-b3fc-a8952032cb5b",
   "metadata": {},
   "outputs": [
    {
     "name": "stdout",
     "output_type": "stream",
     "text": [
      "s3a://warehouse/hudi-db/trips_table_mor/city=new_york/.hoodie_partition_metadata\n",
      "s3a://warehouse/hudi-db/trips_table_mor/city=new_york/ed2ff1f6-a778-4ee2-a7d8-b52b9c05c9e2-0_2-167-481_20250926091428430.parquet\n"
     ]
    }
   ],
   "source": [
    "ls(f\"{base_path}/{table_name_mor}/city=new_york\")"
   ]
  },
  {
   "cell_type": "markdown",
   "id": "f5641b5a-e475-42d2-8f10-66754eedb17e",
   "metadata": {},
   "source": [
    "After the fresh insert, let's query our new MOR table to confirm that all records were written correctly. Hudi's default read mode automatically gives us a full snapshot of the table."
   ]
  },
  {
   "cell_type": "code",
   "execution_count": 27,
   "id": "622f6604-ef3e-48f4-8a5c-3db886c1805d",
   "metadata": {},
   "outputs": [
    {
     "data": {
      "text/html": [
       "\n",
       "    <style>\n",
       "        .dataframe {\n",
       "            border-radius: 0.5rem;\n",
       "            box-shadow: 0 4px 6px -1px rgba(0, 0, 0, 0.1), 0 2px 4px -1px rgba(0, 0, 0, 0.06);\n",
       "            overflow-x: auto;\n",
       "            border: 1px solid #e2e8f0;\n",
       "        }\n",
       "        .dataframe th {\n",
       "            background-color: #f1f5f9;\n",
       "            color: #1f2937;\n",
       "            font-weight: 600;\n",
       "            padding: 0.75rem 1.5rem;\n",
       "            text-align: left;\n",
       "            border-bottom: 2px solid #e2e8f0;\n",
       "        }\n",
       "        .dataframe td {\n",
       "            padding: 0.75rem 1.5rem;\n",
       "            border-bottom: 1px solid #e2e8f0;\n",
       "        }\n",
       "        .dataframe tr:nth-child(even) {\n",
       "            background-color: #f8fafc;\n",
       "        }\n",
       "        .dataframe tr:hover {\n",
       "            background-color: #e2e8f0;\n",
       "            transition: background-color 0.2s ease-in-out;\n",
       "        }\n",
       "    </style>\n",
       "    <table border=\"1\" class=\"dataframe w-full border-collapse text-sm text-gray-900 dark:text-white\">\n",
       "  <thead>\n",
       "    <tr style=\"text-align: right;\">\n",
       "      <th>_hoodie_commit_time</th>\n",
       "      <th>_hoodie_file_name</th>\n",
       "      <th>uuid</th>\n",
       "      <th>rider</th>\n",
       "      <th>driver</th>\n",
       "      <th>fare</th>\n",
       "      <th>city</th>\n",
       "      <th>ts</th>\n",
       "    </tr>\n",
       "  </thead>\n",
       "  <tbody>\n",
       "    <tr>\n",
       "      <td>20250926091428430</td>\n",
       "      <td>e0359343-02b8-4cde-8771-b6367b984f10-0_0-167-479_20250926091428430.parquet</td>\n",
       "      <td>uuid-002</td>\n",
       "      <td>rider-B</td>\n",
       "      <td>driver-Y</td>\n",
       "      <td>22.75</td>\n",
       "      <td>san_francisco</td>\n",
       "      <td>2025-08-10 09:22:10</td>\n",
       "    </tr>\n",
       "    <tr>\n",
       "      <td>20250926091428430</td>\n",
       "      <td>e0359343-02b8-4cde-8771-b6367b984f10-0_0-167-479_20250926091428430.parquet</td>\n",
       "      <td>uuid-005</td>\n",
       "      <td>rider-E</td>\n",
       "      <td>driver-V</td>\n",
       "      <td>25.10</td>\n",
       "      <td>san_francisco</td>\n",
       "      <td>2025-08-10 12:55:15</td>\n",
       "    </tr>\n",
       "    <tr>\n",
       "      <td>20250926091428430</td>\n",
       "      <td>e0359343-02b8-4cde-8771-b6367b984f10-0_0-167-479_20250926091428430.parquet</td>\n",
       "      <td>uuid-007</td>\n",
       "      <td>rider-G</td>\n",
       "      <td>driver-T</td>\n",
       "      <td>28.45</td>\n",
       "      <td>san_francisco</td>\n",
       "      <td>2025-08-10 14:10:05</td>\n",
       "    </tr>\n",
       "    <tr>\n",
       "      <td>20250926091428430</td>\n",
       "      <td>ed2ff1f6-a778-4ee2-a7d8-b52b9c05c9e2-0_2-167-481_20250926091428430.parquet</td>\n",
       "      <td>uuid-001</td>\n",
       "      <td>rider-A</td>\n",
       "      <td>driver-X</td>\n",
       "      <td>18.50</td>\n",
       "      <td>new_york</td>\n",
       "      <td>2025-08-10 08:15:30</td>\n",
       "    </tr>\n",
       "    <tr>\n",
       "      <td>20250926091428430</td>\n",
       "      <td>ed2ff1f6-a778-4ee2-a7d8-b52b9c05c9e2-0_2-167-481_20250926091428430.parquet</td>\n",
       "      <td>uuid-004</td>\n",
       "      <td>rider-D</td>\n",
       "      <td>driver-W</td>\n",
       "      <td>31.90</td>\n",
       "      <td>new_york</td>\n",
       "      <td>2025-08-10 11:40:00</td>\n",
       "    </tr>\n",
       "    <tr>\n",
       "      <td>20250926091428430</td>\n",
       "      <td>ed2ff1f6-a778-4ee2-a7d8-b52b9c05c9e2-0_2-167-481_20250926091428430.parquet</td>\n",
       "      <td>uuid-008</td>\n",
       "      <td>rider-H</td>\n",
       "      <td>driver-S</td>\n",
       "      <td>16.25</td>\n",
       "      <td>new_york</td>\n",
       "      <td>2025-08-10 15:00:20</td>\n",
       "    </tr>\n",
       "    <tr>\n",
       "      <td>20250926091428430</td>\n",
       "      <td>ed2ff1f6-a778-4ee2-a7d8-b52b9c05c9e2-0_2-167-481_20250926091428430.parquet</td>\n",
       "      <td>uuid-010</td>\n",
       "      <td>rider-J</td>\n",
       "      <td>driver-Q</td>\n",
       "      <td>20.00</td>\n",
       "      <td>new_york</td>\n",
       "      <td>2025-08-10 16:30:00</td>\n",
       "    </tr>\n",
       "    <tr>\n",
       "      <td>20250926091428430</td>\n",
       "      <td>152e19b7-3c3d-4e35-a517-3a2149f8e205-0_1-167-480_20250926091428430.parquet</td>\n",
       "      <td>uuid-003</td>\n",
       "      <td>rider-C</td>\n",
       "      <td>driver-Z</td>\n",
       "      <td>14.60</td>\n",
       "      <td>chicago</td>\n",
       "      <td>2025-08-10 10:05:45</td>\n",
       "    </tr>\n",
       "    <tr>\n",
       "      <td>20250926091428430</td>\n",
       "      <td>152e19b7-3c3d-4e35-a517-3a2149f8e205-0_1-167-480_20250926091428430.parquet</td>\n",
       "      <td>uuid-006</td>\n",
       "      <td>rider-F</td>\n",
       "      <td>driver-U</td>\n",
       "      <td>19.80</td>\n",
       "      <td>chicago</td>\n",
       "      <td>2025-08-10 13:20:35</td>\n",
       "    </tr>\n",
       "    <tr>\n",
       "      <td>20250926091428430</td>\n",
       "      <td>152e19b7-3c3d-4e35-a517-3a2149f8e205-0_1-167-480_20250926091428430.parquet</td>\n",
       "      <td>uuid-009</td>\n",
       "      <td>rider-I</td>\n",
       "      <td>driver-R</td>\n",
       "      <td>24.35</td>\n",
       "      <td>chicago</td>\n",
       "      <td>2025-08-10 15:45:50</td>\n",
       "    </tr>\n",
       "  </tbody>\n",
       "</table>"
      ],
      "text/plain": [
       "<IPython.core.display.HTML object>"
      ]
     },
     "metadata": {},
     "output_type": "display_data"
    }
   ],
   "source": [
    "# First, make sure the table is registered as a temporary view\n",
    "spark.read.format(\"hudi\").load(f\"{base_path}/{table_name_mor}\").createOrReplaceTempView(\"trips_table_mor\")\n",
    "\n",
    "# Now, query the table using SQL to see the inserted records\n",
    "trips_mor_df = spark.sql(\"SELECT _hoodie_commit_time, _hoodie_file_name, uuid, rider, driver, fare, city, ts FROM trips_table_mor\")\n",
    "display(trips_mor_df)"
   ]
  },
  {
   "cell_type": "markdown",
   "id": "f143f942-cb52-485e-9f25-f0f4197b400a",
   "metadata": {},
   "source": [
    "### Updating a Record in the MOR Table\n",
    "Let's update a record in our MOR table to see how it affects our read modes. We'll find the record for 'driver-W' and double its fare."
   ]
  },
  {
   "cell_type": "code",
   "execution_count": 28,
   "id": "dd9c9e44-6f31-4df2-bf55-8b86ee98139b",
   "metadata": {},
   "outputs": [
    {
     "data": {
      "text/html": [
       "\n",
       "    <style>\n",
       "        .dataframe {\n",
       "            border-radius: 0.5rem;\n",
       "            box-shadow: 0 4px 6px -1px rgba(0, 0, 0, 0.1), 0 2px 4px -1px rgba(0, 0, 0, 0.06);\n",
       "            overflow-x: auto;\n",
       "            border: 1px solid #e2e8f0;\n",
       "        }\n",
       "        .dataframe th {\n",
       "            background-color: #f1f5f9;\n",
       "            color: #1f2937;\n",
       "            font-weight: 600;\n",
       "            padding: 0.75rem 1.5rem;\n",
       "            text-align: left;\n",
       "            border-bottom: 2px solid #e2e8f0;\n",
       "        }\n",
       "        .dataframe td {\n",
       "            padding: 0.75rem 1.5rem;\n",
       "            border-bottom: 1px solid #e2e8f0;\n",
       "        }\n",
       "        .dataframe tr:nth-child(even) {\n",
       "            background-color: #f8fafc;\n",
       "        }\n",
       "        .dataframe tr:hover {\n",
       "            background-color: #e2e8f0;\n",
       "            transition: background-color 0.2s ease-in-out;\n",
       "        }\n",
       "    </style>\n",
       "    <table border=\"1\" class=\"dataframe w-full border-collapse text-sm text-gray-900 dark:text-white\">\n",
       "  <thead>\n",
       "    <tr style=\"text-align: right;\">\n",
       "      <th>uuid</th>\n",
       "      <th>rider</th>\n",
       "      <th>driver</th>\n",
       "      <th>fare</th>\n",
       "      <th>city</th>\n",
       "      <th>ts</th>\n",
       "    </tr>\n",
       "  </thead>\n",
       "  <tbody>\n",
       "    <tr>\n",
       "      <td>uuid-004</td>\n",
       "      <td>rider-D</td>\n",
       "      <td>driver-W</td>\n",
       "      <td>63.8</td>\n",
       "      <td>new_york</td>\n",
       "      <td>2025-08-10 11:40:00</td>\n",
       "    </tr>\n",
       "  </tbody>\n",
       "</table>"
      ],
      "text/plain": [
       "<IPython.core.display.HTML object>"
      ]
     },
     "metadata": {},
     "output_type": "display_data"
    }
   ],
   "source": [
    "from pyspark.sql.functions import col\n",
    "updatesDF = spark.read.format(\"hudi\").load(f\"{base_path}/{table_name_mor}\").filter(col(\"driver\") == \"driver-W\").withColumn(\"fare\", col(\"fare\") * 2)\n",
    "\n",
    "display(updatesDF.select(\"uuid\", \"rider\", \"driver\", \"fare\", \"city\", \"ts\"))"
   ]
  },
  {
   "cell_type": "markdown",
   "id": "d686e7ef-ee52-4c87-b7db-a6eac7b9a7d8",
   "metadata": {},
   "source": [
    "Now, we'll perform the upsert. This is where the magic of Merge-on-Read happens! Instead of rewriting the entire Parquet file, Hudi will write a new log file containing just our updated record."
   ]
  },
  {
   "cell_type": "code",
   "execution_count": 29,
   "id": "03aaa2e4-f604-44ac-84ce-6b60b31944ed",
   "metadata": {},
   "outputs": [],
   "source": [
    "updatesDF.write \\\n",
    "    .format(\"hudi\") \\\n",
    "    .option(\"hoodie.datasource.write.operation\", \"upsert\") \\\n",
    "    .options(**mor_hudi_conf) \\\n",
    "    .mode(\"append\") \\\n",
    "    .save(f\"{base_path}/{table_name_mor}\")"
   ]
  },
  {
   "cell_type": "markdown",
   "id": "fcc7d49f-2456-4f1f-b270-0200484ddcd3",
   "metadata": {},
   "source": [
    "Let's inspect the file system after this update operation."
   ]
  },
  {
   "cell_type": "code",
   "execution_count": 30,
   "id": "aec8481d-326b-47fa-b85f-9adda1c75db0",
   "metadata": {},
   "outputs": [
    {
     "name": "stdout",
     "output_type": "stream",
     "text": [
      "s3a://warehouse/hudi-db/trips_table_mor/city=new_york/.ed2ff1f6-a778-4ee2-a7d8-b52b9c05c9e2-0_20250926091430358.log.1_0-209-591\n",
      "s3a://warehouse/hudi-db/trips_table_mor/city=new_york/.hoodie_partition_metadata\n",
      "s3a://warehouse/hudi-db/trips_table_mor/city=new_york/ed2ff1f6-a778-4ee2-a7d8-b52b9c05c9e2-0_2-167-481_20250926091428430.parquet\n"
     ]
    }
   ],
   "source": [
    "ls(f\"{base_path}/{table_name_mor}/city=new_york\")"
   ]
  },
  {
   "cell_type": "markdown",
   "id": "e67e546a-5ab3-42f9-b743-a014d866f5bf",
   "metadata": {},
   "source": [
    "Now query the MOR table to confirm that the record has been updated correctly."
   ]
  },
  {
   "cell_type": "code",
   "execution_count": 31,
   "id": "76d5fdc2-1b21-4470-8c89-0257fac3934b",
   "metadata": {},
   "outputs": [
    {
     "data": {
      "text/html": [
       "\n",
       "    <style>\n",
       "        .dataframe {\n",
       "            border-radius: 0.5rem;\n",
       "            box-shadow: 0 4px 6px -1px rgba(0, 0, 0, 0.1), 0 2px 4px -1px rgba(0, 0, 0, 0.06);\n",
       "            overflow-x: auto;\n",
       "            border: 1px solid #e2e8f0;\n",
       "        }\n",
       "        .dataframe th {\n",
       "            background-color: #f1f5f9;\n",
       "            color: #1f2937;\n",
       "            font-weight: 600;\n",
       "            padding: 0.75rem 1.5rem;\n",
       "            text-align: left;\n",
       "            border-bottom: 2px solid #e2e8f0;\n",
       "        }\n",
       "        .dataframe td {\n",
       "            padding: 0.75rem 1.5rem;\n",
       "            border-bottom: 1px solid #e2e8f0;\n",
       "        }\n",
       "        .dataframe tr:nth-child(even) {\n",
       "            background-color: #f8fafc;\n",
       "        }\n",
       "        .dataframe tr:hover {\n",
       "            background-color: #e2e8f0;\n",
       "            transition: background-color 0.2s ease-in-out;\n",
       "        }\n",
       "    </style>\n",
       "    <table border=\"1\" class=\"dataframe w-full border-collapse text-sm text-gray-900 dark:text-white\">\n",
       "  <thead>\n",
       "    <tr style=\"text-align: right;\">\n",
       "      <th>_hoodie_commit_time</th>\n",
       "      <th>_hoodie_file_name</th>\n",
       "      <th>uuid</th>\n",
       "      <th>rider</th>\n",
       "      <th>driver</th>\n",
       "      <th>fare</th>\n",
       "      <th>city</th>\n",
       "      <th>ts</th>\n",
       "    </tr>\n",
       "  </thead>\n",
       "  <tbody>\n",
       "    <tr>\n",
       "      <td>20250926091428430</td>\n",
       "      <td>ed2ff1f6-a778-4ee2-a7d8-b52b9c05c9e2-0_2-167-481_20250926091428430.parquet</td>\n",
       "      <td>uuid-001</td>\n",
       "      <td>rider-A</td>\n",
       "      <td>driver-X</td>\n",
       "      <td>18.50</td>\n",
       "      <td>new_york</td>\n",
       "      <td>2025-08-10 08:15:30</td>\n",
       "    </tr>\n",
       "    <tr>\n",
       "      <td>20250926091428430</td>\n",
       "      <td>ed2ff1f6-a778-4ee2-a7d8-b52b9c05c9e2-0_2-167-481_20250926091428430.parquet</td>\n",
       "      <td>uuid-004</td>\n",
       "      <td>rider-D</td>\n",
       "      <td>driver-W</td>\n",
       "      <td>31.90</td>\n",
       "      <td>new_york</td>\n",
       "      <td>2025-08-10 11:40:00</td>\n",
       "    </tr>\n",
       "    <tr>\n",
       "      <td>20250926091428430</td>\n",
       "      <td>ed2ff1f6-a778-4ee2-a7d8-b52b9c05c9e2-0_2-167-481_20250926091428430.parquet</td>\n",
       "      <td>uuid-008</td>\n",
       "      <td>rider-H</td>\n",
       "      <td>driver-S</td>\n",
       "      <td>16.25</td>\n",
       "      <td>new_york</td>\n",
       "      <td>2025-08-10 15:00:20</td>\n",
       "    </tr>\n",
       "    <tr>\n",
       "      <td>20250926091428430</td>\n",
       "      <td>ed2ff1f6-a778-4ee2-a7d8-b52b9c05c9e2-0_2-167-481_20250926091428430.parquet</td>\n",
       "      <td>uuid-010</td>\n",
       "      <td>rider-J</td>\n",
       "      <td>driver-Q</td>\n",
       "      <td>20.00</td>\n",
       "      <td>new_york</td>\n",
       "      <td>2025-08-10 16:30:00</td>\n",
       "    </tr>\n",
       "  </tbody>\n",
       "</table>"
      ],
      "text/plain": [
       "<IPython.core.display.HTML object>"
      ]
     },
     "metadata": {},
     "output_type": "display_data"
    }
   ],
   "source": [
    "spark.sql(f\"REFRESH TABLE {table_name_mor}\")\n",
    "trips_mor_read = spark.sql(f\"select _hoodie_commit_time, _hoodie_file_name, uuid, rider, driver, fare, city, ts from {table_name_mor} where city = 'new_york'\")\n",
    "display(trips_mor_read)"
   ]
  },
  {
   "cell_type": "code",
   "execution_count": 32,
   "id": "1a016ee9-5bbb-4536-9948-2b6576ed60fd",
   "metadata": {},
   "outputs": [
    {
     "data": {
      "text/html": [
       "\n",
       "    <style>\n",
       "        .dataframe {\n",
       "            border-radius: 0.5rem;\n",
       "            box-shadow: 0 4px 6px -1px rgba(0, 0, 0, 0.1), 0 2px 4px -1px rgba(0, 0, 0, 0.06);\n",
       "            overflow-x: auto;\n",
       "            border: 1px solid #e2e8f0;\n",
       "        }\n",
       "        .dataframe th {\n",
       "            background-color: #f1f5f9;\n",
       "            color: #1f2937;\n",
       "            font-weight: 600;\n",
       "            padding: 0.75rem 1.5rem;\n",
       "            text-align: left;\n",
       "            border-bottom: 2px solid #e2e8f0;\n",
       "        }\n",
       "        .dataframe td {\n",
       "            padding: 0.75rem 1.5rem;\n",
       "            border-bottom: 1px solid #e2e8f0;\n",
       "        }\n",
       "        .dataframe tr:nth-child(even) {\n",
       "            background-color: #f8fafc;\n",
       "        }\n",
       "        .dataframe tr:hover {\n",
       "            background-color: #e2e8f0;\n",
       "            transition: background-color 0.2s ease-in-out;\n",
       "        }\n",
       "    </style>\n",
       "    <table border=\"1\" class=\"dataframe w-full border-collapse text-sm text-gray-900 dark:text-white\">\n",
       "  <thead>\n",
       "    <tr style=\"text-align: right;\">\n",
       "      <th>uuid</th>\n",
       "      <th>rider</th>\n",
       "      <th>driver</th>\n",
       "      <th>fare</th>\n",
       "      <th>city</th>\n",
       "      <th>ts</th>\n",
       "    </tr>\n",
       "  </thead>\n",
       "  <tbody>\n",
       "    <tr>\n",
       "      <td>uuid-004</td>\n",
       "      <td>rider-D</td>\n",
       "      <td>driver-W</td>\n",
       "      <td>63.8</td>\n",
       "      <td>new_york</td>\n",
       "      <td>2025-08-10 11:40:00</td>\n",
       "    </tr>\n",
       "  </tbody>\n",
       "</table>"
      ],
      "text/plain": [
       "<IPython.core.display.HTML object>"
      ]
     },
     "metadata": {},
     "output_type": "display_data"
    }
   ],
   "source": [
    "trips_mor_df = spark.read.format(\"hudi\").load(f\"{base_path}/{table_name_mor}\").select(\"uuid\", \"rider\", \"driver\", \"fare\", \"city\", \"ts\").filter(col(\"driver\") == \"driver-W\")\n",
    "display(trips_mor_df)"
   ]
  },
  {
   "cell_type": "markdown",
   "id": "d2c4b52b-58d7-4dce-9520-37b27df81d6b",
   "metadata": {},
   "source": [
    "### Deleting a Record in a MOR Table\n",
    "Just like with the upsert, deleting a record in a Merge-on-Read table is handled by writing a new log file, not by rewriting the entire base file. Hudi records the delete action in the log, and the record will appear to be gone in a snapshot/real-time query.\n",
    "\n",
    "First, let's create a DataFrame that contains the record we want to delete. We'll delete the record for rider-E (uuid-005)."
   ]
  },
  {
   "cell_type": "code",
   "execution_count": 33,
   "id": "f3db99e3-6cef-4872-917e-c8ce86be052e",
   "metadata": {},
   "outputs": [],
   "source": [
    "# Create a DataFrame with the record to be deleted\n",
    "delete_data = [\n",
    "    (\"2025-08-10 12:55:15\", \"uuid-005\", \"rider-E\", \"driver-V\", 25.10, \"san_francisco\")\n",
    "]\n",
    "delete_columns = [\"ts\", \"uuid\", \"rider\", \"driver\", \"fare\", \"city\"]\n",
    "deleteDF = spark.createDataFrame(delete_data).toDF(*delete_columns)"
   ]
  },
  {
   "cell_type": "markdown",
   "id": "3d75ec6b-3909-4b09-831b-bd47aeb524e3",
   "metadata": {},
   "source": [
    "Now, we perform the delete operation. This will generate a new .log file in the city=san_francisco partition, which marks the record for deletion."
   ]
  },
  {
   "cell_type": "code",
   "execution_count": 34,
   "id": "c36ddd2c-e2e0-4fbe-89fd-fde65e657ed4",
   "metadata": {},
   "outputs": [],
   "source": [
    "deleteDF.write \\\n",
    "    .format(\"hudi\") \\\n",
    "    .option(\"hoodie.datasource.write.operation\", \"delete\") \\\n",
    "    .options(**mor_hudi_conf) \\\n",
    "    .mode(\"append\") \\\n",
    "    .save(f\"{base_path}/{table_name_mor}\")"
   ]
  },
  {
   "cell_type": "markdown",
   "id": "8fdd6980-ea2c-4769-b8df-b28256bf2e8c",
   "metadata": {},
   "source": [
    "Let's quickly check the file system. You should see a new .log file in the city=san_francisco partition alongside the existing Parquet and other log files"
   ]
  },
  {
   "cell_type": "code",
   "execution_count": 35,
   "id": "f506214e-eea4-49f6-89d6-7693db3ee350",
   "metadata": {},
   "outputs": [
    {
     "name": "stdout",
     "output_type": "stream",
     "text": [
      "s3a://warehouse/hudi-db/trips_table_mor/city=san_francisco/.e0359343-02b8-4cde-8771-b6367b984f10-0_20250926091431793.log.1_0-252-724\n",
      "s3a://warehouse/hudi-db/trips_table_mor/city=san_francisco/.hoodie_partition_metadata\n",
      "s3a://warehouse/hudi-db/trips_table_mor/city=san_francisco/e0359343-02b8-4cde-8771-b6367b984f10-0_0-167-479_20250926091428430.parquet\n"
     ]
    }
   ],
   "source": [
    "ls(f\"{base_path}/{table_name_mor}/city=san_francisco\")"
   ]
  },
  {
   "cell_type": "markdown",
   "id": "8e22c929-181a-4fdd-9322-11d1b5a3eec0",
   "metadata": {},
   "source": [
    "Finally, we'll perform a snapshot query. As you can see, the record for rider-E is no longer visible in the table, demonstrating that the delete was successful."
   ]
  },
  {
   "cell_type": "code",
   "execution_count": 36,
   "id": "42a2da49-a61d-466c-b340-69a7019e9feb",
   "metadata": {},
   "outputs": [
    {
     "data": {
      "text/html": [
       "\n",
       "    <style>\n",
       "        .dataframe {\n",
       "            border-radius: 0.5rem;\n",
       "            box-shadow: 0 4px 6px -1px rgba(0, 0, 0, 0.1), 0 2px 4px -1px rgba(0, 0, 0, 0.06);\n",
       "            overflow-x: auto;\n",
       "            border: 1px solid #e2e8f0;\n",
       "        }\n",
       "        .dataframe th {\n",
       "            background-color: #f1f5f9;\n",
       "            color: #1f2937;\n",
       "            font-weight: 600;\n",
       "            padding: 0.75rem 1.5rem;\n",
       "            text-align: left;\n",
       "            border-bottom: 2px solid #e2e8f0;\n",
       "        }\n",
       "        .dataframe td {\n",
       "            padding: 0.75rem 1.5rem;\n",
       "            border-bottom: 1px solid #e2e8f0;\n",
       "        }\n",
       "        .dataframe tr:nth-child(even) {\n",
       "            background-color: #f8fafc;\n",
       "        }\n",
       "        .dataframe tr:hover {\n",
       "            background-color: #e2e8f0;\n",
       "            transition: background-color 0.2s ease-in-out;\n",
       "        }\n",
       "    </style>\n",
       "    <table border=\"1\" class=\"dataframe w-full border-collapse text-sm text-gray-900 dark:text-white\">\n",
       "  <thead>\n",
       "    <tr style=\"text-align: right;\">\n",
       "      <th>uuid</th>\n",
       "      <th>rider</th>\n",
       "      <th>driver</th>\n",
       "      <th>fare</th>\n",
       "      <th>city</th>\n",
       "      <th>ts</th>\n",
       "    </tr>\n",
       "  </thead>\n",
       "  <tbody>\n",
       "    <tr>\n",
       "      <td>uuid-001</td>\n",
       "      <td>rider-A</td>\n",
       "      <td>driver-X</td>\n",
       "      <td>18.50</td>\n",
       "      <td>new_york</td>\n",
       "      <td>2025-08-10 08:15:30</td>\n",
       "    </tr>\n",
       "    <tr>\n",
       "      <td>uuid-004</td>\n",
       "      <td>rider-D</td>\n",
       "      <td>driver-W</td>\n",
       "      <td>63.80</td>\n",
       "      <td>new_york</td>\n",
       "      <td>2025-08-10 11:40:00</td>\n",
       "    </tr>\n",
       "    <tr>\n",
       "      <td>uuid-008</td>\n",
       "      <td>rider-H</td>\n",
       "      <td>driver-S</td>\n",
       "      <td>16.25</td>\n",
       "      <td>new_york</td>\n",
       "      <td>2025-08-10 15:00:20</td>\n",
       "    </tr>\n",
       "    <tr>\n",
       "      <td>uuid-010</td>\n",
       "      <td>rider-J</td>\n",
       "      <td>driver-Q</td>\n",
       "      <td>20.00</td>\n",
       "      <td>new_york</td>\n",
       "      <td>2025-08-10 16:30:00</td>\n",
       "    </tr>\n",
       "    <tr>\n",
       "      <td>uuid-002</td>\n",
       "      <td>rider-B</td>\n",
       "      <td>driver-Y</td>\n",
       "      <td>22.75</td>\n",
       "      <td>san_francisco</td>\n",
       "      <td>2025-08-10 09:22:10</td>\n",
       "    </tr>\n",
       "    <tr>\n",
       "      <td>uuid-007</td>\n",
       "      <td>rider-G</td>\n",
       "      <td>driver-T</td>\n",
       "      <td>28.45</td>\n",
       "      <td>san_francisco</td>\n",
       "      <td>2025-08-10 14:10:05</td>\n",
       "    </tr>\n",
       "    <tr>\n",
       "      <td>uuid-003</td>\n",
       "      <td>rider-C</td>\n",
       "      <td>driver-Z</td>\n",
       "      <td>14.60</td>\n",
       "      <td>chicago</td>\n",
       "      <td>2025-08-10 10:05:45</td>\n",
       "    </tr>\n",
       "    <tr>\n",
       "      <td>uuid-006</td>\n",
       "      <td>rider-F</td>\n",
       "      <td>driver-U</td>\n",
       "      <td>19.80</td>\n",
       "      <td>chicago</td>\n",
       "      <td>2025-08-10 13:20:35</td>\n",
       "    </tr>\n",
       "    <tr>\n",
       "      <td>uuid-009</td>\n",
       "      <td>rider-I</td>\n",
       "      <td>driver-R</td>\n",
       "      <td>24.35</td>\n",
       "      <td>chicago</td>\n",
       "      <td>2025-08-10 15:45:50</td>\n",
       "    </tr>\n",
       "  </tbody>\n",
       "</table>"
      ],
      "text/plain": [
       "<IPython.core.display.HTML object>"
      ]
     },
     "metadata": {},
     "output_type": "display_data"
    }
   ],
   "source": [
    "trips_mor_df = spark.read.format(\"hudi\").load(f\"{base_path}/{table_name_mor}\").select(\"uuid\", \"rider\", \"driver\", \"fare\", \"city\", \"ts\")\n",
    "display(trips_mor_df)"
   ]
  }
 ],
 "metadata": {
  "kernelspec": {
   "display_name": "Python 3 (ipykernel)",
   "language": "python",
   "name": "python3"
  },
  "language_info": {
   "codemirror_mode": {
    "name": "ipython",
    "version": 3
   },
   "file_extension": ".py",
   "mimetype": "text/x-python",
   "name": "python",
   "nbconvert_exporter": "python",
   "pygments_lexer": "ipython3",
   "version": "3.10.14"
  }
 },
 "nbformat": 4,
 "nbformat_minor": 5
}
