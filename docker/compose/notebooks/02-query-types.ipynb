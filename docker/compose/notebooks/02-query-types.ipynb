{
 "cells": [
  {
   "cell_type": "code",
   "execution_count": 1,
   "id": "30c7c3cc-0fbc-4707-907f-798c281bfe84",
   "metadata": {},
   "outputs": [],
   "source": [
    "#  Licensed to the Apache Software Foundation (ASF) under one\n",
    "#  or more contributor license agreements.  See the NOTICE file\n",
    "#  distributed with this work for additional information\n",
    "#  regarding copyright ownership.  The ASF licenses this file\n",
    "#  to you under the Apache License, Version 2.0 (the\n",
    "#  \"License\"); you may not use this file except in compliance\n",
    "#  with the License.  You may obtain a copy of the License at\n",
    "#\n",
    "#      http://www.apache.org/licenses/LICENSE-2.0\n",
    "#\n",
    "#  Unless required by applicable law or agreed to in writing, software\n",
    "#  distributed under the License is distributed on an \"AS IS\" BASIS,\n",
    "#  WITHOUT WARRANTIES OR CONDITIONS OF ANY KIND, either express or implied.\n",
    "#  See the License for the specific language governing permissions and\n",
    "# limitations under the License."
   ]
  },
  {
   "cell_type": "markdown",
   "id": "1f4d8451-7984-4864-b0b3-1aa4c20a7eee",
   "metadata": {},
   "source": [
    "# Deep Dive into Hudi Table & Query Types: Snapshot, RO, Incremental, Time Travel, CDC\n",
    "This notebook is your guide to mastering Hudi's advanced query capabilities. We'll explore hands-on examples of the different read modes like Snapshot, Read-Optimized, Incremental, Time Travel, and Change Data Capture to help you understand when to use each for building efficient data pipelines."
   ]
  },
  {
   "cell_type": "markdown",
   "id": "d28ed197-96b0-4a97-97c9-ca99fab56e0d",
   "metadata": {},
   "source": [
    "## Setting up the Environment\n",
    "We begin by loading the utils.py file, which contains the necessary imports and functions to start a SparkSession."
   ]
  },
  {
   "cell_type": "code",
   "execution_count": 32,
   "id": "f01f1282-5d43-4235-8f6a-f4bb45de8a6a",
   "metadata": {},
   "outputs": [
    {
     "name": "stdout",
     "output_type": "stream",
     "text": [
      "SparkSession started with app name: Hudi-Notebooks\n"
     ]
    }
   ],
   "source": [
    "%run utils.py"
   ]
  },
  {
   "cell_type": "markdown",
   "id": "11fd039d-c487-41ba-bb75-0cf797ae6ce3",
   "metadata": {},
   "source": [
    "Before we can start querying, we need to create our Hudi tables. Hudi offers two primary table types to choose from:\n",
    "\n",
    "- **Copy-on-Write (COW)**\n",
    "- **Merge-on-Read (MOR)**\n",
    "\n",
    "For this deep dive, we'll create one table for each of Hudi's main storage types:\n",
    "\n",
    "- **trips_table_cow:** Our Copy-on-Write (COW) table, which we'll use to demonstrate how Hudi rewrites files on updates.\n",
    "- **trips_table_mor:** Our Merge-on-Read (MOR) table, which will help us understand how Hudi uses log files for faster updates and different read views.\n",
    "\n",
    "After creating both tables, we'll be ready to explore all the query types."
   ]
  },
  {
   "cell_type": "markdown",
   "id": "e9a7988e-f13a-47e6-afed-e3a5d8a16807",
   "metadata": {},
   "source": [
    "This is the sample ride data we will use to create our Hudi table. It includes details like the timestamp, a unique ID, rider, driver, fare, and city."
   ]
  },
  {
   "cell_type": "code",
   "execution_count": 3,
   "id": "0b1e8599-715a-45b8-aab0-adbcb0fddd71",
   "metadata": {},
   "outputs": [],
   "source": [
    "columns = [\"ts\", \"uuid\", \"rider\", \"driver\", \"fare\", \"city\"]\n",
    "data = [\n",
    "    (\"2025-08-10 08:15:30\", \"uuid-001\", \"rider-A\", \"driver-X\", 18.50, \"new_york\"),\n",
    "    (\"2025-08-10 09:22:10\", \"uuid-002\", \"rider-B\", \"driver-Y\", 22.75, \"san_francisco\"),\n",
    "    (\"2025-08-10 10:05:45\", \"uuid-003\", \"rider-C\", \"driver-Z\", 14.60, \"chicago\"),\n",
    "    (\"2025-08-10 11:40:00\", \"uuid-004\", \"rider-D\", \"driver-W\", 31.90, \"new_york\"),\n",
    "    (\"2025-08-10 12:55:15\", \"uuid-005\", \"rider-E\", \"driver-V\", 25.10, \"san_francisco\"),\n",
    "    (\"2025-08-10 13:20:35\", \"uuid-006\", \"rider-F\", \"driver-U\", 19.80, \"chicago\"),\n",
    "    (\"2025-08-10 14:10:05\", \"uuid-007\", \"rider-G\", \"driver-T\", 28.45, \"san_francisco\"),\n",
    "    (\"2025-08-10 15:00:20\", \"uuid-008\", \"rider-H\", \"driver-S\", 16.25, \"new_york\"),\n",
    "    (\"2025-08-10 15:45:50\", \"uuid-009\", \"rider-I\", \"driver-R\", 24.35, \"chicago\"),\n",
    "    (\"2025-08-10 16:30:00\", \"uuid-010\", \"rider-J\", \"driver-Q\", 20.00, \"new_york\"),\n",
    "]"
   ]
  },
  {
   "cell_type": "code",
   "execution_count": 33,
   "id": "3b81a930-2c19-4563-a414-56f478bb7dd3",
   "metadata": {},
   "outputs": [
    {
     "data": {
      "text/html": [
       "\n",
       "    <style>\n",
       "        .dataframe {\n",
       "            border-radius: 0.5rem;\n",
       "            box-shadow: 0 4px 6px -1px rgba(0, 0, 0, 0.1), 0 2px 4px -1px rgba(0, 0, 0, 0.06);\n",
       "            overflow-x: auto;\n",
       "            border: 1px solid #e2e8f0;\n",
       "        }\n",
       "        .dataframe th {\n",
       "            background-color: #f1f5f9;\n",
       "            color: #1f2937;\n",
       "            font-weight: 600;\n",
       "            padding: 0.75rem 1.5rem;\n",
       "            text-align: left;\n",
       "            border-bottom: 2px solid #e2e8f0;\n",
       "        }\n",
       "        .dataframe td {\n",
       "            padding: 0.75rem 1.5rem;\n",
       "            border-bottom: 1px solid #e2e8f0;\n",
       "        }\n",
       "        .dataframe tr:nth-child(even) {\n",
       "            background-color: #f8fafc;\n",
       "        }\n",
       "        .dataframe tr:hover {\n",
       "            background-color: #e2e8f0;\n",
       "            transition: background-color 0.2s ease-in-out;\n",
       "        }\n",
       "    </style>\n",
       "    <table border=\"1\" class=\"dataframe w-full border-collapse text-sm text-gray-900 dark:text-white\">\n",
       "  <thead>\n",
       "    <tr style=\"text-align: right;\">\n",
       "      <th>ts</th>\n",
       "      <th>uuid</th>\n",
       "      <th>rider</th>\n",
       "      <th>driver</th>\n",
       "      <th>fare</th>\n",
       "      <th>city</th>\n",
       "    </tr>\n",
       "  </thead>\n",
       "  <tbody>\n",
       "    <tr>\n",
       "      <td>2025-08-10 08:15:30</td>\n",
       "      <td>uuid-001</td>\n",
       "      <td>rider-A</td>\n",
       "      <td>driver-X</td>\n",
       "      <td>18.50</td>\n",
       "      <td>new_york</td>\n",
       "    </tr>\n",
       "    <tr>\n",
       "      <td>2025-08-10 09:22:10</td>\n",
       "      <td>uuid-002</td>\n",
       "      <td>rider-B</td>\n",
       "      <td>driver-Y</td>\n",
       "      <td>22.75</td>\n",
       "      <td>san_francisco</td>\n",
       "    </tr>\n",
       "    <tr>\n",
       "      <td>2025-08-10 10:05:45</td>\n",
       "      <td>uuid-003</td>\n",
       "      <td>rider-C</td>\n",
       "      <td>driver-Z</td>\n",
       "      <td>14.60</td>\n",
       "      <td>chicago</td>\n",
       "    </tr>\n",
       "    <tr>\n",
       "      <td>2025-08-10 11:40:00</td>\n",
       "      <td>uuid-004</td>\n",
       "      <td>rider-D</td>\n",
       "      <td>driver-W</td>\n",
       "      <td>31.90</td>\n",
       "      <td>new_york</td>\n",
       "    </tr>\n",
       "    <tr>\n",
       "      <td>2025-08-10 12:55:15</td>\n",
       "      <td>uuid-005</td>\n",
       "      <td>rider-E</td>\n",
       "      <td>driver-V</td>\n",
       "      <td>25.10</td>\n",
       "      <td>san_francisco</td>\n",
       "    </tr>\n",
       "    <tr>\n",
       "      <td>2025-08-10 13:20:35</td>\n",
       "      <td>uuid-006</td>\n",
       "      <td>rider-F</td>\n",
       "      <td>driver-U</td>\n",
       "      <td>19.80</td>\n",
       "      <td>chicago</td>\n",
       "    </tr>\n",
       "    <tr>\n",
       "      <td>2025-08-10 14:10:05</td>\n",
       "      <td>uuid-007</td>\n",
       "      <td>rider-G</td>\n",
       "      <td>driver-T</td>\n",
       "      <td>28.45</td>\n",
       "      <td>san_francisco</td>\n",
       "    </tr>\n",
       "    <tr>\n",
       "      <td>2025-08-10 15:00:20</td>\n",
       "      <td>uuid-008</td>\n",
       "      <td>rider-H</td>\n",
       "      <td>driver-S</td>\n",
       "      <td>16.25</td>\n",
       "      <td>new_york</td>\n",
       "    </tr>\n",
       "    <tr>\n",
       "      <td>2025-08-10 15:45:50</td>\n",
       "      <td>uuid-009</td>\n",
       "      <td>rider-I</td>\n",
       "      <td>driver-R</td>\n",
       "      <td>24.35</td>\n",
       "      <td>chicago</td>\n",
       "    </tr>\n",
       "    <tr>\n",
       "      <td>2025-08-10 16:30:00</td>\n",
       "      <td>uuid-010</td>\n",
       "      <td>rider-J</td>\n",
       "      <td>driver-Q</td>\n",
       "      <td>20.00</td>\n",
       "      <td>new_york</td>\n",
       "    </tr>\n",
       "  </tbody>\n",
       "</table>"
      ],
      "text/plain": [
       "<IPython.core.display.HTML object>"
      ]
     },
     "metadata": {},
     "output_type": "display_data"
    }
   ],
   "source": [
    "inputDF = spark.createDataFrame(data).toDF(*columns)\n",
    "display(inputDF)"
   ]
  },
  {
   "cell_type": "markdown",
   "id": "dc18d31f-f9e9-4820-a697-4e2e288a3a15",
   "metadata": {},
   "source": [
    "### Hudi Configuration for a COW Table"
   ]
  },
  {
   "cell_type": "code",
   "execution_count": 5,
   "id": "efaeab1f-0b94-44ba-bb70-1764eaadce47",
   "metadata": {},
   "outputs": [],
   "source": [
    "table_name_cow = \"trips_table_cow\"\n",
    "base_path = f\"s3a://warehouse/hudi-db\"\n",
    "\n",
    "cow_hudi_conf = {\n",
    "    \"hoodie.table.name\": table_name_cow, # The name of our Hudi table.\n",
    "    \"hoodie.datasource.write.recordkey.field\": \"uuid\", # The column that acts as the unique identifier for each record.\n",
    "    \"hoodie.datasource.write.table.type\": \"COPY_ON_WRITE\", # Hudi uses Copy-on-Write as the default table type, but we are being explicit here.\n",
    "    \"hoodie.datasource.write.partitionpath.field\": \"city\", # The column Hudi uses to partition the data on storage.\n",
    "    \"hoodie.datasource.write.precombine.field\": \"ts\", # The field used to deduplicate records when a conflict occurs.\n",
    "    \"hoodie.write.markers.type\": \"DIRECT\",\n",
    "    \"hoodie.table.cdc.enabled\": \"true\",\n",
    "    \"hoodie.datasource.write.hive_style_partitioning\": \"true\" # This ensures partition directories are named like `city=new_york`.\n",
    "}"
   ]
  },
  {
   "cell_type": "markdown",
   "id": "ef3038e4-d683-4652-a830-2c7b863fd7a5",
   "metadata": {},
   "source": [
    "### Inserting data in a COW Table"
   ]
  },
  {
   "cell_type": "code",
   "execution_count": 6,
   "id": "dec4a0dd-a68c-4473-a110-9aa213b1b3da",
   "metadata": {},
   "outputs": [
    {
     "name": "stdout",
     "output_type": "stream",
     "text": [
      "# WARNING: Unable to attach Serviceability Agent. Unable to attach even with module exceptions: [org.apache.hudi.org.openjdk.jol.vm.sa.SASupportException: Sense failed., org.apache.hudi.org.openjdk.jol.vm.sa.SASupportException: Sense failed., org.apache.hudi.org.openjdk.jol.vm.sa.SASupportException: Sense failed.]\n"
     ]
    }
   ],
   "source": [
    "# Write the DataFrame to a Hudi COW table\n",
    "# The default operation is \"upsert\" if this is not specified.\n",
    "inputDF.write \\\n",
    "    .format(\"hudi\") \\\n",
    "    .option(\"hoodie.datasource.write.operation\", \"insert\") \\\n",
    "    .options(**cow_hudi_conf) \\\n",
    "    .mode(\"overwrite\") \\\n",
    "    .save(f\"{base_path}/{table_name_cow}\")"
   ]
  },
  {
   "cell_type": "markdown",
   "id": "158c35d3-7482-4532-8fcb-e6a36c178fb7",
   "metadata": {},
   "source": [
    "Now that COW table is set up, we can begin our deep dive into Hudi's powerful query types. In this section, we will discuss:\n",
    "\n",
    "- **Snapshot Query:** The default read mode for viewing the latest state of the table.\n",
    "- **Incremental Query:** A way to get only the new data added since a specific point in time.\n",
    "- **Time Travel Query:** How to view the table as it existed at a past moment.\n",
    "- **Change Data Capture (CDC) Query:** How to retrieve a detailed stream of changes (updates, inserts, and deletes)."
   ]
  },
  {
   "cell_type": "markdown",
   "id": "1a323202-6e0d-4f2f-b68c-ade5e7fc4b2a",
   "metadata": {},
   "source": [
    "## Querying COW Tables"
   ]
  },
  {
   "cell_type": "markdown",
   "id": "3f1b2020-8ea6-420a-a061-ba6f20d9d835",
   "metadata": {},
   "source": [
    "### 1. Snapshot Query\n",
    "This is the default query type when reading Hudi tables. Its goal is to give you a complete, up-to-the-minute view of your data.\n",
    "\n",
    "Let's do a quick snapshot query to see the current state of our tables."
   ]
  },
  {
   "cell_type": "code",
   "execution_count": 7,
   "id": "0fa7d38f-9988-4691-8a11-7b7fceff57c7",
   "metadata": {},
   "outputs": [
    {
     "data": {
      "text/html": [
       "\n",
       "    <style>\n",
       "        .dataframe {\n",
       "            border-radius: 0.5rem;\n",
       "            box-shadow: 0 4px 6px -1px rgba(0, 0, 0, 0.1), 0 2px 4px -1px rgba(0, 0, 0, 0.06);\n",
       "            overflow-x: auto;\n",
       "            border: 1px solid #e2e8f0;\n",
       "        }\n",
       "        .dataframe th {\n",
       "            background-color: #f1f5f9;\n",
       "            color: #1f2937;\n",
       "            font-weight: 600;\n",
       "            padding: 0.75rem 1.5rem;\n",
       "            text-align: left;\n",
       "            border-bottom: 2px solid #e2e8f0;\n",
       "        }\n",
       "        .dataframe td {\n",
       "            padding: 0.75rem 1.5rem;\n",
       "            border-bottom: 1px solid #e2e8f0;\n",
       "        }\n",
       "        .dataframe tr:nth-child(even) {\n",
       "            background-color: #f8fafc;\n",
       "        }\n",
       "        .dataframe tr:hover {\n",
       "            background-color: #e2e8f0;\n",
       "            transition: background-color 0.2s ease-in-out;\n",
       "        }\n",
       "    </style>\n",
       "    <table border=\"1\" class=\"dataframe w-full border-collapse text-sm text-gray-900 dark:text-white\">\n",
       "  <thead>\n",
       "    <tr style=\"text-align: right;\">\n",
       "      <th>_hoodie_commit_time</th>\n",
       "      <th>uuid</th>\n",
       "      <th>rider</th>\n",
       "      <th>driver</th>\n",
       "      <th>fare</th>\n",
       "      <th>city</th>\n",
       "      <th>ts</th>\n",
       "    </tr>\n",
       "  </thead>\n",
       "  <tbody>\n",
       "    <tr>\n",
       "      <td>20250926092128379</td>\n",
       "      <td>uuid-002</td>\n",
       "      <td>rider-B</td>\n",
       "      <td>driver-Y</td>\n",
       "      <td>22.75</td>\n",
       "      <td>san_francisco</td>\n",
       "      <td>2025-08-10 09:22:10</td>\n",
       "    </tr>\n",
       "    <tr>\n",
       "      <td>20250926092128379</td>\n",
       "      <td>uuid-005</td>\n",
       "      <td>rider-E</td>\n",
       "      <td>driver-V</td>\n",
       "      <td>25.10</td>\n",
       "      <td>san_francisco</td>\n",
       "      <td>2025-08-10 12:55:15</td>\n",
       "    </tr>\n",
       "    <tr>\n",
       "      <td>20250926092128379</td>\n",
       "      <td>uuid-007</td>\n",
       "      <td>rider-G</td>\n",
       "      <td>driver-T</td>\n",
       "      <td>28.45</td>\n",
       "      <td>san_francisco</td>\n",
       "      <td>2025-08-10 14:10:05</td>\n",
       "    </tr>\n",
       "    <tr>\n",
       "      <td>20250926092128379</td>\n",
       "      <td>uuid-001</td>\n",
       "      <td>rider-A</td>\n",
       "      <td>driver-X</td>\n",
       "      <td>18.50</td>\n",
       "      <td>new_york</td>\n",
       "      <td>2025-08-10 08:15:30</td>\n",
       "    </tr>\n",
       "    <tr>\n",
       "      <td>20250926092128379</td>\n",
       "      <td>uuid-004</td>\n",
       "      <td>rider-D</td>\n",
       "      <td>driver-W</td>\n",
       "      <td>31.90</td>\n",
       "      <td>new_york</td>\n",
       "      <td>2025-08-10 11:40:00</td>\n",
       "    </tr>\n",
       "    <tr>\n",
       "      <td>20250926092128379</td>\n",
       "      <td>uuid-008</td>\n",
       "      <td>rider-H</td>\n",
       "      <td>driver-S</td>\n",
       "      <td>16.25</td>\n",
       "      <td>new_york</td>\n",
       "      <td>2025-08-10 15:00:20</td>\n",
       "    </tr>\n",
       "    <tr>\n",
       "      <td>20250926092128379</td>\n",
       "      <td>uuid-010</td>\n",
       "      <td>rider-J</td>\n",
       "      <td>driver-Q</td>\n",
       "      <td>20.00</td>\n",
       "      <td>new_york</td>\n",
       "      <td>2025-08-10 16:30:00</td>\n",
       "    </tr>\n",
       "    <tr>\n",
       "      <td>20250926092128379</td>\n",
       "      <td>uuid-003</td>\n",
       "      <td>rider-C</td>\n",
       "      <td>driver-Z</td>\n",
       "      <td>14.60</td>\n",
       "      <td>chicago</td>\n",
       "      <td>2025-08-10 10:05:45</td>\n",
       "    </tr>\n",
       "    <tr>\n",
       "      <td>20250926092128379</td>\n",
       "      <td>uuid-006</td>\n",
       "      <td>rider-F</td>\n",
       "      <td>driver-U</td>\n",
       "      <td>19.80</td>\n",
       "      <td>chicago</td>\n",
       "      <td>2025-08-10 13:20:35</td>\n",
       "    </tr>\n",
       "    <tr>\n",
       "      <td>20250926092128379</td>\n",
       "      <td>uuid-009</td>\n",
       "      <td>rider-I</td>\n",
       "      <td>driver-R</td>\n",
       "      <td>24.35</td>\n",
       "      <td>chicago</td>\n",
       "      <td>2025-08-10 15:45:50</td>\n",
       "    </tr>\n",
       "  </tbody>\n",
       "</table>"
      ],
      "text/plain": [
       "<IPython.core.display.HTML object>"
      ]
     },
     "metadata": {},
     "output_type": "display_data"
    }
   ],
   "source": [
    "cowSnapshotQueryDF = spark.read \\\n",
    "        .format(\"hudi\") \\\n",
    "        .load(f\"{base_path}/{table_name_cow}\" + \"/*/*\")\n",
    "\n",
    "display(cowSnapshotQueryDF.select(\"_hoodie_commit_time\", \"uuid\", \"rider\", \"driver\", \"fare\", \"city\", \"ts\"))"
   ]
  },
  {
   "cell_type": "markdown",
   "id": "fa871e07-1d7c-42ba-aebc-dd4de98f8af1",
   "metadata": {},
   "source": [
    "Now update one record in the COW table."
   ]
  },
  {
   "cell_type": "code",
   "execution_count": 8,
   "id": "3429d001-5e3c-40ba-a9eb-765fc6f3454c",
   "metadata": {},
   "outputs": [
    {
     "data": {
      "text/html": [
       "\n",
       "    <style>\n",
       "        .dataframe {\n",
       "            border-radius: 0.5rem;\n",
       "            box-shadow: 0 4px 6px -1px rgba(0, 0, 0, 0.1), 0 2px 4px -1px rgba(0, 0, 0, 0.06);\n",
       "            overflow-x: auto;\n",
       "            border: 1px solid #e2e8f0;\n",
       "        }\n",
       "        .dataframe th {\n",
       "            background-color: #f1f5f9;\n",
       "            color: #1f2937;\n",
       "            font-weight: 600;\n",
       "            padding: 0.75rem 1.5rem;\n",
       "            text-align: left;\n",
       "            border-bottom: 2px solid #e2e8f0;\n",
       "        }\n",
       "        .dataframe td {\n",
       "            padding: 0.75rem 1.5rem;\n",
       "            border-bottom: 1px solid #e2e8f0;\n",
       "        }\n",
       "        .dataframe tr:nth-child(even) {\n",
       "            background-color: #f8fafc;\n",
       "        }\n",
       "        .dataframe tr:hover {\n",
       "            background-color: #e2e8f0;\n",
       "            transition: background-color 0.2s ease-in-out;\n",
       "        }\n",
       "    </style>\n",
       "    <table border=\"1\" class=\"dataframe w-full border-collapse text-sm text-gray-900 dark:text-white\">\n",
       "  <thead>\n",
       "    <tr style=\"text-align: right;\">\n",
       "      <th>uuid</th>\n",
       "      <th>rider</th>\n",
       "      <th>driver</th>\n",
       "      <th>fare</th>\n",
       "      <th>city</th>\n",
       "      <th>ts</th>\n",
       "    </tr>\n",
       "  </thead>\n",
       "  <tbody>\n",
       "    <tr>\n",
       "      <td>uuid-007</td>\n",
       "      <td>rider-G</td>\n",
       "      <td>driver-T</td>\n",
       "      <td>284.5</td>\n",
       "      <td>san_francisco</td>\n",
       "      <td>2025-08-10 14:10:05</td>\n",
       "    </tr>\n",
       "  </tbody>\n",
       "</table>"
      ],
      "text/plain": [
       "<IPython.core.display.HTML object>"
      ]
     },
     "metadata": {},
     "output_type": "display_data"
    }
   ],
   "source": [
    "from pyspark.sql.functions import col\n",
    "updatesDF = spark.read.format(\"hudi\").load(f\"{base_path}/{table_name_cow}\").filter(col(\"rider\") == \"rider-G\").withColumn(\"fare\", col(\"fare\") * 10)\n",
    "\n",
    "display(updatesDF.select(\"uuid\", \"rider\", \"driver\", \"fare\", \"city\", \"ts\"))"
   ]
  },
  {
   "cell_type": "code",
   "execution_count": 9,
   "id": "2010a96f-f0c8-41ab-beb9-6606a86d110a",
   "metadata": {},
   "outputs": [],
   "source": [
    "updatesDF.write \\\n",
    "    .format(\"hudi\") \\\n",
    "    .option(\"hoodie.datasource.write.operation\", \"upsert\") \\\n",
    "    .options(**cow_hudi_conf) \\\n",
    "    .mode(\"append\") \\\n",
    "    .save(f\"{base_path}/{table_name_cow}\")"
   ]
  },
  {
   "cell_type": "markdown",
   "id": "2d9b7339-13c5-40ab-9c93-3f2c541a3ae6",
   "metadata": {},
   "source": [
    "Again execute the snapshot query to confirm if it results the latest view of the table and YES, We can see that it fetches the updated fare."
   ]
  },
  {
   "cell_type": "code",
   "execution_count": 10,
   "id": "14b4b122-38d9-465e-98f9-b862f7fce440",
   "metadata": {},
   "outputs": [
    {
     "data": {
      "text/html": [
       "\n",
       "    <style>\n",
       "        .dataframe {\n",
       "            border-radius: 0.5rem;\n",
       "            box-shadow: 0 4px 6px -1px rgba(0, 0, 0, 0.1), 0 2px 4px -1px rgba(0, 0, 0, 0.06);\n",
       "            overflow-x: auto;\n",
       "            border: 1px solid #e2e8f0;\n",
       "        }\n",
       "        .dataframe th {\n",
       "            background-color: #f1f5f9;\n",
       "            color: #1f2937;\n",
       "            font-weight: 600;\n",
       "            padding: 0.75rem 1.5rem;\n",
       "            text-align: left;\n",
       "            border-bottom: 2px solid #e2e8f0;\n",
       "        }\n",
       "        .dataframe td {\n",
       "            padding: 0.75rem 1.5rem;\n",
       "            border-bottom: 1px solid #e2e8f0;\n",
       "        }\n",
       "        .dataframe tr:nth-child(even) {\n",
       "            background-color: #f8fafc;\n",
       "        }\n",
       "        .dataframe tr:hover {\n",
       "            background-color: #e2e8f0;\n",
       "            transition: background-color 0.2s ease-in-out;\n",
       "        }\n",
       "    </style>\n",
       "    <table border=\"1\" class=\"dataframe w-full border-collapse text-sm text-gray-900 dark:text-white\">\n",
       "  <thead>\n",
       "    <tr style=\"text-align: right;\">\n",
       "      <th>_hoodie_commit_time</th>\n",
       "      <th>uuid</th>\n",
       "      <th>rider</th>\n",
       "      <th>driver</th>\n",
       "      <th>fare</th>\n",
       "      <th>city</th>\n",
       "      <th>ts</th>\n",
       "    </tr>\n",
       "  </thead>\n",
       "  <tbody>\n",
       "    <tr>\n",
       "      <td>20250926092134564</td>\n",
       "      <td>uuid-007</td>\n",
       "      <td>rider-G</td>\n",
       "      <td>driver-T</td>\n",
       "      <td>284.5</td>\n",
       "      <td>san_francisco</td>\n",
       "      <td>2025-08-10 14:10:05</td>\n",
       "    </tr>\n",
       "  </tbody>\n",
       "</table>"
      ],
      "text/plain": [
       "<IPython.core.display.HTML object>"
      ]
     },
     "metadata": {},
     "output_type": "display_data"
    }
   ],
   "source": [
    "cowSnapshotQueryDF = spark.read \\\n",
    "        .format(\"hudi\") \\\n",
    "        .load(f\"{base_path}/{table_name_cow}\" + \"/*/*\")\n",
    "\n",
    "display(cowSnapshotQueryDF.select(\"_hoodie_commit_time\", \"uuid\", \"rider\", \"driver\", \"fare\", \"city\", \"ts\").filter(col(\"rider\") == \"rider-G\"))"
   ]
  },
  {
   "cell_type": "markdown",
   "id": "43446d93-3fa3-43c0-b1d3-4b025098e204",
   "metadata": {},
   "source": [
    "### 2. Incremental Reads\n",
    "Hudi's incremental query feature lets us efficiently process only the data that has changed since a specific point in time. We'll start by listing all the commit times in our table."
   ]
  },
  {
   "cell_type": "markdown",
   "id": "a0da8fdc-e075-469f-9be8-15b7ae5b0861",
   "metadata": {},
   "source": [
    "Now, let's configure an incremental read to grab only the data committed after our update operation. Let's fetch the latest commit from the table."
   ]
  },
  {
   "cell_type": "code",
   "execution_count": 11,
   "id": "01e7ab3f-31f4-4d39-a8cb-0dbdb4b40fae",
   "metadata": {},
   "outputs": [
    {
     "data": {
      "text/html": [
       "\n",
       "    <style>\n",
       "        .dataframe {\n",
       "            border-radius: 0.5rem;\n",
       "            box-shadow: 0 4px 6px -1px rgba(0, 0, 0, 0.1), 0 2px 4px -1px rgba(0, 0, 0, 0.06);\n",
       "            overflow-x: auto;\n",
       "            border: 1px solid #e2e8f0;\n",
       "        }\n",
       "        .dataframe th {\n",
       "            background-color: #f1f5f9;\n",
       "            color: #1f2937;\n",
       "            font-weight: 600;\n",
       "            padding: 0.75rem 1.5rem;\n",
       "            text-align: left;\n",
       "            border-bottom: 2px solid #e2e8f0;\n",
       "        }\n",
       "        .dataframe td {\n",
       "            padding: 0.75rem 1.5rem;\n",
       "            border-bottom: 1px solid #e2e8f0;\n",
       "        }\n",
       "        .dataframe tr:nth-child(even) {\n",
       "            background-color: #f8fafc;\n",
       "        }\n",
       "        .dataframe tr:hover {\n",
       "            background-color: #e2e8f0;\n",
       "            transition: background-color 0.2s ease-in-out;\n",
       "        }\n",
       "    </style>\n",
       "    <table border=\"1\" class=\"dataframe w-full border-collapse text-sm text-gray-900 dark:text-white\">\n",
       "  <thead>\n",
       "    <tr style=\"text-align: right;\">\n",
       "      <th>_hoodie_commit_time</th>\n",
       "    </tr>\n",
       "  </thead>\n",
       "  <tbody>\n",
       "    <tr>\n",
       "      <td>20250926092128379</td>\n",
       "    </tr>\n",
       "    <tr>\n",
       "      <td>20250926092134564</td>\n",
       "    </tr>\n",
       "  </tbody>\n",
       "</table>"
      ],
      "text/plain": [
       "<IPython.core.display.HTML object>"
      ]
     },
     "metadata": {},
     "output_type": "display_data"
    },
    {
     "name": "stdout",
     "output_type": "stream",
     "text": [
      "Incremental commit time: 20250926092134564\n"
     ]
    }
   ],
   "source": [
    "# Get distinct commit times ordered\n",
    "all_commits_df = spark.read.format(\"hudi\").load(f\"{base_path}/{table_name_cow}\") \\\n",
    "    .select(\"_hoodie_commit_time\") \\\n",
    "    .distinct() \\\n",
    "    .orderBy(\"_hoodie_commit_time\")\n",
    "\n",
    "# Collect top 50 commit times as a list\n",
    "all_commits = [row['_hoodie_commit_time'] for row in all_commits_df.take(50)]\n",
    "\n",
    "incrementalTime = all_commits[-1]  # Commit time we are interested in\n",
    "display(all_commits_df)\n",
    "print(f\"Incremental commit time: {incrementalTime}\")"
   ]
  },
  {
   "cell_type": "code",
   "execution_count": 12,
   "id": "ac1c6d7c-ca86-4d64-ad18-36275082cf69",
   "metadata": {},
   "outputs": [],
   "source": [
    "incremental_read_options = {\n",
    "  'hoodie.datasource.query.type': 'incremental',\n",
    "  'hoodie.datasource.read.begin.instanttime': incrementalTime,\n",
    "}\n",
    "\n",
    "incrementalQueryDF = spark.read.format(\"hudi\") \\\n",
    "  .options(**incremental_read_options) \\\n",
    "  .load(f\"{base_path}/{table_name_cow}\")\n",
    "\n",
    "incrementalQueryDF.createOrReplaceTempView(\"trips_incremental\")"
   ]
  },
  {
   "cell_type": "markdown",
   "id": "96d626f2-9011-4d53-a7e4-24bcac1b983c",
   "metadata": {},
   "source": [
    "When we query our temporary incremental table, you can see that it returns only the single record that was updated since our last write operation."
   ]
  },
  {
   "cell_type": "code",
   "execution_count": 13,
   "id": "7281238f-5020-4040-a327-d5290c6cacc5",
   "metadata": {},
   "outputs": [
    {
     "data": {
      "text/html": [
       "\n",
       "    <style>\n",
       "        .dataframe {\n",
       "            border-radius: 0.5rem;\n",
       "            box-shadow: 0 4px 6px -1px rgba(0, 0, 0, 0.1), 0 2px 4px -1px rgba(0, 0, 0, 0.06);\n",
       "            overflow-x: auto;\n",
       "            border: 1px solid #e2e8f0;\n",
       "        }\n",
       "        .dataframe th {\n",
       "            background-color: #f1f5f9;\n",
       "            color: #1f2937;\n",
       "            font-weight: 600;\n",
       "            padding: 0.75rem 1.5rem;\n",
       "            text-align: left;\n",
       "            border-bottom: 2px solid #e2e8f0;\n",
       "        }\n",
       "        .dataframe td {\n",
       "            padding: 0.75rem 1.5rem;\n",
       "            border-bottom: 1px solid #e2e8f0;\n",
       "        }\n",
       "        .dataframe tr:nth-child(even) {\n",
       "            background-color: #f8fafc;\n",
       "        }\n",
       "        .dataframe tr:hover {\n",
       "            background-color: #e2e8f0;\n",
       "            transition: background-color 0.2s ease-in-out;\n",
       "        }\n",
       "    </style>\n",
       "    <table border=\"1\" class=\"dataframe w-full border-collapse text-sm text-gray-900 dark:text-white\">\n",
       "  <thead>\n",
       "    <tr style=\"text-align: right;\">\n",
       "      <th>_hoodie_commit_time</th>\n",
       "      <th>uuid</th>\n",
       "      <th>rider</th>\n",
       "      <th>driver</th>\n",
       "      <th>fare</th>\n",
       "      <th>city</th>\n",
       "      <th>ts</th>\n",
       "    </tr>\n",
       "  </thead>\n",
       "  <tbody>\n",
       "    <tr>\n",
       "      <td>20250926092134564</td>\n",
       "      <td>uuid-007</td>\n",
       "      <td>rider-G</td>\n",
       "      <td>driver-T</td>\n",
       "      <td>284.5</td>\n",
       "      <td>san_francisco</td>\n",
       "      <td>2025-08-10 14:10:05</td>\n",
       "    </tr>\n",
       "  </tbody>\n",
       "</table>"
      ],
      "text/plain": [
       "<IPython.core.display.HTML object>"
      ]
     },
     "metadata": {},
     "output_type": "display_data"
    }
   ],
   "source": [
    "display(spark.sql(\"select _hoodie_commit_time, uuid, rider, driver, fare, city, ts from trips_incremental\"))"
   ]
  },
  {
   "cell_type": "markdown",
   "id": "7e47551b-9b87-499d-a708-2db15ddbbea2",
   "metadata": {},
   "source": [
    "### 3. Time Travel Query\n",
    "Hudi also allows for time travel, which means we can query the state of our table at a specific point in the past. By specifying the commit time from our initial data insertion, we can view the table's contents before we performed the update."
   ]
  },
  {
   "cell_type": "code",
   "execution_count": 14,
   "id": "3b428d95-b547-4dac-bd89-ed1bbdc2a963",
   "metadata": {},
   "outputs": [
    {
     "name": "stdout",
     "output_type": "stream",
     "text": [
      "Begin/Initial commit time: 20250926092128379\n"
     ]
    }
   ],
   "source": [
    "beginTime = all_commits[-2]  # Commit time we are interested in\n",
    "print(f\"Begin/Initial commit time: {beginTime}\")"
   ]
  },
  {
   "cell_type": "code",
   "execution_count": 15,
   "id": "59500bbd-ce40-48c3-ba04-2cb773cb3333",
   "metadata": {},
   "outputs": [],
   "source": [
    "spark.read.format(\"hudi\") \\\n",
    "  .option(\"as.of.instant\", beginTime) \\\n",
    "  .load(f\"{base_path}/{table_name_cow}\").createOrReplaceTempView(\"trips_time_travel\")"
   ]
  },
  {
   "cell_type": "code",
   "execution_count": 16,
   "id": "786c309d-8585-49cb-90c1-13c049cbcbd7",
   "metadata": {},
   "outputs": [
    {
     "data": {
      "text/html": [
       "\n",
       "    <style>\n",
       "        .dataframe {\n",
       "            border-radius: 0.5rem;\n",
       "            box-shadow: 0 4px 6px -1px rgba(0, 0, 0, 0.1), 0 2px 4px -1px rgba(0, 0, 0, 0.06);\n",
       "            overflow-x: auto;\n",
       "            border: 1px solid #e2e8f0;\n",
       "        }\n",
       "        .dataframe th {\n",
       "            background-color: #f1f5f9;\n",
       "            color: #1f2937;\n",
       "            font-weight: 600;\n",
       "            padding: 0.75rem 1.5rem;\n",
       "            text-align: left;\n",
       "            border-bottom: 2px solid #e2e8f0;\n",
       "        }\n",
       "        .dataframe td {\n",
       "            padding: 0.75rem 1.5rem;\n",
       "            border-bottom: 1px solid #e2e8f0;\n",
       "        }\n",
       "        .dataframe tr:nth-child(even) {\n",
       "            background-color: #f8fafc;\n",
       "        }\n",
       "        .dataframe tr:hover {\n",
       "            background-color: #e2e8f0;\n",
       "            transition: background-color 0.2s ease-in-out;\n",
       "        }\n",
       "    </style>\n",
       "    <table border=\"1\" class=\"dataframe w-full border-collapse text-sm text-gray-900 dark:text-white\">\n",
       "  <thead>\n",
       "    <tr style=\"text-align: right;\">\n",
       "      <th>_hoodie_commit_time</th>\n",
       "      <th>uuid</th>\n",
       "      <th>rider</th>\n",
       "      <th>driver</th>\n",
       "      <th>fare</th>\n",
       "      <th>city</th>\n",
       "      <th>ts</th>\n",
       "    </tr>\n",
       "  </thead>\n",
       "  <tbody>\n",
       "    <tr>\n",
       "      <td>20250926092128379</td>\n",
       "      <td>uuid-002</td>\n",
       "      <td>rider-B</td>\n",
       "      <td>driver-Y</td>\n",
       "      <td>22.75</td>\n",
       "      <td>san_francisco</td>\n",
       "      <td>2025-08-10 09:22:10</td>\n",
       "    </tr>\n",
       "    <tr>\n",
       "      <td>20250926092128379</td>\n",
       "      <td>uuid-005</td>\n",
       "      <td>rider-E</td>\n",
       "      <td>driver-V</td>\n",
       "      <td>25.10</td>\n",
       "      <td>san_francisco</td>\n",
       "      <td>2025-08-10 12:55:15</td>\n",
       "    </tr>\n",
       "    <tr>\n",
       "      <td>20250926092128379</td>\n",
       "      <td>uuid-007</td>\n",
       "      <td>rider-G</td>\n",
       "      <td>driver-T</td>\n",
       "      <td>28.45</td>\n",
       "      <td>san_francisco</td>\n",
       "      <td>2025-08-10 14:10:05</td>\n",
       "    </tr>\n",
       "    <tr>\n",
       "      <td>20250926092128379</td>\n",
       "      <td>uuid-001</td>\n",
       "      <td>rider-A</td>\n",
       "      <td>driver-X</td>\n",
       "      <td>18.50</td>\n",
       "      <td>new_york</td>\n",
       "      <td>2025-08-10 08:15:30</td>\n",
       "    </tr>\n",
       "    <tr>\n",
       "      <td>20250926092128379</td>\n",
       "      <td>uuid-004</td>\n",
       "      <td>rider-D</td>\n",
       "      <td>driver-W</td>\n",
       "      <td>31.90</td>\n",
       "      <td>new_york</td>\n",
       "      <td>2025-08-10 11:40:00</td>\n",
       "    </tr>\n",
       "    <tr>\n",
       "      <td>20250926092128379</td>\n",
       "      <td>uuid-008</td>\n",
       "      <td>rider-H</td>\n",
       "      <td>driver-S</td>\n",
       "      <td>16.25</td>\n",
       "      <td>new_york</td>\n",
       "      <td>2025-08-10 15:00:20</td>\n",
       "    </tr>\n",
       "    <tr>\n",
       "      <td>20250926092128379</td>\n",
       "      <td>uuid-010</td>\n",
       "      <td>rider-J</td>\n",
       "      <td>driver-Q</td>\n",
       "      <td>20.00</td>\n",
       "      <td>new_york</td>\n",
       "      <td>2025-08-10 16:30:00</td>\n",
       "    </tr>\n",
       "    <tr>\n",
       "      <td>20250926092128379</td>\n",
       "      <td>uuid-003</td>\n",
       "      <td>rider-C</td>\n",
       "      <td>driver-Z</td>\n",
       "      <td>14.60</td>\n",
       "      <td>chicago</td>\n",
       "      <td>2025-08-10 10:05:45</td>\n",
       "    </tr>\n",
       "    <tr>\n",
       "      <td>20250926092128379</td>\n",
       "      <td>uuid-006</td>\n",
       "      <td>rider-F</td>\n",
       "      <td>driver-U</td>\n",
       "      <td>19.80</td>\n",
       "      <td>chicago</td>\n",
       "      <td>2025-08-10 13:20:35</td>\n",
       "    </tr>\n",
       "    <tr>\n",
       "      <td>20250926092128379</td>\n",
       "      <td>uuid-009</td>\n",
       "      <td>rider-I</td>\n",
       "      <td>driver-R</td>\n",
       "      <td>24.35</td>\n",
       "      <td>chicago</td>\n",
       "      <td>2025-08-10 15:45:50</td>\n",
       "    </tr>\n",
       "  </tbody>\n",
       "</table>"
      ],
      "text/plain": [
       "<IPython.core.display.HTML object>"
      ]
     },
     "metadata": {},
     "output_type": "display_data"
    }
   ],
   "source": [
    "display(spark.sql(\"select _hoodie_commit_time, uuid, rider, driver, fare, city, ts from trips_time_travel\"))"
   ]
  },
  {
   "cell_type": "markdown",
   "id": "31a19793-95be-4ff7-8c9f-263b842f84d9",
   "metadata": {},
   "source": [
    "As you can see, querying the historical view shows the original fare for 'rider-G' before we updated it. This is a great way to audit or restore data from the past."
   ]
  },
  {
   "cell_type": "markdown",
   "id": "8c24db4a-ab35-421f-8227-cfebe95b78c9",
   "metadata": {},
   "source": [
    "### 4. Change Data Capture (CDC)\n",
    "Hudi's Change Data Capture (CDC) feature lets you read a stream of all the changes (inserts, updates, and deletes) that have been applied to your table. This is perfect for downstream systems that need to react to data modifications in real-time. We'll start by adding some new data and updating an existing record to generate some changes."
   ]
  },
  {
   "cell_type": "code",
   "execution_count": 17,
   "id": "288dfc2a-f597-4635-8089-7afb4c57d077",
   "metadata": {},
   "outputs": [],
   "source": [
    "from pyspark.sql.functions import lit\n",
    "from pyspark.sql import Row\n",
    "\n",
    "# Define a DataFrame with one new record and one updated record\n",
    "cdc_data = [\n",
    "    (\"2025-08-11 10:00:00\", \"uuid-011\", \"rider-K\", \"driver-P\", 10.50, \"chicago\"), # new record\n",
    "    (\"2025-08-10 09:22:10\", \"uuid-002\", \"rider-B\", \"driver-Y\", 50.00, \"san_francisco\") # updated record\n",
    "]\n",
    "\n",
    "cdc_columns = [\"ts\", \"uuid\", \"rider\", \"driver\", \"fare\", \"city\"]\n",
    "cdcDF = spark.createDataFrame(cdc_data).toDF(*cdc_columns)"
   ]
  },
  {
   "cell_type": "markdown",
   "id": "7ae1e3f7-f194-459d-a349-fe4ff0f02994",
   "metadata": {},
   "source": [
    "Now, we'll perform an upsert with our new data. This will create a new commit with one insert and one update."
   ]
  },
  {
   "cell_type": "code",
   "execution_count": 18,
   "id": "489e6612-f8b5-43bb-ad7d-04db19cf28a8",
   "metadata": {},
   "outputs": [],
   "source": [
    "# Perform the upsert to introduce the new changes\n",
    "cdcDF.write \\\n",
    "    .format(\"hudi\") \\\n",
    "    .option(\"hoodie.datasource.write.operation\", \"upsert\") \\\n",
    "    .options(**cow_hudi_conf) \\\n",
    "    .mode(\"append\") \\\n",
    "    .save(f\"{base_path}/{table_name_cow}\")"
   ]
  },
  {
   "cell_type": "markdown",
   "id": "fd7045fd-5cec-4bfd-b11b-17c89c38d6a8",
   "metadata": {},
   "source": [
    "Now we can perform a CDC query using a special incremental format. We'll set the query type to \"incremental\" and specify \"hoodie.datasource.query.incremental.format\": \"cdc\". By using the latest_commit_time we just fetched, we can capture all the changes from our last commit. The output will include the op column, which tells us whether a record was inserted, updated, or deleted."
   ]
  },
  {
   "cell_type": "markdown",
   "id": "10c909df-d3dc-4187-9608-8f6d1c190e19",
   "metadata": {},
   "source": [
    "To see the changes from this specific transaction, we'll first get its commit time. We'll then use this as our starting point for the CDC query to capture all the changes from that moment forward."
   ]
  },
  {
   "cell_type": "code",
   "execution_count": 19,
   "id": "1b3d7bc6-2ccb-4c57-ba97-467edd1bfc6a",
   "metadata": {},
   "outputs": [
    {
     "name": "stdout",
     "output_type": "stream",
     "text": [
      "Second-to-last commit time: 20250926092134564\n"
     ]
    }
   ],
   "source": [
    "# Read the Hudi table to get a DataFrame of all records.\n",
    "hudi_df = spark.read.format(\"hudi\").load(f\"{base_path}/{table_name_cow}\")\n",
    "\n",
    "# Get all distinct commit times and sort them in chronological order.\n",
    "# We then collect this list to the driver.\n",
    "all_commits = [\n",
    "    row[0]\n",
    "    for row in hudi_df.select(\"_hoodie_commit_time\")\n",
    "    .distinct()\n",
    "    .orderBy(\"_hoodie_commit_time\")\n",
    "    .collect()\n",
    "]\n",
    "\n",
    "if len(all_commits) >= 2:\n",
    "    # Use index -2 to get the second-to-last commit time from the sorted list.\n",
    "    previous_commit_time = all_commits[-2]\n",
    "    print(f\"Second-to-last commit time: {previous_commit_time}\")\n",
    "else:\n",
    "    print(\"There are not enough commits to determine a previous commit time.\")\n",
    "    previous_commit_time = 0"
   ]
  },
  {
   "cell_type": "markdown",
   "id": "a0a7b50c-e018-4a64-86b4-94f96959bee5",
   "metadata": {},
   "source": [
    "Now we can perform a CDC query using a special incremental format. We'll set the query type to \"incremental\" and specify \"hoodie.datasource.query.incremental.format\": \"cdc\". By using the latest_commit_time we just fetched, we can capture all the changes from our last commit. The output will include the op column, which tells us whether a record was inserted, updated, or deleted."
   ]
  },
  {
   "cell_type": "code",
   "execution_count": 20,
   "id": "b6b44881-7b4b-409b-91a0-bab6ac65fb19",
   "metadata": {},
   "outputs": [
    {
     "data": {
      "text/html": [
       "\n",
       "    <style>\n",
       "        .dataframe {\n",
       "            border-radius: 0.5rem;\n",
       "            box-shadow: 0 4px 6px -1px rgba(0, 0, 0, 0.1), 0 2px 4px -1px rgba(0, 0, 0, 0.06);\n",
       "            overflow-x: auto;\n",
       "            border: 1px solid #e2e8f0;\n",
       "        }\n",
       "        .dataframe th {\n",
       "            background-color: #f1f5f9;\n",
       "            color: #1f2937;\n",
       "            font-weight: 600;\n",
       "            padding: 0.75rem 1.5rem;\n",
       "            text-align: left;\n",
       "            border-bottom: 2px solid #e2e8f0;\n",
       "        }\n",
       "        .dataframe td {\n",
       "            padding: 0.75rem 1.5rem;\n",
       "            border-bottom: 1px solid #e2e8f0;\n",
       "        }\n",
       "        .dataframe tr:nth-child(even) {\n",
       "            background-color: #f8fafc;\n",
       "        }\n",
       "        .dataframe tr:hover {\n",
       "            background-color: #e2e8f0;\n",
       "            transition: background-color 0.2s ease-in-out;\n",
       "        }\n",
       "    </style>\n",
       "    <table border=\"1\" class=\"dataframe w-full border-collapse text-sm text-gray-900 dark:text-white\">\n",
       "  <thead>\n",
       "    <tr style=\"text-align: right;\">\n",
       "      <th>op</th>\n",
       "      <th>ts_ms</th>\n",
       "      <th>before</th>\n",
       "      <th>after</th>\n",
       "    </tr>\n",
       "  </thead>\n",
       "  <tbody>\n",
       "    <tr>\n",
       "      <td>u</td>\n",
       "      <td>20250926092136853</td>\n",
       "      <td>{\"ts\": \"2025-08-10 09:22:10\", \"uuid\": \"uuid-002\", \"rider\": \"rider-B\", \"driver\": \"driver-Y\", \"fare\": 22.75, \"city\": \"san_francisco\"}</td>\n",
       "      <td>{\"ts\": \"2025-08-10 09:22:10\", \"uuid\": \"uuid-002\", \"rider\": \"rider-B\", \"driver\": \"driver-Y\", \"fare\": 50.0, \"city\": \"san_francisco\"}</td>\n",
       "    </tr>\n",
       "    <tr>\n",
       "      <td>i</td>\n",
       "      <td>20250926092136853</td>\n",
       "      <td>null</td>\n",
       "      <td>{\"ts\": \"2025-08-11 10:00:00\", \"uuid\": \"uuid-011\", \"rider\": \"rider-K\", \"driver\": \"driver-P\", \"fare\": 10.5, \"city\": \"chicago\"}</td>\n",
       "    </tr>\n",
       "  </tbody>\n",
       "</table>"
      ],
      "text/plain": [
       "<IPython.core.display.HTML object>"
      ]
     },
     "metadata": {},
     "output_type": "display_data"
    }
   ],
   "source": [
    "cdc_read_options = {\n",
    "  'hoodie.datasource.query.type': 'incremental',\n",
    "  'hoodie.datasource.read.begin.instanttime': previous_commit_time,\n",
    "  'hoodie.datasource.query.incremental.format': 'cdc'\n",
    "}\n",
    "\n",
    "cdcQueryDF = spark.read.format(\"hudi\"). \\\n",
    "  options(**cdc_read_options). \\\n",
    "  load(f\"{base_path}/{table_name_cow}\")\n",
    "\n",
    "display(cdcQueryDF)"
   ]
  },
  {
   "cell_type": "markdown",
   "id": "665e5a66-2a2b-4c89-86e5-f9eec3b6a844",
   "metadata": {},
   "source": [
    "Let's look at the above output to see what happened:\n",
    "\n",
    "**Update:** We have a record where **op is u**. This corresponds to the update we made to uuid-002. The before column shows the original fare of 22.75, and the after column shows the new fare of 50.0.\n",
    "\n",
    "**Insert:** We also have a record where **op is i**. This is the new record for uuid-011. The before column is null because it didn't exist before this commit, while the after column contains all the new record's data."
   ]
  },
  {
   "cell_type": "markdown",
   "id": "7703409e-d3c5-468e-b9f8-3dc465cab3e2",
   "metadata": {},
   "source": [
    "### Hudi Configuration for a MOR Table"
   ]
  },
  {
   "cell_type": "code",
   "execution_count": 21,
   "id": "fe5910f4-7984-4f25-b690-a27e34027785",
   "metadata": {},
   "outputs": [],
   "source": [
    "table_name_mor = \"trips_table_mor\"\n",
    "base_path = f\"s3a://warehouse/hudi-db\"\n",
    "\n",
    "mor_hudi_conf = {\n",
    "    \"hoodie.table.name\": table_name_mor,\n",
    "    \"hoodie.datasource.write.recordkey.field\": \"uuid\",\n",
    "    \"hoodie.datasource.write.table.type\": \"MERGE_ON_READ\",\n",
    "    \"hoodie.datasource.write.partitionpath.field\": \"city\",\n",
    "    \"hoodie.datasource.write.precombine.field\": \"ts\",\n",
    "    \"hoodie.write.markers.type\": \"DIRECT\",\n",
    "    \"hoodie.datasource.write.hive_style_partitioning\": \"true\"\n",
    "}"
   ]
  },
  {
   "cell_type": "markdown",
   "id": "a8c4cfde-b571-4221-bc7f-0ffe8de50d6f",
   "metadata": {},
   "source": [
    "### Inserting Data into a MOR Table"
   ]
  },
  {
   "cell_type": "code",
   "execution_count": 22,
   "id": "d334daab-96cc-4605-b56c-001f69fb8bca",
   "metadata": {},
   "outputs": [],
   "source": [
    "# Write the DataFrame to a Hudi MOR table\n",
    "inputDF.write \\\n",
    "    .format(\"hudi\") \\\n",
    "    .option(\"hoodie.datasource.write.operation\", \"insert\") \\\n",
    "    .options(**mor_hudi_conf) \\\n",
    "    .mode(\"overwrite\") \\\n",
    "    .save(f\"{base_path}/{table_name_mor}\")"
   ]
  },
  {
   "cell_type": "markdown",
   "id": "3f539878-8479-4e49-98b7-9dab9cf80903",
   "metadata": {},
   "source": [
    "The MOR table is ready now, we can begin our deep dive into Hudi's powerful query types. In this section, we will discuss:\n",
    "\n",
    "- **Snapshot Query:** The default read mode for viewing the latest state of the table.\n",
    "- **Read-Optimized (RO) Query:** A specialized mode for faster reads on MOR tables."
   ]
  },
  {
   "cell_type": "markdown",
   "id": "893755f6-f78b-45cd-b861-1638c980b08d",
   "metadata": {},
   "source": [
    "### Querying MOR Tables"
   ]
  },
  {
   "cell_type": "markdown",
   "id": "77785e82-4d9d-4972-8adf-633558ee0427",
   "metadata": {},
   "source": [
    "Just like COW tables, lets query the MOR table as well. As we do not have any updates on our MOR table yet it is having only base data files. We can confirm the same by inspecting the filesystem."
   ]
  },
  {
   "cell_type": "code",
   "execution_count": 23,
   "id": "799797f8-7fc8-417a-b6f5-e0137a28e47b",
   "metadata": {},
   "outputs": [
    {
     "name": "stdout",
     "output_type": "stream",
     "text": [
      "s3a://warehouse/hudi-db/trips_table_mor/.hoodie\n",
      "s3a://warehouse/hudi-db/trips_table_mor/city=chicago\n",
      "s3a://warehouse/hudi-db/trips_table_mor/city=new_york\n",
      "s3a://warehouse/hudi-db/trips_table_mor/city=san_francisco\n"
     ]
    }
   ],
   "source": [
    "ls(f\"{base_path}/{table_name_mor}\")"
   ]
  },
  {
   "cell_type": "code",
   "execution_count": 24,
   "id": "5a16e027-0bdd-4d41-ab5e-6b7d2f94585e",
   "metadata": {},
   "outputs": [
    {
     "name": "stdout",
     "output_type": "stream",
     "text": [
      "s3a://warehouse/hudi-db/trips_table_mor/city=new_york/.hoodie_partition_metadata\n",
      "s3a://warehouse/hudi-db/trips_table_mor/city=new_york/6162e656-529e-475e-9848-add94ca9429a-0_2-148-385_20250926092138358.parquet\n"
     ]
    }
   ],
   "source": [
    "ls(f\"{base_path}/{table_name_mor}/city=new_york\")"
   ]
  },
  {
   "cell_type": "markdown",
   "id": "2e42a21b-c5b8-417b-9a8b-0f027b12c4c7",
   "metadata": {},
   "source": [
    "### 1. Snapshot Query\n",
    "When you run this query on a Merge-on-Read (MOR) table, Hudi merges the recent changes from the log files with the base data files to present the latest records, which can affect performance."
   ]
  },
  {
   "cell_type": "code",
   "execution_count": 25,
   "id": "3a02706e-3172-4767-93e7-5420fa9cb92d",
   "metadata": {},
   "outputs": [
    {
     "data": {
      "text/html": [
       "\n",
       "    <style>\n",
       "        .dataframe {\n",
       "            border-radius: 0.5rem;\n",
       "            box-shadow: 0 4px 6px -1px rgba(0, 0, 0, 0.1), 0 2px 4px -1px rgba(0, 0, 0, 0.06);\n",
       "            overflow-x: auto;\n",
       "            border: 1px solid #e2e8f0;\n",
       "        }\n",
       "        .dataframe th {\n",
       "            background-color: #f1f5f9;\n",
       "            color: #1f2937;\n",
       "            font-weight: 600;\n",
       "            padding: 0.75rem 1.5rem;\n",
       "            text-align: left;\n",
       "            border-bottom: 2px solid #e2e8f0;\n",
       "        }\n",
       "        .dataframe td {\n",
       "            padding: 0.75rem 1.5rem;\n",
       "            border-bottom: 1px solid #e2e8f0;\n",
       "        }\n",
       "        .dataframe tr:nth-child(even) {\n",
       "            background-color: #f8fafc;\n",
       "        }\n",
       "        .dataframe tr:hover {\n",
       "            background-color: #e2e8f0;\n",
       "            transition: background-color 0.2s ease-in-out;\n",
       "        }\n",
       "    </style>\n",
       "    <table border=\"1\" class=\"dataframe w-full border-collapse text-sm text-gray-900 dark:text-white\">\n",
       "  <thead>\n",
       "    <tr style=\"text-align: right;\">\n",
       "      <th>_hoodie_commit_time</th>\n",
       "      <th>uuid</th>\n",
       "      <th>rider</th>\n",
       "      <th>driver</th>\n",
       "      <th>fare</th>\n",
       "      <th>city</th>\n",
       "      <th>ts</th>\n",
       "    </tr>\n",
       "  </thead>\n",
       "  <tbody>\n",
       "    <tr>\n",
       "      <td>20250926092138358</td>\n",
       "      <td>uuid-002</td>\n",
       "      <td>rider-B</td>\n",
       "      <td>driver-Y</td>\n",
       "      <td>22.75</td>\n",
       "      <td>san_francisco</td>\n",
       "      <td>2025-08-10 09:22:10</td>\n",
       "    </tr>\n",
       "    <tr>\n",
       "      <td>20250926092138358</td>\n",
       "      <td>uuid-005</td>\n",
       "      <td>rider-E</td>\n",
       "      <td>driver-V</td>\n",
       "      <td>25.10</td>\n",
       "      <td>san_francisco</td>\n",
       "      <td>2025-08-10 12:55:15</td>\n",
       "    </tr>\n",
       "    <tr>\n",
       "      <td>20250926092138358</td>\n",
       "      <td>uuid-007</td>\n",
       "      <td>rider-G</td>\n",
       "      <td>driver-T</td>\n",
       "      <td>28.45</td>\n",
       "      <td>san_francisco</td>\n",
       "      <td>2025-08-10 14:10:05</td>\n",
       "    </tr>\n",
       "    <tr>\n",
       "      <td>20250926092138358</td>\n",
       "      <td>uuid-003</td>\n",
       "      <td>rider-C</td>\n",
       "      <td>driver-Z</td>\n",
       "      <td>14.60</td>\n",
       "      <td>chicago</td>\n",
       "      <td>2025-08-10 10:05:45</td>\n",
       "    </tr>\n",
       "    <tr>\n",
       "      <td>20250926092138358</td>\n",
       "      <td>uuid-006</td>\n",
       "      <td>rider-F</td>\n",
       "      <td>driver-U</td>\n",
       "      <td>19.80</td>\n",
       "      <td>chicago</td>\n",
       "      <td>2025-08-10 13:20:35</td>\n",
       "    </tr>\n",
       "    <tr>\n",
       "      <td>20250926092138358</td>\n",
       "      <td>uuid-009</td>\n",
       "      <td>rider-I</td>\n",
       "      <td>driver-R</td>\n",
       "      <td>24.35</td>\n",
       "      <td>chicago</td>\n",
       "      <td>2025-08-10 15:45:50</td>\n",
       "    </tr>\n",
       "    <tr>\n",
       "      <td>20250926092138358</td>\n",
       "      <td>uuid-001</td>\n",
       "      <td>rider-A</td>\n",
       "      <td>driver-X</td>\n",
       "      <td>18.50</td>\n",
       "      <td>new_york</td>\n",
       "      <td>2025-08-10 08:15:30</td>\n",
       "    </tr>\n",
       "    <tr>\n",
       "      <td>20250926092138358</td>\n",
       "      <td>uuid-004</td>\n",
       "      <td>rider-D</td>\n",
       "      <td>driver-W</td>\n",
       "      <td>31.90</td>\n",
       "      <td>new_york</td>\n",
       "      <td>2025-08-10 11:40:00</td>\n",
       "    </tr>\n",
       "    <tr>\n",
       "      <td>20250926092138358</td>\n",
       "      <td>uuid-008</td>\n",
       "      <td>rider-H</td>\n",
       "      <td>driver-S</td>\n",
       "      <td>16.25</td>\n",
       "      <td>new_york</td>\n",
       "      <td>2025-08-10 15:00:20</td>\n",
       "    </tr>\n",
       "    <tr>\n",
       "      <td>20250926092138358</td>\n",
       "      <td>uuid-010</td>\n",
       "      <td>rider-J</td>\n",
       "      <td>driver-Q</td>\n",
       "      <td>20.00</td>\n",
       "      <td>new_york</td>\n",
       "      <td>2025-08-10 16:30:00</td>\n",
       "    </tr>\n",
       "  </tbody>\n",
       "</table>"
      ],
      "text/plain": [
       "<IPython.core.display.HTML object>"
      ]
     },
     "metadata": {},
     "output_type": "display_data"
    }
   ],
   "source": [
    "morSnapshotQueryDF = spark.read \\\n",
    "        .format(\"hudi\") \\\n",
    "        .load(f\"{base_path}/{table_name_mor}\" + \"/*/*\")\n",
    "\n",
    "display(morSnapshotQueryDF.select(\"_hoodie_commit_time\", \"uuid\", \"rider\", \"driver\", \"fare\", \"city\", \"ts\"))"
   ]
  },
  {
   "cell_type": "markdown",
   "id": "c13f7e67-fb8e-42cf-bf8c-ecc2c27f7dac",
   "metadata": {},
   "source": [
    "### 2. Reading in Read-Optimized Mode\n",
    "Now, let's read the same table in read-optimized mode. This mode is faster because it only reads the base files, but it won't show any recent updates that are still in the log files."
   ]
  },
  {
   "cell_type": "code",
   "execution_count": 26,
   "id": "c81df8a3-e10d-44ee-98fe-5108554f0372",
   "metadata": {},
   "outputs": [
    {
     "data": {
      "text/html": [
       "\n",
       "    <style>\n",
       "        .dataframe {\n",
       "            border-radius: 0.5rem;\n",
       "            box-shadow: 0 4px 6px -1px rgba(0, 0, 0, 0.1), 0 2px 4px -1px rgba(0, 0, 0, 0.06);\n",
       "            overflow-x: auto;\n",
       "            border: 1px solid #e2e8f0;\n",
       "        }\n",
       "        .dataframe th {\n",
       "            background-color: #f1f5f9;\n",
       "            color: #1f2937;\n",
       "            font-weight: 600;\n",
       "            padding: 0.75rem 1.5rem;\n",
       "            text-align: left;\n",
       "            border-bottom: 2px solid #e2e8f0;\n",
       "        }\n",
       "        .dataframe td {\n",
       "            padding: 0.75rem 1.5rem;\n",
       "            border-bottom: 1px solid #e2e8f0;\n",
       "        }\n",
       "        .dataframe tr:nth-child(even) {\n",
       "            background-color: #f8fafc;\n",
       "        }\n",
       "        .dataframe tr:hover {\n",
       "            background-color: #e2e8f0;\n",
       "            transition: background-color 0.2s ease-in-out;\n",
       "        }\n",
       "    </style>\n",
       "    <table border=\"1\" class=\"dataframe w-full border-collapse text-sm text-gray-900 dark:text-white\">\n",
       "  <thead>\n",
       "    <tr style=\"text-align: right;\">\n",
       "      <th>_hoodie_commit_time</th>\n",
       "      <th>uuid</th>\n",
       "      <th>rider</th>\n",
       "      <th>driver</th>\n",
       "      <th>fare</th>\n",
       "      <th>city</th>\n",
       "      <th>ts</th>\n",
       "    </tr>\n",
       "  </thead>\n",
       "  <tbody>\n",
       "    <tr>\n",
       "      <td>20250926092138358</td>\n",
       "      <td>uuid-002</td>\n",
       "      <td>rider-B</td>\n",
       "      <td>driver-Y</td>\n",
       "      <td>22.75</td>\n",
       "      <td>san_francisco</td>\n",
       "      <td>2025-08-10 09:22:10</td>\n",
       "    </tr>\n",
       "    <tr>\n",
       "      <td>20250926092138358</td>\n",
       "      <td>uuid-005</td>\n",
       "      <td>rider-E</td>\n",
       "      <td>driver-V</td>\n",
       "      <td>25.10</td>\n",
       "      <td>san_francisco</td>\n",
       "      <td>2025-08-10 12:55:15</td>\n",
       "    </tr>\n",
       "    <tr>\n",
       "      <td>20250926092138358</td>\n",
       "      <td>uuid-007</td>\n",
       "      <td>rider-G</td>\n",
       "      <td>driver-T</td>\n",
       "      <td>28.45</td>\n",
       "      <td>san_francisco</td>\n",
       "      <td>2025-08-10 14:10:05</td>\n",
       "    </tr>\n",
       "    <tr>\n",
       "      <td>20250926092138358</td>\n",
       "      <td>uuid-001</td>\n",
       "      <td>rider-A</td>\n",
       "      <td>driver-X</td>\n",
       "      <td>18.50</td>\n",
       "      <td>new_york</td>\n",
       "      <td>2025-08-10 08:15:30</td>\n",
       "    </tr>\n",
       "    <tr>\n",
       "      <td>20250926092138358</td>\n",
       "      <td>uuid-004</td>\n",
       "      <td>rider-D</td>\n",
       "      <td>driver-W</td>\n",
       "      <td>31.90</td>\n",
       "      <td>new_york</td>\n",
       "      <td>2025-08-10 11:40:00</td>\n",
       "    </tr>\n",
       "    <tr>\n",
       "      <td>20250926092138358</td>\n",
       "      <td>uuid-008</td>\n",
       "      <td>rider-H</td>\n",
       "      <td>driver-S</td>\n",
       "      <td>16.25</td>\n",
       "      <td>new_york</td>\n",
       "      <td>2025-08-10 15:00:20</td>\n",
       "    </tr>\n",
       "    <tr>\n",
       "      <td>20250926092138358</td>\n",
       "      <td>uuid-010</td>\n",
       "      <td>rider-J</td>\n",
       "      <td>driver-Q</td>\n",
       "      <td>20.00</td>\n",
       "      <td>new_york</td>\n",
       "      <td>2025-08-10 16:30:00</td>\n",
       "    </tr>\n",
       "    <tr>\n",
       "      <td>20250926092138358</td>\n",
       "      <td>uuid-003</td>\n",
       "      <td>rider-C</td>\n",
       "      <td>driver-Z</td>\n",
       "      <td>14.60</td>\n",
       "      <td>chicago</td>\n",
       "      <td>2025-08-10 10:05:45</td>\n",
       "    </tr>\n",
       "    <tr>\n",
       "      <td>20250926092138358</td>\n",
       "      <td>uuid-006</td>\n",
       "      <td>rider-F</td>\n",
       "      <td>driver-U</td>\n",
       "      <td>19.80</td>\n",
       "      <td>chicago</td>\n",
       "      <td>2025-08-10 13:20:35</td>\n",
       "    </tr>\n",
       "    <tr>\n",
       "      <td>20250926092138358</td>\n",
       "      <td>uuid-009</td>\n",
       "      <td>rider-I</td>\n",
       "      <td>driver-R</td>\n",
       "      <td>24.35</td>\n",
       "      <td>chicago</td>\n",
       "      <td>2025-08-10 15:45:50</td>\n",
       "    </tr>\n",
       "  </tbody>\n",
       "</table>"
      ],
      "text/plain": [
       "<IPython.core.display.HTML object>"
      ]
     },
     "metadata": {},
     "output_type": "display_data"
    }
   ],
   "source": [
    "mor_ro_df = spark.read.format(\"hudi\") \\\n",
    "    .option(\"hoodie.datasource.query.type\", \"read_optimized\") \\\n",
    "    .load(f\"{base_path}/{table_name_mor}\")\n",
    "\n",
    "display(mor_ro_df.select(\"_hoodie_commit_time\", \"uuid\", \"rider\", \"driver\", \"fare\", \"city\", \"ts\"))"
   ]
  },
  {
   "cell_type": "markdown",
   "id": "2b7fdb57-71e0-4f94-ac4d-0a7b8f720415",
   "metadata": {},
   "source": [
    "### Updating a Record in the MOR table\n",
    "Let's update a record in our MOR table to see how it affects our read modes. We'll find the record for 'driver-W' and double its fare."
   ]
  },
  {
   "cell_type": "code",
   "execution_count": 27,
   "id": "977b2f20-18c3-4e66-b517-450a4c9dbd5b",
   "metadata": {},
   "outputs": [
    {
     "data": {
      "text/html": [
       "\n",
       "    <style>\n",
       "        .dataframe {\n",
       "            border-radius: 0.5rem;\n",
       "            box-shadow: 0 4px 6px -1px rgba(0, 0, 0, 0.1), 0 2px 4px -1px rgba(0, 0, 0, 0.06);\n",
       "            overflow-x: auto;\n",
       "            border: 1px solid #e2e8f0;\n",
       "        }\n",
       "        .dataframe th {\n",
       "            background-color: #f1f5f9;\n",
       "            color: #1f2937;\n",
       "            font-weight: 600;\n",
       "            padding: 0.75rem 1.5rem;\n",
       "            text-align: left;\n",
       "            border-bottom: 2px solid #e2e8f0;\n",
       "        }\n",
       "        .dataframe td {\n",
       "            padding: 0.75rem 1.5rem;\n",
       "            border-bottom: 1px solid #e2e8f0;\n",
       "        }\n",
       "        .dataframe tr:nth-child(even) {\n",
       "            background-color: #f8fafc;\n",
       "        }\n",
       "        .dataframe tr:hover {\n",
       "            background-color: #e2e8f0;\n",
       "            transition: background-color 0.2s ease-in-out;\n",
       "        }\n",
       "    </style>\n",
       "    <table border=\"1\" class=\"dataframe w-full border-collapse text-sm text-gray-900 dark:text-white\">\n",
       "  <thead>\n",
       "    <tr style=\"text-align: right;\">\n",
       "      <th>uuid</th>\n",
       "      <th>rider</th>\n",
       "      <th>driver</th>\n",
       "      <th>fare</th>\n",
       "      <th>city</th>\n",
       "      <th>ts</th>\n",
       "    </tr>\n",
       "  </thead>\n",
       "  <tbody>\n",
       "    <tr>\n",
       "      <td>uuid-004</td>\n",
       "      <td>rider-D</td>\n",
       "      <td>driver-W</td>\n",
       "      <td>63.8</td>\n",
       "      <td>new_york</td>\n",
       "      <td>2025-08-10 11:40:00</td>\n",
       "    </tr>\n",
       "  </tbody>\n",
       "</table>"
      ],
      "text/plain": [
       "<IPython.core.display.HTML object>"
      ]
     },
     "metadata": {},
     "output_type": "display_data"
    }
   ],
   "source": [
    "from pyspark.sql.functions import col\n",
    "updatesDF = spark.read.format(\"hudi\").load(f\"{base_path}/{table_name_mor}\").filter(col(\"driver\") == \"driver-W\").withColumn(\"fare\", col(\"fare\") * 2)\n",
    "\n",
    "display(updatesDF.select(\"uuid\", \"rider\", \"driver\", \"fare\", \"city\", \"ts\"))"
   ]
  },
  {
   "cell_type": "markdown",
   "id": "91eb7c9d-407f-4ca3-a803-d856d3780616",
   "metadata": {},
   "source": [
    "Now we perform the upsert. In a MOR table, this update will be written to a log file, separate from the main Parquet data files."
   ]
  },
  {
   "cell_type": "code",
   "execution_count": 28,
   "id": "fa3ff393-d819-4a9a-bacb-8ec2fb2381f7",
   "metadata": {},
   "outputs": [],
   "source": [
    "updatesDF.write \\\n",
    "    .format(\"hudi\") \\\n",
    "    .option(\"hoodie.datasource.write.operation\", \"upsert\") \\\n",
    "    .options(**mor_hudi_conf) \\\n",
    "    .mode(\"append\") \\\n",
    "    .save(f\"{base_path}/{table_name_mor}\")"
   ]
  },
  {
   "cell_type": "code",
   "execution_count": 29,
   "id": "9386987b-b9e1-4945-85cd-eb4cdfeaefbd",
   "metadata": {},
   "outputs": [
    {
     "name": "stdout",
     "output_type": "stream",
     "text": [
      "s3a://warehouse/hudi-db/trips_table_mor/city=new_york/.6162e656-529e-475e-9848-add94ca9429a-0_20250926092140565.log.1_0-194-504\n",
      "s3a://warehouse/hudi-db/trips_table_mor/city=new_york/.hoodie_partition_metadata\n",
      "s3a://warehouse/hudi-db/trips_table_mor/city=new_york/6162e656-529e-475e-9848-add94ca9429a-0_2-148-385_20250926092138358.parquet\n"
     ]
    }
   ],
   "source": [
    "ls(f\"{base_path}/{table_name_mor}/city=new_york\")"
   ]
  },
  {
   "cell_type": "markdown",
   "id": "6878f4ae-cdb5-45dd-b838-6c4784790e37",
   "metadata": {},
   "source": [
    "After the update, a snapshot query correctly shows the new fare for 'driver-W'. This is because the log files containing our update were merged with the base files during this read operation."
   ]
  },
  {
   "cell_type": "code",
   "execution_count": 30,
   "id": "ecb09236-ae79-4d1f-b479-c06a80b91ef0",
   "metadata": {},
   "outputs": [
    {
     "data": {
      "text/html": [
       "\n",
       "    <style>\n",
       "        .dataframe {\n",
       "            border-radius: 0.5rem;\n",
       "            box-shadow: 0 4px 6px -1px rgba(0, 0, 0, 0.1), 0 2px 4px -1px rgba(0, 0, 0, 0.06);\n",
       "            overflow-x: auto;\n",
       "            border: 1px solid #e2e8f0;\n",
       "        }\n",
       "        .dataframe th {\n",
       "            background-color: #f1f5f9;\n",
       "            color: #1f2937;\n",
       "            font-weight: 600;\n",
       "            padding: 0.75rem 1.5rem;\n",
       "            text-align: left;\n",
       "            border-bottom: 2px solid #e2e8f0;\n",
       "        }\n",
       "        .dataframe td {\n",
       "            padding: 0.75rem 1.5rem;\n",
       "            border-bottom: 1px solid #e2e8f0;\n",
       "        }\n",
       "        .dataframe tr:nth-child(even) {\n",
       "            background-color: #f8fafc;\n",
       "        }\n",
       "        .dataframe tr:hover {\n",
       "            background-color: #e2e8f0;\n",
       "            transition: background-color 0.2s ease-in-out;\n",
       "        }\n",
       "    </style>\n",
       "    <table border=\"1\" class=\"dataframe w-full border-collapse text-sm text-gray-900 dark:text-white\">\n",
       "  <thead>\n",
       "    <tr style=\"text-align: right;\">\n",
       "      <th>_hoodie_commit_time</th>\n",
       "      <th>uuid</th>\n",
       "      <th>rider</th>\n",
       "      <th>driver</th>\n",
       "      <th>fare</th>\n",
       "      <th>city</th>\n",
       "      <th>ts</th>\n",
       "    </tr>\n",
       "  </thead>\n",
       "  <tbody>\n",
       "    <tr>\n",
       "      <td>20250926092140565</td>\n",
       "      <td>uuid-004</td>\n",
       "      <td>rider-D</td>\n",
       "      <td>driver-W</td>\n",
       "      <td>63.8</td>\n",
       "      <td>new_york</td>\n",
       "      <td>2025-08-10 11:40:00</td>\n",
       "    </tr>\n",
       "  </tbody>\n",
       "</table>"
      ],
      "text/plain": [
       "<IPython.core.display.HTML object>"
      ]
     },
     "metadata": {},
     "output_type": "display_data"
    }
   ],
   "source": [
    "morSnapshotQueryDF = spark.read.format(\"hudi\").load(f\"{base_path}/{table_name_mor}\")\n",
    "display(morSnapshotQueryDF.select(\"_hoodie_commit_time\", \"uuid\", \"rider\", \"driver\", \"fare\", \"city\", \"ts\").filter(col(\"driver\") == \"driver-W\"))"
   ]
  },
  {
   "cell_type": "markdown",
   "id": "f5cce817-4a08-40dc-99f8-921b36528c11",
   "metadata": {},
   "source": [
    "Finally, a read-optimized query of the same table still shows the old fare for 'driver-W'. This is because the read-optimized query only looks at the base data files and ignores the unmerged update in the log file."
   ]
  },
  {
   "cell_type": "code",
   "execution_count": 31,
   "id": "bcd2e04f-2256-4b08-8d77-70c597478cbd",
   "metadata": {},
   "outputs": [
    {
     "data": {
      "text/html": [
       "\n",
       "    <style>\n",
       "        .dataframe {\n",
       "            border-radius: 0.5rem;\n",
       "            box-shadow: 0 4px 6px -1px rgba(0, 0, 0, 0.1), 0 2px 4px -1px rgba(0, 0, 0, 0.06);\n",
       "            overflow-x: auto;\n",
       "            border: 1px solid #e2e8f0;\n",
       "        }\n",
       "        .dataframe th {\n",
       "            background-color: #f1f5f9;\n",
       "            color: #1f2937;\n",
       "            font-weight: 600;\n",
       "            padding: 0.75rem 1.5rem;\n",
       "            text-align: left;\n",
       "            border-bottom: 2px solid #e2e8f0;\n",
       "        }\n",
       "        .dataframe td {\n",
       "            padding: 0.75rem 1.5rem;\n",
       "            border-bottom: 1px solid #e2e8f0;\n",
       "        }\n",
       "        .dataframe tr:nth-child(even) {\n",
       "            background-color: #f8fafc;\n",
       "        }\n",
       "        .dataframe tr:hover {\n",
       "            background-color: #e2e8f0;\n",
       "            transition: background-color 0.2s ease-in-out;\n",
       "        }\n",
       "    </style>\n",
       "    <table border=\"1\" class=\"dataframe w-full border-collapse text-sm text-gray-900 dark:text-white\">\n",
       "  <thead>\n",
       "    <tr style=\"text-align: right;\">\n",
       "      <th>_hoodie_commit_time</th>\n",
       "      <th>uuid</th>\n",
       "      <th>rider</th>\n",
       "      <th>driver</th>\n",
       "      <th>fare</th>\n",
       "      <th>city</th>\n",
       "      <th>ts</th>\n",
       "    </tr>\n",
       "  </thead>\n",
       "  <tbody>\n",
       "    <tr>\n",
       "      <td>20250926092138358</td>\n",
       "      <td>uuid-004</td>\n",
       "      <td>rider-D</td>\n",
       "      <td>driver-W</td>\n",
       "      <td>31.9</td>\n",
       "      <td>new_york</td>\n",
       "      <td>2025-08-10 11:40:00</td>\n",
       "    </tr>\n",
       "  </tbody>\n",
       "</table>"
      ],
      "text/plain": [
       "<IPython.core.display.HTML object>"
      ]
     },
     "metadata": {},
     "output_type": "display_data"
    }
   ],
   "source": [
    "mor_ro_df = spark.read.format(\"hudi\") \\\n",
    "    .option(\"hoodie.datasource.query.type\", \"read_optimized\") \\\n",
    "    .load(f\"{base_path}/{table_name_mor}\")\n",
    "\n",
    "display(mor_ro_df.select(\"_hoodie_commit_time\", \"uuid\", \"rider\", \"driver\", \"fare\", \"city\", \"ts\").filter(col(\"driver\") == \"driver-W\"))"
   ]
  }
 ],
 "metadata": {
  "kernelspec": {
   "display_name": "Python 3 (ipykernel)",
   "language": "python",
   "name": "python3"
  },
  "language_info": {
   "codemirror_mode": {
    "name": "ipython",
    "version": 3
   },
   "file_extension": ".py",
   "mimetype": "text/x-python",
   "name": "python",
   "nbconvert_exporter": "python",
   "pygments_lexer": "ipython3",
   "version": "3.10.14"
  }
 },
 "nbformat": 4,
 "nbformat_minor": 5
}
